{
  "nbformat": 4,
  "nbformat_minor": 0,
  "metadata": {
    "colab": {
      "provenance": []
    },
    "kernelspec": {
      "name": "python3",
      "display_name": "Python 3"
    },
    "language_info": {
      "name": "python"
    }
  },
  "cells": [
    {
      "cell_type": "markdown",
      "source": [
        "<img src='https://upload.wikimedia.org/wikipedia/commons/thumb/a/aa/Logo_DuocUC.svg/2560px-Logo_DuocUC.svg.png' width=50%, height=20%>"
      ],
      "metadata": {
        "id": "RRpcqGE4vXr6"
      }
    },
    {
      "cell_type": "markdown",
      "source": [
        "Esta notebook fue creada originalmente como un blog post por Raúl E. López Briega en Matemáticas, análisis de datos y python. El contenido esta bajo la licencia BSD."
      ],
      "metadata": {
        "id": "AL6By_IVPgYY"
      }
    },
    {
      "cell_type": "markdown",
      "source": [
        "# INTRODUCCION\n",
        "\n",
        "Las actividades que desarrollaremos en este laboratorio son las siguientes:\n",
        "\n",
        "\n",
        "*   Revisar la Teoría de los Grandes Números en probabilidades\n",
        "*   El Teorema del Límite Central\n",
        "\n",
        "\n",
        "*   Ejemplo uno de probabilidad : la coincidencia de cumpleaños\n",
        "*   Ejemplo dos de probabilidad : ¿qué puerta elegir?\n",
        "\n",
        "\n",
        "\n",
        "\n",
        "\n",
        "\n",
        "\n"
      ],
      "metadata": {
        "id": "y2_YSoSAo5ek"
      }
    },
    {
      "cell_type": "code",
      "source": [
        "import matplotlib.pyplot as plt\n",
        "import numpy as np\n",
        "import pandas as pd\n",
        "\n",
        "np.random.seed(2131982) #para poder replicar el random\n",
        "\n",
        "%matplotlib inline"
      ],
      "metadata": {
        "id": "-NpDtDA5m1Zo"
      },
      "execution_count": null,
      "outputs": []
    },
    {
      "cell_type": "markdown",
      "source": [
        "# LEY DE GRANDES NÚMEROS: \n",
        "\n",
        "Si se repite un experimento aleatorio, bajo las mismas condiciones, un número ilimitado de veces; y si estas repeticiones son independientes la una de la otra, entonces la frecuencia de veces que un evento A ocurra, convergerá con probabilidad 1 a un número que es igual a la probabilidad de que A ocurra en una sola repetición del experimento.\n",
        "\n",
        "Un error que la gente suele cometer y asociar a esta ley, es la idea de que un evento tiene más posibilidades de ocurrir porque ha o no ha ocurrido recientemente. Esta idea de que las chances de un evento con una probabilidad fija, aumentan o disminuyen dependiendo de las ocurrencias recientes del evento, es un error que se conoce bajo el nombre de la **falacia del apostador**.\n"
      ],
      "metadata": {
        "id": "uPTSpCWFp_gk"
      }
    },
    {
      "cell_type": "markdown",
      "source": [
        "Utilicemos el ejemplo del lanzamiento de la moneda, en el primer ejemplo, la moneda va a tener la misma posibilidad de caer en cara o sello; mientras que en el segundo ejemplo, vamos a modificar la probabilidad de la moneda para que caiga cara solo en 1 de 6 veces."
      ],
      "metadata": {
        "id": "9cvSkpCDqQD7"
      }
    },
    {
      "cell_type": "code",
      "execution_count": null,
      "metadata": {
        "id": "2A_yRozhe5qu"
      },
      "outputs": [],
      "source": [
        "\n",
        "# Ejemplo ley de grandes números\n",
        "# moneda p=1/2 cara=1 seca=0\n",
        "resultados = []\n",
        "for lanzamientos in range(1,10000):\n",
        "    lanzamientos = np.random.choice([0,1], lanzamientos) \n",
        "    caras = lanzamientos.mean()\n",
        "    resultados.append(caras)\n",
        "\n",
        "# graficamente\n",
        "df = pd.DataFrame({ 'lanzamientos' : resultados})\n",
        "\n",
        "df.plot(title='Ley de grandes números',color='r',figsize=(8, 6))\n",
        "plt.axhline(0.5)\n",
        "plt.xlabel(\"Número de lanzamientos\")\n",
        "plt.ylabel(\"frecuencia caras\")\n",
        "plt.show()"
      ]
    },
    {
      "cell_type": "code",
      "source": [
        "\n",
        "# moneda p=1/6 cara=1 seca=0\n",
        "resultados = []\n",
        "for lanzamientos in range(1,10000):\n",
        "    lanzamientos = np.random.choice([0,1], lanzamientos, p=[5/6, 1/6]) \n",
        "    caras = lanzamientos.mean()\n",
        "    resultados.append(caras)\n",
        "\n",
        "# graficamente\n",
        "df = pd.DataFrame({ 'lanzamientos' : resultados})\n",
        "\n",
        "df.plot(title='Ley de grandes números',color='r',figsize=(8, 6))\n",
        "plt.axhline(1/6)\n",
        "plt.xlabel(\"Número de lanzamientos\")\n",
        "plt.ylabel(\"frecuencia caras\")\n",
        "plt.show()"
      ],
      "metadata": {
        "id": "avLI8BRYiLin"
      },
      "execution_count": null,
      "outputs": []
    },
    {
      "cell_type": "markdown",
      "source": [
        "CONCLUSION: al comienzo, la frecuencia en que vamos obteniendo caras va variando considerablemente, pero a medida que aumentamos el número de repeticiones, la frecuencia de caras se va estabilizando en la probabilidad subyacente el evento, 1 de 2 (50%) para el primer caso y 1 de 6 para el segundo ejemplo (16%). En los gráficos podemos ver claramente el comportamiento de la ley."
      ],
      "metadata": {
        "id": "ckCz7Fahqb0J"
      }
    },
    {
      "cell_type": "markdown",
      "source": [
        "EJERCICIO : prueba modicar la probilidad del segundo caso y ve que ocurre."
      ],
      "metadata": {
        "id": "XbaRpiuSqwZO"
      }
    },
    {
      "cell_type": "markdown",
      "source": [
        "# LEY DEL LÍMITE CENTRAL: \n",
        "\n",
        "Este teorema establece que la suma o el promedio de casi cualquier conjunto de variables independientes generadas al azar se aproximan a la Distribución Normal. El Teorema del límite central explica por qué la Distribución Normal surge tan comúnmente y por qué es generalmente una aproximación excelente para la media de casi cualquier colección de datos."
      ],
      "metadata": {
        "id": "ctzOMwVPrO2h"
      }
    },
    {
      "cell_type": "code",
      "source": [
        "\n",
        "# Ejemplo teorema del límite central\n",
        "muestra_binomial = []\n",
        "muestra_exp = []\n",
        "muestra_possion = []\n",
        "muestra_geometric = []\n",
        "mu = .9\n",
        "lam = 1.0\n",
        "size=1000\n",
        "\n",
        "for i in range(1,20000):\n",
        "    muestra = np.random.binomial(1, mu, size=size)\n",
        "    muestra_binomial.append(muestra.mean())\n",
        "    muestra = np.random.exponential(scale=2.0,size=size)\n",
        "    muestra_exp.append(muestra.mean())\n",
        "    muestra = np.random.geometric(p=.5, size=size)\n",
        "    muestra_geometric.append(muestra.mean())\n",
        "    muestra = np.random.poisson (lam=lam, size=size)\n",
        "    muestra_possion.append(muestra.mean()) \n",
        "\n",
        "df = pd.DataFrame({ 'binomial' : muestra_binomial, \n",
        "                     'poission' : muestra_possion,\n",
        "                     'geometrica' : muestra_geometric,\n",
        "                    'exponencial' : muestra_exp})\n",
        "\n",
        "fig, axes = plt.subplots(nrows=2, ncols=2, figsize=(10,10))\n",
        "df.binomial.hist(ax=axes[0,0], alpha=0.9, bins=1000)\n",
        "df.exponencial.hist(ax=axes[0,1],bins=1000)\n",
        "df.poission.hist(ax=axes[1,0],bins=1000)\n",
        "df.geometrica.hist(ax=axes[1,1],bins=1000)\n",
        "\n",
        "axes[0,0].set_title('Binomial')\n",
        "axes[0,1].set_title('Poisson')\n",
        "axes[1,0].set_title('Geométrica')\n",
        "axes[1,1].set_title('Exponencial')\n",
        "plt.show()"
      ],
      "metadata": {
        "id": "ii4Vb5bViYly"
      },
      "execution_count": null,
      "outputs": []
    },
    {
      "cell_type": "markdown",
      "source": [
        "# CONCLUSION\n",
        "\n",
        "Al graficar la distribución de las medias de las distribuciones Binomial, Poisson, Geométrica y Exponencial; vemos que todas ellas responden a la famosa forma de campana de la Distribución Normal!"
      ],
      "metadata": {
        "id": "Fk89G5S4rgbS"
      }
    },
    {
      "cell_type": "markdown",
      "source": [
        "# LA COINCIDENCIA DE CUMPLEAÑOS\n",
        "\n",
        " ¿Cuál es la probabilidad de que, en un grupo de personas elegidas al azar, al menos dos de ellas habrán nacido el mismo día del año? ¿Cuántas personas son necesarias para asegurar una probabilidad mayor al 50%?. Excluyendo el 29 de febrero de nuestros cálculos y asumiendo que los restantes 365 días de posibles cumpleaños son igualmente probables, nos sorprendería darnos cuenta de que, en un grupo de sólo 23 personas, la probabilidad de que dos personas compartan la misma fecha de cumpleaños es mayor al 50%!."
      ],
      "metadata": {
        "id": "HjNE0kUprqcJ"
      }
    },
    {
      "cell_type": "markdown",
      "source": [
        "Supongamos que el grupo sólo tiene una persona, en ese caso, hay una probabilidad del 100% que esta persona no comparte un cumpleaños puesto que no hay nadie más quien compartir. Pero ahora podemos añadir una segunda persona al grupo. ¿Cuáles son las posibilidades de que tenga un cumpleaños diferente de esa persona? De hecho esto es bastante fácil, hay 364 otros días en el año, así que las posibilidades son 364/365. ¿Qué tal si agregamos una tercera persona al grupo? Ahora hay 363/365 días. Para obtener la probabilidad general de que no hay cumpleaños compartidos simplemente multiplicamos las probabilidades individuales."
      ],
      "metadata": {
        "id": "xSjaLW3gsPRP"
      }
    },
    {
      "cell_type": "code",
      "source": [
        "\n",
        "# Ejemplo situación 2 La coincidencia de cumpleaños\n",
        "prob = 1.0\n",
        "asistentes = 50\n",
        "\n",
        "for i in range(asistentes):\n",
        "    prob = prob * (365-i)/365\n",
        "\n",
        "print(\"Probabilidad de que compartan una misma fecha de cumpleaños es {0:.2f}\"\n",
        "      .format(1 - prob))"
      ],
      "metadata": {
        "id": "4mX5du5sipxs"
      },
      "execution_count": null,
      "outputs": []
    },
    {
      "cell_type": "markdown",
      "source": [
        "EJERCICIO : prueba con más asistentes y con menos asistentes al cumpleaños. ¿Qué tipo de probabilidad se aplica en este ejercicio?"
      ],
      "metadata": {
        "id": "kRBJ7RDrsc6S"
      }
    },
    {
      "cell_type": "markdown",
      "source": [
        "# ¿QUÉ PUERTA ELEGIR?\n",
        "\n",
        "Este es un famoso juego de programas de TV. Se trata de elegir entre tres puertas, de las cuales una esconde un premio. Intuitivamente, es bastante sencillo que nuestra elección original (cuando hay tres puertas para elegir) tiene una probabilidad de 1/3 de ganar el concurso. Las cosas sin embargo se complican, cuando se descarta una puerta. Muchos dirían que ahora tenemos una probabilidad de 1/2 de ganar, seleccionando cualquiera de las dos puertas; pero este no es el caso. Un aspecto crítico del problema es darse cuenta de que la elección de la puerta a descartar por el Animador, no es una decisión al azar. El Animador puede descartar una puerta porque él sabe (a) qué puerta hemos seleccionado y (b) qué puerta tiene el premio. De hecho, en muchos casos, el presentador debe quitar una puerta específica. Por ejemplo, si seleccionamos la puerta 1 y el premio está detrás de la puerta 3, el presentador no tiene otra opción que retirar la puerta 2. Es decir, que **la elección de la puerta a descartar está condicionada tanto por la puerta con el premio como por la puerta que seleccionamos inicialmente**. Este hecho, cambia totalmente la naturaleza del juego, y hace que las probabilidades de ganar sean 2/3 si cambiamos de puerta!.\n"
      ],
      "metadata": {
        "id": "FL2NiAfhtDwc"
      }
    },
    {
      "cell_type": "code",
      "source": [
        "#\n",
        "# <!-- collapse=True -->\n",
        "# Ejemplo situación 2 ¿Que puerta elegir? (el problema Monty Hall)\n",
        "def elegir_puerta():\n",
        "    \"\"\"\n",
        "    Función para elegir una puerta. Devuelve 1, 2, o 3 en forma aleatoria.\n",
        "    \"\"\"\n",
        "    return np.random.randint(1,4)\n",
        "\n",
        "\n",
        "class MontyHall:\n",
        "    \"\"\"\n",
        "    Clase para modelar el problema de Monty Hall.\n",
        "    \"\"\"\n",
        "    def __init__(self):\n",
        "        \"\"\"\n",
        "        Crea la instancia del problema. \n",
        "        \"\"\"\n",
        "        # Elige una puerta en forma aleatoria.\n",
        "        self.puerta_ganadora = elegir_puerta()\n",
        "        # variables para la puerta elegida y la puerta descartada\n",
        "        self.puerta_elegida = None\n",
        "        self.puerta_descartada = None\n",
        "\n",
        "    def selecciona_puerta(self):\n",
        "        \"\"\"\n",
        "        Selecciona la puerta del concursante en forma aleatoria.\n",
        "        \"\"\"\n",
        "        self.puerta_elegida = elegir_puerta()\n",
        " \n",
        "    def descarta_puerta(self):\n",
        "        \"\"\"\n",
        "        Con este método el presentador descarta una de la puertas.\n",
        "        \"\"\"\n",
        "        # elegir puerta en forma aleatoria .\n",
        "        d = elegir_puerta()\n",
        "        # Si es al puerta ganadora o la del concursante, volver a elegir.\n",
        "        while d == self.puerta_ganadora or d == self.puerta_elegida:\n",
        "            d = elegir_puerta()\n",
        "        # Asignar el valor a puerta_descartada.\n",
        "        self.puerta_descartada = d\n",
        "\n",
        "\n",
        "\n",
        "    def cambiar_puerta(self):\n",
        "        \"\"\"\n",
        "        Cambia la puerta del concursante una vez que se elimino una puerta.\n",
        "        \"\"\"\n",
        "        # 1+2+3=6. Solo existe una puerta para elegir.\n",
        "        self.puerta_elegida = 6 - self.puerta_elegida - self.puerta_descartada\n",
        " \n",
        "    def gana_concursante(self):\n",
        "        \"\"\"\n",
        "        Determina si el concursante gana. \n",
        "        Devuelve True si gana, False si pierde.\n",
        "        \"\"\"\n",
        "        return self.puerta_elegida == self.puerta_ganadora\n",
        "           \n",
        " \n",
        "    def jugar(self, cambiar=True):\n",
        "        \"\"\"\n",
        "        Una vez que la clase se inicio, jugar el concurso.\n",
        " \n",
        "        'cambiar' determina si el concursante cambia su elección.\n",
        "        \"\"\"\n",
        "        # El concursante elige una puerta.\n",
        "        self.selecciona_puerta()\n",
        "        # El presentador elimina una puerta.\n",
        "        self.descarta_puerta()\n",
        "        # El concursante cambia su elección.\n",
        "        if cambiar:\n",
        "            self.cambiar_puerta()\n",
        "        # Determinar si el concursante ha ganado.\n",
        "        return self.gana_concursante()"
      ],
      "metadata": {
        "id": "48elXyltjgA4"
      },
      "execution_count": null,
      "outputs": []
    },
    {
      "cell_type": "code",
      "source": [
        "# Ahora, jugamos el concurso. primero nos vamos a quedar con nuestra elección\n",
        "# inicial. Vamos a ejecutar el experimiento 10.000 veces.\n",
        "gana, pierde = 0, 0\n",
        "for i in range(10000):\n",
        "    # Crear la instancia del problema.\n",
        "    s2 = MontyHall()\n",
        "    # ejecutar el concurso sin cambiar de puerta..\n",
        "    if s2.jugar(cambiar=False):\n",
        "        # si devuelve True significa que gana.\n",
        "        gana += 1\n",
        "    else:\n",
        "        # si devuelve False significa que pierde.\n",
        "        pierde += 1\n",
        "\n",
        "# veamos la fecuencia de victorias del concursante.\n",
        "porc_gana = 100.0 * gana / (gana + pierde)\n",
        " \n",
        "print(\"\\n10.000 concursos sin cambiar de puerta:\")\n",
        "print(\"  gana: {0:} concursos\".format(gana))\n",
        "print(\"  pierde: {0:} concursos\".format(pierde))\n",
        "print(\"  probabilidad: {0:.2f} procentaje de victorias\".format(porc_gana))"
      ],
      "metadata": {
        "id": "Dub8eaAJi5HX"
      },
      "execution_count": null,
      "outputs": []
    },
    {
      "cell_type": "code",
      "source": [
        "# Ahora, jugamos el concurso siempre cambiando la elección inicial\n",
        "# Vamos a ejecutar el experimiento 10.000 veces.\n",
        "gana, pierde = 0, 0\n",
        "for i in range(10000):\n",
        "    # Crear la instancia del problema.\n",
        "    s2 = MontyHall()\n",
        "    # ejecutar el concurso sin cambiar de puerta..\n",
        "    if s2.jugar(cambiar=True):\n",
        "        # si devuelve True significa que gana.\n",
        "        gana += 1\n",
        "    else:\n",
        "        # si devuelve False significa que pierde.\n",
        "        pierde += 1\n",
        "\n",
        "# veamos la fecuencia de victorias del concursante.\n",
        "porc_gana = 100.0 * gana / (gana + pierde)\n",
        " \n",
        "print(\"\\n10.000 concursos cambiando de puerta:\")\n",
        "print(\"  gana: {0:} concursos\".format(gana))\n",
        "print(\"  pierde: {0:} concursos\".format(pierde))\n",
        "print(\"  probabilidad: {0:.2f} procentaje de victorias\".format(porc_gana))"
      ],
      "metadata": {
        "id": "Q-xOtVUGoMzs"
      },
      "execution_count": null,
      "outputs": []
    },
    {
      "cell_type": "markdown",
      "source": [
        "CONCLUSION : Como esta simulación lo demuestra, si utilizamos la estrategia de siempre cambiar de puerta, podemos ganar el concurso un 66% de las veces; mientras que si nos quedamos con nuestra elección inicial, solo ganaríamos el 33% de las veces."
      ],
      "metadata": {
        "id": "Qhaw6djyt7Hx"
      }
    },
    {
      "cell_type": "markdown",
      "source": [
        "EJERCICIO: ¿qué tipo de probabilidad se ocupó acá? intenta mejorar la probabilidad de ganar"
      ],
      "metadata": {
        "id": "xMYeJyxHuB9I"
      }
    }
  ]
}