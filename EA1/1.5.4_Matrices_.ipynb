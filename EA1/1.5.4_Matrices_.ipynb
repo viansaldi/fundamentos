{
  "nbformat": 4,
  "nbformat_minor": 0,
  "metadata": {
    "colab": {
      "provenance": []
    },
    "kernelspec": {
      "name": "python3",
      "display_name": "Python 3"
    },
    "language_info": {
      "name": "python"
    }
  },
  "cells": [
    {
      "cell_type": "markdown",
      "source": [
        "<img src='https://upload.wikimedia.org/wikipedia/commons/thumb/a/aa/Logo_DuocUC.svg/2560px-Logo_DuocUC.svg.png' width=50%, height=20%>"
      ],
      "metadata": {
        "id": "8G_kuP7pwa-i"
      }
    },
    {
      "cell_type": "markdown",
      "source": [
        "# Introducción\n",
        "\n",
        "Matrices y Aritmetica de Matrices para Machine Learning\n",
        "Extracto de código generado por Jason Brownlee\n",
        "*\n",
        "## Para este ejercicio usaremos la biblioteca NUMPY\n",
        "\n",
        "NumPy es una librería de Python para computación científica. NumPy significa  Python numérico. \n",
        "\n",
        "El principal beneficio de NumPy es que permite una generación y manejo de datos extremadamente rápido. NumPy tiene su propia estructura de datos incorporada llamado arreglo que es similar a la lista normal de Python, pero puede almacenar y operar con datos de manera mucho más eficiente.\n",
        "\n",
        "Hay dos tipos diferentes de arreglos de NumPy: vectores y matrices.\n",
        "\n",
        "\n"
      ],
      "metadata": {
        "id": "p3rbyRw_iseJ"
      }
    },
    {
      "cell_type": "code",
      "execution_count": null,
      "metadata": {
        "id": "jFaPPCCug_TJ"
      },
      "outputs": [],
      "source": [
        "# creación de matrices\n",
        "from numpy import array\n",
        "A = array([[1, 2, 3], [4, 5, 6]])\n",
        "print(A)"
      ]
    },
    {
      "cell_type": "code",
      "source": [
        "# suma de matrices\n",
        "from numpy import array\n",
        "A = array([[1, 2, 3], [4, 5, 6]])\n",
        "print(A)\n",
        "B = array([[1, 2, 3], [4, 5, 6]])\n",
        "print(B)\n",
        "C = A + B\n",
        "print(C)"
      ],
      "metadata": {
        "id": "ym527992hKUs"
      },
      "execution_count": null,
      "outputs": []
    },
    {
      "cell_type": "code",
      "source": [
        "# resta de matrices matrices\n",
        "from numpy import array\n",
        "A = array([[1, 2, 3], [4, 5, 6]])\n",
        "print(A)\n",
        "B = array([[0.5, 0.5, 0.5], [0.5, 0.5, 0.5]])\n",
        "print(B)\n",
        "C = A - B\n",
        "print(C)"
      ],
      "metadata": {
        "id": "zoeCEUXdhgof"
      },
      "execution_count": null,
      "outputs": []
    },
    {
      "cell_type": "markdown",
      "source": [
        "# Producto Hadamart o multiplicación de matrices\n",
        "Dos matrices con el mismo tamaño se pueden multiplicar juntas, y esto a menudo se denomina multiplicación de matrices por elementos o producto de Hadamard.\n",
        "\n",
        "."
      ],
      "metadata": {
        "id": "9qniy6SIjfNJ"
      }
    },
    {
      "cell_type": "code",
      "source": [
        "# element-wise multiply matrices\n",
        "from numpy import array\n",
        "A = array([[1, 2, 3], [4, 5, 6]])\n",
        "print(A)\n",
        "B = array([[1, 2, 3], [4, 5, 6]])\n",
        "print(B)\n",
        "C = A * B\n",
        "print(C)"
      ],
      "metadata": {
        "id": "4ReD44Sthj_x"
      },
      "execution_count": null,
      "outputs": []
    },
    {
      "cell_type": "code",
      "source": [
        "# divide matrices\n",
        "from numpy import array\n",
        "A = array([[1, 2, 3], [4, 5, 6]])\n",
        "print(A)\n",
        "B = array([[1, 2, 3], [4, 5, 6]])\n",
        "print(B)\n",
        "C = A / B\n",
        "print(C)"
      ],
      "metadata": {
        "id": "7G9T8EyyhmkD"
      },
      "execution_count": null,
      "outputs": []
    },
    {
      "cell_type": "markdown",
      "source": [
        "# Producto PUNTO.\n",
        "\n",
        "La multiplicación de matrices, también llamada producto escalar de matrices, implica una regla, ya que no todas las matrices se pueden multiplicar juntas.\n",
        "\n",
        "La regla para la multiplicación de matrices es la siguiente:\n",
        "\n",
        "***El número de columnas (n) de la primera matriz (A) debe ser igual al número de filas (m) de la segunda matriz (B).***\n",
        "\n",
        "Esta regla se aplica a una cadena de multiplicaciones de matrices en las que el número de columnas de una matriz de la cadena debe coincidir con el número de filas de la siguiente matriz de la cadena.\n",
        "\n",
        "***Una de las operaciones más importantes que involucran matrices es la multiplicación de dos matrices. El producto matricial de las matrices A y B es una tercera matriz C. Para que se defina este producto, A debe tener el mismo número de columnas que B tiene filas. Si A tiene forma m × n y B tiene forma n × p, entonces C tiene forma m × p.***\n",
        "\n",
        "— Página 34, Deep Learning, 2016."
      ],
      "metadata": {
        "id": "b84fBlqzkvbG"
      }
    },
    {
      "cell_type": "code",
      "source": [
        "# producto punto\n",
        "from numpy import array\n",
        "A = array([[1, 2], [3, 4], [5, 6]])\n",
        "print(A)\n",
        "B = array([[1, 2], [3, 4]])\n",
        "print(B)\n",
        "C = A.dot(B)\n",
        "print(C)"
      ],
      "metadata": {
        "id": "WgMMQ_VQhwOA"
      },
      "execution_count": null,
      "outputs": []
    },
    {
      "cell_type": "code",
      "source": [
        "# multiplicación de vector por matriz\n",
        "from numpy import array\n",
        "A = array([[1, 2], [3, 4], [5, 6]])\n",
        "print(A)\n",
        "B = array([0.5, 0.5])\n",
        "print(B)\n",
        "C = A.dot(B)\n",
        "print(C)\n",
        "D = A @ B\n",
        "print(D)"
      ],
      "metadata": {
        "id": "TMA6Ck83h06q"
      },
      "execution_count": null,
      "outputs": []
    },
    {
      "cell_type": "code",
      "source": [
        "# multiplicación de escalar por matriz\n",
        "from numpy import array\n",
        "A = array([[1, 2], [3, 4], [5, 6]])\n",
        "print(A)\n",
        "b = 0.5\n",
        "print(b)\n",
        "C = A * b\n",
        "print(C)"
      ],
      "metadata": {
        "id": "JUxt5dafh4vJ"
      },
      "execution_count": null,
      "outputs": []
    },
    {
      "cell_type": "markdown",
      "source": [
        "SISTEMAS DE ECUACIONES LINEALES\n",
        "\n",
        "Para resolver un sistema de ecuaciones lineales, necesitamos realizar dos operaciones: inversión de matriz y un producto escalar de matriz. La biblioteca Numpy de Python admite ambas operaciones.\n",
        "\n",
        "Resolvamos el siguiente sistema de ecuaciones lineales:"
      ],
      "metadata": {
        "id": "ntgQJEbtmMFW"
      }
    },
    {
      "cell_type": "code",
      "source": [
        "# 4x  + 3y = 20\n",
        "# -5x + 9y = 26\n"
      ],
      "metadata": {
        "id": "E8Wljzttt_k2"
      },
      "execution_count": null,
      "outputs": []
    },
    {
      "cell_type": "markdown",
      "source": [
        "En el siguiente script, creamos una lista llamada m_list, que además contiene dos listas: [4,3] y [-5,9]. Estas listas son las dos filas de la matriz A. Para crear la matriz A con Numpy, m_list se pasa al método array como se muestra a continuación:"
      ],
      "metadata": {
        "id": "ENzx9Nrwmmd_"
      }
    },
    {
      "cell_type": "code",
      "source": [
        "import numpy as np\n",
        "m_list = [[4, 3], [-5, 9]]\n",
        "A = np.array(m_list)"
      ],
      "metadata": {
        "id": "K4hCoUrHmokc"
      },
      "execution_count": null,
      "outputs": []
    },
    {
      "cell_type": "markdown",
      "source": [
        "Para encontrar la inversa de una matriz, la matriz se pasa al método linalg.inv() del módulo Numpy:"
      ],
      "metadata": {
        "id": "YAfCQnx0m1DY"
      }
    },
    {
      "cell_type": "code",
      "source": [
        "inv_A = np.linalg.inv(A)\n",
        "\n",
        "print(inv_A)"
      ],
      "metadata": {
        "colab": {
          "base_uri": "https://localhost:8080/"
        },
        "id": "YvG_7pG4m2bB",
        "outputId": "a462c035-000b-4f5e-8d04-de62d0c0d846"
      },
      "execution_count": null,
      "outputs": [
        {
          "output_type": "stream",
          "name": "stdout",
          "text": [
            "[[ 0.17647059 -0.05882353]\n",
            " [ 0.09803922  0.07843137]]\n"
          ]
        }
      ]
    },
    {
      "cell_type": "markdown",
      "source": [
        "El siguiente paso es encontrar el producto punto entre la inversa de la matriz ‘A’ y la matriz ‘B’. Es importante mencionar que el producto punto de matrices solo es posible entre las matrices si las dimensiones internas de las matrices son iguales, es decir, el número de columnas de la matriz de la izquierda debe coincidir con el número de filas de la matriz de la derecha.\n",
        "\n",
        "Para encontrar el producto punto con la biblioteca Numpy, se usa la función linalg.dot(). El siguiente script encuentra el producto punto entre la inversa de la matriz A y la matriz B."
      ],
      "metadata": {
        "id": "SyzHiyI3nHi2"
      }
    },
    {
      "cell_type": "code",
      "source": [
        "B = np.array([20, 26])\n",
        "X = np.linalg.inv(A).dot(B)\n",
        "\n",
        "print(X)"
      ],
      "metadata": {
        "id": "06b4UTxOnMfQ"
      },
      "execution_count": null,
      "outputs": []
    },
    {
      "cell_type": "markdown",
      "source": [
        "Aquí, 2 y 4 son los valores respectivos para las incógnitas x e y en la ecuación. Para verificar, si insertas 2 en lugar de la incógnita x y 4 en lugar de la incógnita y en la ecuación 4x + 3y, verás que el resultado será 20.\n",
        "\n",
        "Resolvamos ahora un sistema de tres ecuaciones lineales, como se muestra a continuación:"
      ],
      "metadata": {
        "id": "TtAoSkP-nUxD"
      }
    },
    {
      "cell_type": "code",
      "source": [
        "# 4x + 3y + 2z = 25\n",
        "# -2x + 2y + 3z = -10\n",
        "# 3x -5y + 2z = -4\n"
      ],
      "metadata": {
        "id": "Knau68WOndJb"
      },
      "execution_count": null,
      "outputs": []
    },
    {
      "cell_type": "markdown",
      "source": [
        "La ecuación anterior se puede resolver usando la biblioteca Numpy de la siguiente manera:"
      ],
      "metadata": {
        "id": "UwQLupyCnkqI"
      }
    },
    {
      "cell_type": "code",
      "source": [
        "A = np.array([[4, 3, 2], [-2, 2, 3], [3, -5, 2]])\n",
        "B = np.array([25, -10, -4])\n",
        "X = np.linalg.inv(A).dot(B)\n",
        "\n",
        "print(X)\n"
      ],
      "metadata": {
        "id": "jwAC0DJFnlrg"
      },
      "execution_count": null,
      "outputs": []
    },
    {
      "cell_type": "markdown",
      "source": [
        "El valor de las incógnitas x, y y z son 5, 3 y -2, respectivamente. Puede introducir estos valores en Ecuación 2 y verificar su exactitud."
      ],
      "metadata": {
        "id": "RLAM3XVwnt8R"
      }
    },
    {
      "cell_type": "markdown",
      "source": [
        "## Método Solved\n",
        "En los dos ejemplos anteriores, usamos los métodos linalg.inv() y linalg.dot() para encontrar la solución del sistema de ecuaciones. Sin embargo, la biblioteca Numpy contiene el método linalg.solve(), que se puede usar para encontrar directamente la solución de un sistema de ecuaciones lineales:"
      ],
      "metadata": {
        "id": "EQA8PSfInu0S"
      }
    },
    {
      "cell_type": "code",
      "source": [
        "A = np.array([[4, 3, 2], [-2, 2, 3], [3, -5, 2]])\n",
        "B = np.array([25, -10, -4])\n",
        "X2 = np.linalg.solve(A,B)\n",
        "\n",
        "print(X2)\n"
      ],
      "metadata": {
        "id": "2nEA0KmHn37o"
      },
      "execution_count": null,
      "outputs": []
    },
    {
      "cell_type": "markdown",
      "source": [
        "## EJERCICIO\n",
        "\n",
        "Suponga que un vendedor de frutas vendió 20 mangos y 10 naranjas en un día por un total de $350. Al día siguiente vendió 17 mangos y 22 naranjas por $350.\n",
        "\n",
        "Al dıa siguiente vendio 17mangos y 22 naranjas por $500.\n",
        "\n",
        "Si los precios de las frutas permanecieron sin cambios en ambos días, ¿cuál fue el precio de un mango y una naranja?\n"
      ],
      "metadata": {
        "id": "iMjwla0in-Nl"
      }
    }
  ]
}