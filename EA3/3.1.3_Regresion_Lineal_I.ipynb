{
  "nbformat": 4,
  "nbformat_minor": 0,
  "metadata": {
    "kernelspec": {
      "display_name": "Python 3",
      "language": "python",
      "name": "python3"
    },
    "language_info": {
      "codemirror_mode": {
        "name": "ipython",
        "version": 3
      },
      "file_extension": ".py",
      "mimetype": "text/x-python",
      "name": "python",
      "nbconvert_exporter": "python",
      "pygments_lexer": "ipython3",
      "version": "3.6.5"
    },
    "colab": {
      "provenance": []
    }
  },
  "cells": [
    {
      "cell_type": "markdown",
      "source": [
        "<img src='https://upload.wikimedia.org/wikipedia/commons/thumb/a/aa/Logo_DuocUC.svg/2560px-Logo_DuocUC.svg.png' width=50%, height=20%>"
      ],
      "metadata": {
        "id": "8SXGhwI75Wmz"
      }
    },
    {
      "cell_type": "markdown",
      "metadata": {
        "id": "BzzYLApBltWG"
      },
      "source": [
        "# Regresión Lineal I"
      ]
    },
    {
      "cell_type": "markdown",
      "metadata": {
        "ExecuteTime": {
          "end_time": "2018-05-05T08:19:33.323030Z",
          "start_time": "2018-05-05T08:19:33.308960Z"
        },
        "id": "WBx0KafOltWo"
      },
      "source": [
        "En este notebook intentaremos predecir cuántas veces será compartido en Redes Sociales un artículo de Machine Learning segun algunas de sus características"
      ]
    },
    {
      "cell_type": "markdown",
      "metadata": {
        "id": "0F-l9mNEltWr"
      },
      "source": [
        "## Importar las librerías"
      ]
    },
    {
      "cell_type": "markdown",
      "metadata": {
        "id": "JoIuZv4FltWs"
      },
      "source": [
        "Antes de empezar vamos a importar las siguientes librerías:\n",
        "\n",
        "Numpy\n",
        "\n",
        "*   Numpy\n",
        "*   Pandas\n",
        "*   Seaborn\n",
        "*   Matplotlib\n"
      ]
    },
    {
      "cell_type": "code",
      "metadata": {
        "ExecuteTime": {
          "end_time": "2018-05-06T15:28:50.037886Z",
          "start_time": "2018-05-06T15:28:50.028212Z"
        },
        "id": "mA2VmynHltWt"
      },
      "source": [
        "# Importa las librerías a nuestro entorno de trabajo\n",
        "import numpy as np\n",
        "import pandas as pd\n",
        "import seaborn as sb\n",
        "import matplotlib.pyplot as plt\n",
        "%matplotlib inline\n",
        "from mpl_toolkits.mplot3d import Axes3D\n",
        "from matplotlib import cm\n",
        "plt.rcParams['figure.figsize'] = (16, 9)\n",
        "plt.style.use('ggplot')\n",
        "from sklearn import linear_model\n",
        "from sklearn.metrics import mean_squared_error, r2_score"
      ],
      "execution_count": null,
      "outputs": []
    },
    {
      "cell_type": "markdown",
      "metadata": {
        "id": "TqCUFax8nlOE"
      },
      "source": [
        "## Cargar un archivo de datos\n",
        "Hay varias maneras de cargar un archivo de datos en nuestro entorno. El archivo lo podemos llamar desde una URL o tener guardado en nuestra computadora.\n",
        "\n",
        "En este caso subiremos subir un primer archivo en forma local (el profesor te facilitirá los archivos) ejecutando lo siguiente:"
      ]
    },
    {
      "cell_type": "code",
      "metadata": {
        "ExecuteTime": {
          "end_time": "2018-05-06T15:28:50.051323Z",
          "start_time": "2018-05-06T15:28:50.040878Z"
        },
        "id": "ctulZ7VkltWv",
        "colab": {
          "resources": {
            "http://localhost:8080/nbextensions/google.colab/files.js": {
              "data": "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",
              "ok": true,
              "headers": [
                [
                  "content-type",
                  "application/javascript"
                ]
              ],
              "status": 200,
              "status_text": ""
            }
          },
          "base_uri": "https://localhost:8080/",
          "height": 72
        },
        "outputId": "7d68d94b-c916-416c-8380-c46944d517c6"
      },
      "source": [
        "#cargamos los datos de entrada\n",
        "from google.colab import files\n",
        "uploaded = files.upload()\n",
        "for fn in uploaded.keys():\n",
        "    name=fn\n",
        "data = pd.read_csv(name, sep=\",\")\n",
        "\n"
      ],
      "execution_count": null,
      "outputs": [
        {
          "output_type": "display_data",
          "data": {
            "text/html": [
              "\n",
              "     <input type=\"file\" id=\"files-ac926d92-4267-4797-895e-7a6062c61c61\" name=\"files[]\" multiple disabled\n",
              "        style=\"border:none\" />\n",
              "     <output id=\"result-ac926d92-4267-4797-895e-7a6062c61c61\">\n",
              "      Upload widget is only available when the cell has been executed in the\n",
              "      current browser session. Please rerun this cell to enable.\n",
              "      </output>\n",
              "      <script src=\"/nbextensions/google.colab/files.js\"></script> "
            ],
            "text/plain": [
              "<IPython.core.display.HTML object>"
            ]
          },
          "metadata": {
            "tags": []
          }
        },
        {
          "output_type": "stream",
          "text": [
            "Saving articulos_ml.csv to articulos_ml (2).csv\n"
          ],
          "name": "stdout"
        }
      ]
    },
    {
      "cell_type": "markdown",
      "metadata": {
        "id": "8Ml-pr79oDu2"
      },
      "source": [
        "## Análisis Exploratorio\n",
        "\n",
        "Realicemos un análisis exploratorio de los datos cargados en el data frame.\n"
      ]
    },
    {
      "cell_type": "code",
      "metadata": {
        "ExecuteTime": {
          "end_time": "2018-05-06T15:28:50.064402Z",
          "start_time": "2018-05-06T15:28:50.055301Z"
        },
        "id": "scbNed-XltWw"
      },
      "source": [
        "#veamos cuantas dimensiones y registros contiene\n",
        "data.shape"
      ],
      "execution_count": null,
      "outputs": []
    },
    {
      "cell_type": "code",
      "metadata": {
        "ExecuteTime": {
          "end_time": "2018-05-06T15:28:50.093837Z",
          "start_time": "2018-05-06T15:28:50.068610Z"
        },
        "id": "Nk6lHBDsltWy"
      },
      "source": [
        "#son 161 registros con 8 columnas. Veamos los primeros registros para tener una idea\n",
        "data.head()"
      ],
      "execution_count": null,
      "outputs": []
    },
    {
      "cell_type": "markdown",
      "metadata": {
        "id": "u4BM8V1IltW0"
      },
      "source": [
        "## ¿Qué observaciones puedes realizar de los datos?\n"
      ]
    },
    {
      "cell_type": "code",
      "metadata": {
        "ExecuteTime": {
          "end_time": "2018-05-06T15:28:50.126775Z",
          "start_time": "2018-05-06T15:28:50.097200Z"
        },
        "id": "cV_weuZBltW1"
      },
      "source": [
        "# Ahora veamos algunas estadísticas de nuestros datos\n",
        "data.describe()"
      ],
      "execution_count": null,
      "outputs": []
    },
    {
      "cell_type": "markdown",
      "metadata": {
        "ExecuteTime": {
          "end_time": "2018-05-05T08:36:49.122754Z",
          "start_time": "2018-05-05T08:36:49.108512Z"
        },
        "id": "uN1OYNRlltW2"
      },
      "source": [
        "## ¿Qué observaciones puedes indicar de estas estadísticas?\n",
        "\n",
        "¿Cuál es la media de la Cantidad de palabras?\n",
        "\n",
        "¿Cuales son los artículos más pequeños y los más grandes? (en cantidad de palabras)\n",
        "\n"
      ]
    },
    {
      "cell_type": "markdown",
      "metadata": {
        "id": "bt4e9XtoltW5"
      },
      "source": [
        "## Visualizamos Cantidad de Palabras vs. Compartidos\n",
        "\n",
        "Para esto graficaremos en dos dimensiones las variables indicadas. \n",
        "\n",
        "Así, visualizaremos una variable con color naranja y otra con color azul."
      ]
    },
    {
      "cell_type": "code",
      "metadata": {
        "ExecuteTime": {
          "end_time": "2018-05-06T15:28:50.505154Z",
          "start_time": "2018-05-06T15:28:50.130110Z"
        },
        "id": "x9ciOn4jltW6"
      },
      "source": [
        "#Visualizar los datos de entrada\n",
        "colores=['orange','blue']\n",
        "tamanios=[30,60]\n",
        "\n",
        "f1 = data['Word count'].values\n",
        "f2 = data['# Shares'].values\n",
        "\n",
        "# Vamos a pintar en 2 colores los puntos por debajo de la media de Cantidad de Palabras\n",
        "asignar=[]\n",
        "for index, row in data.iterrows():\n",
        "    if(row['Word count']>1808):\n",
        "        asignar.append(colores[0])\n",
        "    else:\n",
        "        asignar.append(colores[1])\n",
        "    \n",
        "plt.scatter(f1, f2, c=asignar, s=tamanios[0])\n",
        "plt.show()"
      ],
      "execution_count": null,
      "outputs": []
    },
    {
      "cell_type": "code",
      "metadata": {
        "ExecuteTime": {
          "end_time": "2018-05-06T15:28:50.963199Z",
          "start_time": "2018-05-06T15:28:50.509749Z"
        },
        "id": "oKfvuD9nltW7"
      },
      "source": [
        "# Vamos a RECORTAR los datos en la zona donde se concentran más los puntos\n",
        "# esto es en el eje X: entre 0 y 3.500\n",
        "# y en el eje Y: entre 0 y 80.000\n",
        "filtered_data = data[(data['Word count'] <= 3500) & (data['# Shares'] <= 80000)]\n",
        "\n",
        "f1 = filtered_data['Word count'].values\n",
        "f2 = filtered_data['# Shares'].values\n",
        "\n",
        "# Vamos a pintar en colores los puntos por debajo y por encima de la media de Cantidad de Palabras\n",
        "asignar=[]\n",
        "for index, row in filtered_data.iterrows():\n",
        "    if(row['Word count']>1808):\n",
        "        asignar.append(colores[0])\n",
        "    else:\n",
        "        asignar.append(colores[1])\n",
        "    \n",
        "plt.scatter(f1, f2, c=asignar, s=tamanios[0])\n",
        "plt.show()"
      ],
      "execution_count": null,
      "outputs": []
    },
    {
      "cell_type": "code",
      "metadata": {
        "ExecuteTime": {
          "end_time": "2018-05-06T15:28:51.024042Z",
          "start_time": "2018-05-06T15:28:50.967169Z"
        },
        "id": "3q4uLauKltW9"
      },
      "source": [
        "# Veamos como cambian los valores una vez filtrados\n",
        "filtered_data.describe()"
      ],
      "execution_count": null,
      "outputs": []
    },
    {
      "cell_type": "markdown",
      "metadata": {
        "id": "n1H43CMkltW-"
      },
      "source": [
        "## Regresión Lineal Simple (1 variable)"
      ]
    },
    {
      "cell_type": "markdown",
      "metadata": {
        "id": "gPax2QIsltW_"
      },
      "source": [
        "Vamos a intentar primero una Regresión Lineal con 1 sóla variable"
      ]
    },
    {
      "cell_type": "code",
      "metadata": {
        "ExecuteTime": {
          "end_time": "2018-05-06T15:28:51.036535Z",
          "start_time": "2018-05-06T15:28:51.027426Z"
        },
        "id": "U4I5wNx_ltW_"
      },
      "source": [
        "# Asignamos nuestra variable de entrada X para entrenamiento y las etiquetas Y.\n",
        "dataX =filtered_data[[\"Word count\"]]\n",
        "X_train = np.array(dataX)\n",
        "y_train = filtered_data['# Shares'].values"
      ],
      "execution_count": null,
      "outputs": []
    },
    {
      "cell_type": "code",
      "metadata": {
        "ExecuteTime": {
          "end_time": "2018-05-06T15:28:51.054663Z",
          "start_time": "2018-05-06T15:28:51.042421Z"
        },
        "scrolled": true,
        "id": "V0sr3tsJltXA"
      },
      "source": [
        "# Creamos el objeto de Regresión Linear\n",
        "regr = linear_model.LinearRegression()\n",
        "\n",
        "# Entrenamos nuestro modelo\n",
        "regr.fit(X_train, y_train)\n",
        "\n",
        "# Hacemos las predicciones que en definitiva una línea (en este caso, al ser 2D)\n",
        "y_pred = regr.predict(X_train)\n",
        "\n",
        "# Veamos los coeficienetes obtenidos, En nuestro caso, serán la Tangente\n",
        "print('Coefficients: \\n', regr.coef_)\n",
        "# Este es el valor donde corta el eje Y (en X=0)\n",
        "print('Independent term: \\n', regr.intercept_)\n",
        "# Error Cuadrado Medio\n",
        "print(\"Mean squared error: %.2f\" % mean_squared_error(y_train, y_pred))\n",
        "# Puntaje de Varianza. El mejor puntaje es un 1.0\n",
        "print('Variance score: %.2f' % r2_score(y_train, y_pred))"
      ],
      "execution_count": null,
      "outputs": []
    },
    {
      "cell_type": "markdown",
      "metadata": {
        "id": "XoKVXmY6ltXC"
      },
      "source": [
        "## Visualizamos la Recta que obtuvimos"
      ]
    },
    {
      "cell_type": "code",
      "metadata": {
        "ExecuteTime": {
          "end_time": "2018-05-06T15:28:51.432242Z",
          "start_time": "2018-05-06T15:28:51.060915Z"
        },
        "id": "Dw5QP5B5ltXC"
      },
      "source": [
        "plt.scatter(X_train[:,0], y_train,  c=asignar, s=tamanios[0])\n",
        "plt.plot(X_train[:,0], y_pred, color='red', linewidth=3)\n",
        "\n",
        "plt.xlabel('Cantidad de Palabras')\n",
        "plt.ylabel('Compartido en Redes')\n",
        "plt.title('Regresión Lineal')\n",
        "\n",
        "plt.show()"
      ],
      "execution_count": null,
      "outputs": []
    },
    {
      "cell_type": "markdown",
      "metadata": {
        "id": "LlsdJb_qltXE"
      },
      "source": [
        "### Predicción 1"
      ]
    },
    {
      "cell_type": "code",
      "metadata": {
        "ExecuteTime": {
          "end_time": "2018-05-06T15:28:51.440993Z",
          "start_time": "2018-05-06T15:28:51.435404Z"
        },
        "id": "muC761t0ltXE"
      },
      "source": [
        "#Vamos a comprobar:\n",
        "# Quiero predecir cuántos \"Shares\" voy a obtener por un artículo con 2.000 palabras,\n",
        "# según nuestro modelo, hacemos:\n",
        "y_Dosmil = regr.predict([[2000]])\n",
        "print(int(y_Dosmil))"
      ],
      "execution_count": null,
      "outputs": []
    },
    {
      "cell_type": "markdown",
      "metadata": {
        "id": "aczJ9q6TltXF"
      },
      "source": [
        "Evidentemente No es tan sencillo...\n",
        "\n",
        "Vamos a mejorar un poco el modelo\n",
        "\n",
        "# Regresión Lineal Múltiples (múltiples variables)"
      ]
    },
    {
      "cell_type": "code",
      "metadata": {
        "ExecuteTime": {
          "end_time": "2018-05-06T15:28:51.462189Z",
          "start_time": "2018-05-06T15:28:51.446341Z"
        },
        "id": "lvE1tDCjltXG"
      },
      "source": [
        "#Vamos a intentar mejorar el Modelo, con una dimensión más: \n",
        "# Para poder graficar en 3D, haremos una variable nueva que será la suma de los enlaces, comentarios e imágenes\n",
        "suma = (filtered_data[\"# of Links\"] + filtered_data['# of comments'].fillna(0) + filtered_data['# Images video'])\n",
        "\n",
        "dataX2 =  pd.DataFrame()\n",
        "dataX2[\"Word count\"] = filtered_data[\"Word count\"]\n",
        "dataX2[\"suma\"] = suma\n",
        "XY_train = np.array(dataX2)\n",
        "z_train = filtered_data['# Shares'].values"
      ],
      "execution_count": null,
      "outputs": []
    },
    {
      "cell_type": "markdown",
      "metadata": {
        "ExecuteTime": {
          "end_time": "2018-05-06T09:54:24.557815Z",
          "start_time": "2018-05-06T09:54:24.544488Z"
        },
        "id": "SoZCRP3ZltXH"
      },
      "source": [
        "Atención: Esta vez, nuestras dimensiones de entrenamiento serán X e Y y las etiquetas de predicción serán z."
      ]
    },
    {
      "cell_type": "code",
      "metadata": {
        "ExecuteTime": {
          "end_time": "2018-05-06T15:28:51.481430Z",
          "start_time": "2018-05-06T15:28:51.466336Z"
        },
        "id": "_T3U_eF4ltXI"
      },
      "source": [
        "# Creamos un nuevo objeto de Regresión Lineal\n",
        "regr2 = linear_model.LinearRegression()\n",
        "\n",
        "# Entrenamos el modelo, esta vez, con 2 dimensiones\n",
        "# obtendremos 2 coeficientes, para graficar un plano\n",
        "regr2.fit(XY_train, z_train)\n",
        "\n",
        "# Hacemos la predicción con la que tendremos puntos sobre el plano hallado\n",
        "z_pred = regr2.predict(XY_train)\n",
        "\n",
        "# Los coeficientes\n",
        "print('Coefficients: \\n', regr2.coef_)\n",
        "# Error cuadrático medio\n",
        "print(\"Mean squared error: %.2f\" % mean_squared_error(z_train, z_pred))\n",
        "# Evaluamos el puntaje de varianza (siendo 1.0 el mejor posible)\n",
        "print('Variance score: %.2f' % r2_score(z_train, z_pred))"
      ],
      "execution_count": null,
      "outputs": []
    },
    {
      "cell_type": "markdown",
      "metadata": {
        "ExecuteTime": {
          "end_time": "2018-05-06T09:32:25.955992Z",
          "start_time": "2018-05-06T09:32:25.949240Z"
        },
        "id": "EL3T6_DpltXJ"
      },
      "source": [
        "## Esta vez visualizamos un plano"
      ]
    },
    {
      "cell_type": "code",
      "metadata": {
        "ExecuteTime": {
          "end_time": "2018-05-06T15:28:52.283257Z",
          "start_time": "2018-05-06T15:28:51.489306Z"
        },
        "id": "ECD_xewJltXK"
      },
      "source": [
        "fig = plt.figure()\n",
        "ax = Axes3D(fig)\n",
        "\n",
        "# Creamos una malla, sobre la cual graficaremos el plano\n",
        "xx, yy = np.meshgrid(np.linspace(0, 3500, num=10), np.linspace(0, 60, num=10))\n",
        "\n",
        "# calculamos los valores del plano para los puntos x e y\n",
        "nuevoX = (regr2.coef_[0] * xx)\n",
        "nuevoY = (regr2.coef_[1] * yy) \n",
        "\n",
        "# calculamos los correspondientes valores para z. Debemos sumar el punto de intercepción\n",
        "z = (nuevoX + nuevoY + regr2.intercept_)\n",
        "\n",
        "# Graficamos el plano\n",
        "ax.plot_surface(xx, yy, z, alpha=0.2, cmap='hot')\n",
        "\n",
        "# Graficamos en azul los puntos en 3D\n",
        "ax.scatter(XY_train[:, 0], XY_train[:, 1], z_train, c='blue',s=30)\n",
        "\n",
        "# Graficamos en rojo, los puntos que \n",
        "ax.scatter(XY_train[:, 0], XY_train[:, 1], z_pred, c='red',s=40)\n",
        "\n",
        "# con esto situamos la \"camara\" con la que visualizamos\n",
        "ax.view_init(elev=30., azim=65)\n",
        "        \n",
        "ax.set_xlabel('Cantidad de Palabras')\n",
        "ax.set_ylabel('Cantidad de Enlaces,Comentarios e Imagenes')\n",
        "ax.set_zlabel('Compartido en Redes')\n",
        "ax.set_title('Regresión Lineal con Múltiples Variables')"
      ],
      "execution_count": null,
      "outputs": []
    },
    {
      "cell_type": "markdown",
      "metadata": {
        "ExecuteTime": {
          "end_time": "2018-05-10T11:28:25.503809Z",
          "start_time": "2018-05-10T11:28:25.499128Z"
        },
        "id": "DLG_lvYxltXL"
      },
      "source": [
        "### Predicción 2"
      ]
    },
    {
      "cell_type": "code",
      "metadata": {
        "ExecuteTime": {
          "end_time": "2018-05-06T15:28:52.296422Z",
          "start_time": "2018-05-06T15:28:52.288285Z"
        },
        "id": "ouH3TCy7ltXM"
      },
      "source": [
        "# Si quiero predecir cuántos \"Shares\" voy a obtener por un artículo con: \n",
        "# 2000 palabras y con enlaces: 10, comentarios: 4, imagenes: 6\n",
        "# según nuestro modelo, hacemos:\n",
        "\n",
        "z_Dosmil = regr2.predict([[2000, 10+4+6]])\n",
        "print(int(z_Dosmil))"
      ],
      "execution_count": null,
      "outputs": []
    },
    {
      "cell_type": "markdown",
      "metadata": {
        "ExecuteTime": {
          "end_time": "2018-05-05T20:21:38.538763Z",
          "start_time": "2018-05-05T20:21:38.532383Z"
        },
        "id": "PyfPmAi5ltXN"
      },
      "source": [
        "## Comparemos las predicciónes obtenidas en los modelos"
      ]
    },
    {
      "cell_type": "markdown",
      "metadata": {
        "id": "2daxqM7yltXQ"
      },
      "source": [
        "En este caso, Obtuvimos mejora en el modelo de 2 dimensiones"
      ]
    },
    {
      "cell_type": "code",
      "metadata": {
        "ExecuteTime": {
          "end_time": "2018-05-06T15:28:52.309115Z",
          "start_time": "2018-05-06T15:28:52.301926Z"
        },
        "id": "5lWXcYTdltXR"
      },
      "source": [
        "# Restamos los errores calculados antes:\n",
        "# Obviamente, \"menos error\" es mejor\n",
        "mejoraEnError = mean_squared_error(y_train, y_pred) - mean_squared_error(z_train, z_pred)\n",
        "print(mejoraEnError)"
      ],
      "execution_count": null,
      "outputs": []
    },
    {
      "cell_type": "code",
      "metadata": {
        "ExecuteTime": {
          "end_time": "2018-05-06T15:28:52.321109Z",
          "start_time": "2018-05-06T15:28:52.312143Z"
        },
        "id": "qbCHxnFFltXS"
      },
      "source": [
        "# También calculamos la mejora en la varianza:\n",
        "mejoraEnVarianza = r2_score(z_train, z_pred) - r2_score(y_train, y_pred)\n",
        "print(mejoraEnVarianza)\n",
        "# Aunque no parezca mucho, recordemos que el valor más alto que se puede obtener es 1.0"
      ],
      "execution_count": null,
      "outputs": []
    },
    {
      "cell_type": "code",
      "metadata": {
        "ExecuteTime": {
          "end_time": "2018-05-06T15:28:52.336282Z",
          "start_time": "2018-05-06T15:28:52.326212Z"
        },
        "id": "w2I2IjozltXU"
      },
      "source": [
        "# Finalmente, mejoramos en nuestra predicción de un artículo de 2.000 palabras, \n",
        "# pues aunque disminuyen los \"Shares\" que obtendremos en el 2do modelo, \n",
        "# seguramente será un valor más cercano a la realidad\n",
        "diferenciaComparir = z_Dosmil - y_Dosmil\n",
        "print(int(diferenciaComparir))"
      ],
      "execution_count": null,
      "outputs": []
    },
    {
      "cell_type": "markdown",
      "metadata": {
        "id": "lOK_J776sKkN"
      },
      "source": [
        "## ¿Qué conclusiones puedes generar de este ejercicio?\n",
        "\n",
        "¿Qué ocurrió con el segundo modelo?\n",
        "\n",
        "¿Por qué mejoró la predicción?"
      ]
    }
  ]
}