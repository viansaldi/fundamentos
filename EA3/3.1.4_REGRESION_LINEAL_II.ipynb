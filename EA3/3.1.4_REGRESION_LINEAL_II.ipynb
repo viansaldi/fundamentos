{
  "nbformat": 4,
  "nbformat_minor": 0,
  "metadata": {
    "colab": {
      "provenance": []
    },
    "kernelspec": {
      "name": "python3",
      "display_name": "Python 3"
    }
  },
  "cells": [
    {
      "cell_type": "markdown",
      "source": [
        "<img src='https://upload.wikimedia.org/wikipedia/commons/thumb/a/aa/Logo_DuocUC.svg/2560px-Logo_DuocUC.svg.png' width=50%, height=20%>"
      ],
      "metadata": {
        "id": "QEMVphiD5fSB"
      }
    },
    {
      "cell_type": "markdown",
      "metadata": {
        "id": "xOMeC23oDbT1"
      },
      "source": [
        "# REGRESION LINEAL II - regresión múltiple\n",
        "$$y = f(\\mathbf{x}) = \\beta_0 + x_1\\beta_1 + ... + x_k\\beta_k$$"
      ]
    },
    {
      "cell_type": "markdown",
      "metadata": {
        "id": "grPNpWvAiAc2"
      },
      "source": [
        "## Dataset de pacientes enfermos con diabetes"
      ]
    },
    {
      "cell_type": "markdown",
      "metadata": {
        "id": "cNtGPxdIDLqN"
      },
      "source": [
        "Se obtuvieron diez variables basales, edad, sexo, índice de masa corporal, presión arterial promedio y seis mediciones del suero sanguíneo para cada uno de n = 442 pacientes con diabetes, así como la respuesta de interés, una medida cuantitativa de la progresión de la enfermedad un año después del inicio .\n",
        "\n",
        "* age: edad en años\n",
        "* sex\n",
        "* bmi: índice de masa corporal\n",
        "* bp: promedio de presión sanguínea\n",
        "* s1: T-Cells (un tipo de células blancas de la sangre)\n",
        "* s2: low-density lipoproteins\n",
        "* s3: high-density lipoproteins\n",
        "* s4: hormona de estimulación tiroidal\n",
        "* s5: lamotrigine\n",
        "* s6: nivel de azúcar en la sangre\n",
        "\n",
        "Objetivo: medida cuantitativa de la progresión de la enfermedad.\n"
      ]
    },
    {
      "cell_type": "markdown",
      "metadata": {
        "id": "SkCa9VaniMTj"
      },
      "source": [
        "## Cargamos un dataset disponible en sklearn"
      ]
    },
    {
      "cell_type": "code",
      "metadata": {
        "id": "SeCdiCzhCmfw"
      },
      "source": [
        "import pandas as pd"
      ],
      "execution_count": null,
      "outputs": []
    },
    {
      "cell_type": "code",
      "metadata": {
        "id": "Dha_VXk9eKMv"
      },
      "source": [
        "# Cargamos el dataset que se encuentra en la librería sklearn\n",
        "from sklearn.datasets import load_diabetes\n",
        "datos = load_diabetes()"
      ],
      "execution_count": null,
      "outputs": []
    },
    {
      "cell_type": "code",
      "metadata": {
        "id": "XE1lJtqBii6R"
      },
      "source": [
        "# Estos dataset precargados vienen con un formato diferente (no son dataframe)\n",
        "# entonces, guardamos el conjunto de variables explicativas como un dataframe\n",
        "# y también guardamos la variable de interés (el target)\n",
        "X = pd.DataFrame(datos.data, columns=datos.feature_names)\n",
        "Y = datos.target"
      ],
      "execution_count": null,
      "outputs": []
    },
    {
      "cell_type": "code",
      "metadata": {
        "id": "tsUUIqPkgoKB"
      },
      "source": [
        "X.columns"
      ],
      "execution_count": null,
      "outputs": []
    },
    {
      "cell_type": "markdown",
      "metadata": {
        "id": "Xns2oCZ-i7e_"
      },
      "source": [
        "## Creamos y ajustamos un modelo"
      ]
    },
    {
      "cell_type": "code",
      "metadata": {
        "id": "G90VICqhCHH0"
      },
      "source": [
        "import numpy as np\n",
        "from sklearn.linear_model import LinearRegression\n",
        "\n",
        "model = LinearRegression()\n",
        "\n",
        "model.fit(X, Y)\n",
        "\n",
        "Y_hat = model.predict(X)"
      ],
      "execution_count": null,
      "outputs": []
    },
    {
      "cell_type": "markdown",
      "metadata": {
        "id": "TnT0rir7jD97"
      },
      "source": [
        "##Evaluamos el desempeño del modelo en base a diferentes métricas!"
      ]
    },
    {
      "cell_type": "code",
      "metadata": {
        "id": "ltsQ7XKBHUPx"
      },
      "source": [
        "from sklearn.metrics import mean_squared_error\n",
        "mean_squared_error(Y, Y_hat)"
      ],
      "execution_count": null,
      "outputs": []
    },
    {
      "cell_type": "code",
      "metadata": {
        "id": "Khvesgt2Ymfq"
      },
      "source": [
        "from sklearn.metrics import mean_absolute_error\n",
        "mean_absolute_error(Y, Y_hat)"
      ],
      "execution_count": null,
      "outputs": []
    },
    {
      "cell_type": "code",
      "metadata": {
        "id": "cXrEEgQgHbNR"
      },
      "source": [
        "from sklearn.metrics import r2_score\n",
        "r2_score(Y, Y_hat)"
      ],
      "execution_count": null,
      "outputs": []
    },
    {
      "cell_type": "markdown",
      "metadata": {
        "id": "6xdeN3S-HNgi"
      },
      "source": [
        "###  ANÁLISIS\n",
        "\n",
        "¿Qué significa la métrica \"r2_score\"? Investiga\n",
        "\n",
        "¿Qué indica cada una de las métricas anteriores?\n",
        "\n",
        "¿Se puede comentar algo sobre la VERIFICACION del modelo?\n",
        "\n"
      ]
    },
    {
      "cell_type": "markdown",
      "metadata": {
        "id": "pPdkuT9JjNIN"
      },
      "source": [
        "## Graficamos el target esperado contra los resultados que entrega el modelo"
      ]
    },
    {
      "cell_type": "code",
      "metadata": {
        "id": "LqfVsSR4HfyS"
      },
      "source": [
        "import matplotlib.pyplot as plt\n",
        "plt.plot(Y)\n",
        "plt.plot(Y_hat, 'r')"
      ],
      "execution_count": null,
      "outputs": []
    },
    {
      "cell_type": "code",
      "metadata": {
        "id": "7-kmioo5I_Kg"
      },
      "source": [
        "plt.subplots(figsize=(20,5))\n",
        "plt.plot(Y)\n",
        "plt.plot(Y_hat, 'r')"
      ],
      "execution_count": null,
      "outputs": []
    },
    {
      "cell_type": "markdown",
      "metadata": {
        "id": "mUsCVQQvIreo"
      },
      "source": [
        "### ANÁLISIS\n",
        "\n",
        "¿Qué puedes comentar sobre estos resultados?\n",
        "\n",
        "El modelo, ¿presenta underfitting u overfitting?, ¿ por qué?"
      ]
    },
    {
      "cell_type": "markdown",
      "metadata": {
        "id": "gw2D9KCUhnne"
      },
      "source": [
        "## Implementando la mejora de la validación"
      ]
    },
    {
      "cell_type": "code",
      "metadata": {
        "id": "U7y0TZj2Rn5T"
      },
      "source": [
        "import numpy as np\n",
        "from sklearn.model_selection import train_test_split\n",
        "\n",
        "Xtrain, Xtest, Ytrain, Ytest = train_test_split(X,Y,test_size=0.33)"
      ],
      "execution_count": null,
      "outputs": []
    },
    {
      "cell_type": "markdown",
      "metadata": {
        "id": "c272VxaHI_Pk"
      },
      "source": [
        "### ANÁLISIS\n",
        "\n",
        "¿ Qué se realizó en la celda anterior para evitar el overfitting?"
      ]
    },
    {
      "cell_type": "code",
      "metadata": {
        "id": "nbjGXVFdR46a"
      },
      "source": [
        "print(Xtrain.shape)\n",
        "print(Xtest.shape)"
      ],
      "execution_count": null,
      "outputs": []
    },
    {
      "cell_type": "code",
      "metadata": {
        "id": "v9pCX7pdSD76"
      },
      "source": [
        "model = LinearRegression()\n",
        "\n",
        "model.fit(Xtrain, Ytrain)\n",
        "\n",
        "Y_hat = model.predict(Xtest)\n",
        "\n",
        "print(mean_squared_error(Ytest, Y_hat))\n",
        "print(mean_absolute_error(Ytest, Y_hat))\n",
        "print(r2_score(Ytest, Y_hat))\n",
        "\n",
        "plt.plot(Ytest)\n",
        "plt.plot(Y_hat, 'r')"
      ],
      "execution_count": null,
      "outputs": []
    },
    {
      "cell_type": "code",
      "metadata": {
        "id": "p3Lu3qV3JjpI"
      },
      "source": [
        "plt.subplots(figsize=(20,5))\n",
        "plt.plot(Ytest)\n",
        "plt.plot(Y_hat, 'r')"
      ],
      "execution_count": null,
      "outputs": []
    },
    {
      "cell_type": "markdown",
      "metadata": {
        "id": "o8fcXWAIKJao"
      },
      "source": [
        "### CONCLUSIONES\n",
        "\n",
        "¿Qué puedes concluir de este ejercicio?"
      ]
    }
  ]
}