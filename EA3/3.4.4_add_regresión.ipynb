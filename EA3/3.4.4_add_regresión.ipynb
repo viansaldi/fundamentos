{
  "nbformat": 4,
  "nbformat_minor": 0,
  "metadata": {
    "colab": {
      "provenance": []
    },
    "kernelspec": {
      "name": "python3",
      "display_name": "Python 3"
    }
  },
  "cells": [
    {
      "cell_type": "markdown",
      "source": [
        "<img src='https://upload.wikimedia.org/wikipedia/commons/thumb/a/aa/Logo_DuocUC.svg/2560px-Logo_DuocUC.svg.png' width=50%, height=20%>"
      ],
      "metadata": {
        "id": "SRlRUDr58DLy"
      }
    },
    {
      "cell_type": "markdown",
      "metadata": {
        "id": "4VCWyA6XKftY"
      },
      "source": [
        "# Introducción\n",
        "\n",
        "En este ejercicio generaremos un árbol de decisión que a través de Regresión, nos permita predecir si una persona sufrirá diabetes o no\n",
        "\n",
        "## DataSet: Pacientes Enfermos con Diabetes"
      ]
    },
    {
      "cell_type": "markdown",
      "metadata": {
        "id": "pK9zvwwecYcO"
      },
      "source": [
        "Se obtuvieron diez variables basales, edad, sexo, índice de masa corporal, presión arterial promedio y seis mediciones del suero sanguíneo para cada uno de n = 442 pacientes con diabetes, así como la respuesta de interés, una medida cuantitativa de la progresión de la enfermedad un año después del inicio .\n",
        "\n",
        "* age: age in years\n",
        "* sex\n",
        "* bmi: body mass index\n",
        "* bp: average blood pressure\n",
        "* s1: T-Cells (a type of white blood cells)\n",
        "* s2: low-density lipoproteins\n",
        "* s3: high-density lipoproteins\n",
        "* s4: thyroid stimulating hormone\n",
        "* s5: lamotrigine\n",
        "* s6: blood sugar level\n",
        "\n",
        "Objetivo: medida cuantitativa de la progresión de la enfermedad.\n"
      ]
    },
    {
      "cell_type": "markdown",
      "metadata": {
        "id": "4fSq0mzkLEB6"
      },
      "source": [
        "## Antes de modelar"
      ]
    },
    {
      "cell_type": "markdown",
      "metadata": {
        "id": "ckOW3qqxABht"
      },
      "source": [
        "### Cargamos y preparamos el dataset"
      ]
    },
    {
      "cell_type": "code",
      "metadata": {
        "id": "GQrnvRr3cTwq"
      },
      "source": [
        "import pandas as pd\n",
        "from sklearn.datasets import load_diabetes\n",
        "datos = load_diabetes()\n",
        "\n",
        "X = pd.DataFrame(datos.data, columns=datos.feature_names)\n",
        "Y = datos.target"
      ],
      "execution_count": null,
      "outputs": []
    },
    {
      "cell_type": "code",
      "metadata": {
        "id": "o6QnkaFe-jSV"
      },
      "source": [
        "X.isna().sum()"
      ],
      "execution_count": null,
      "outputs": []
    },
    {
      "cell_type": "code",
      "metadata": {
        "id": "NTiGdXTf1B48"
      },
      "source": [
        "X.columns"
      ],
      "execution_count": null,
      "outputs": []
    },
    {
      "cell_type": "markdown",
      "metadata": {
        "id": "-ifo-b5m_7-5"
      },
      "source": [
        "## Modelamiento (primeros pasos)\n",
        "\n",
        "Usando la librería SKLEARN, generaremos un árbol de decisión para regresión\n",
        "\n",
        "**INDICA QUE SIGNIFICAN CADA UNA DE LAS VARIABLES SIGUIENTES Y QUE INDICAN LAS MEDIDAS DE VERIFICACION USADAS.**"
      ]
    },
    {
      "cell_type": "code",
      "metadata": {
        "id": "AQFelkZp-3Er"
      },
      "source": [
        "from sklearn.tree import DecisionTreeRegressor\n",
        "\n",
        "mo2 = DecisionTreeRegressor()\n",
        "mo2.fit(X, Y)\n",
        "\n",
        "Yhat = mo2.predict(X)"
      ],
      "execution_count": null,
      "outputs": []
    },
    {
      "cell_type": "code",
      "metadata": {
        "id": "Dph53skwni73"
      },
      "source": [
        "from sklearn.metrics import mean_squared_error\n",
        "from sklearn.metrics import mean_absolute_error\n",
        "from sklearn.metrics import r2_score\n",
        "\n",
        "mse = mean_squared_error(Y, Yhat)\n",
        "mae = mean_absolute_error(Y, Yhat)\n",
        "R2 = r2_score(Y, Yhat)\n",
        "\n",
        "print(\"MSE: \",mse)\n",
        "print(\"MAE: \",mae)\n",
        "print(\"R^2: \",R2)"
      ],
      "execution_count": null,
      "outputs": []
    },
    {
      "cell_type": "code",
      "metadata": {
        "id": "gpca0ggLn3ck"
      },
      "source": [
        "# Visualizamos el árbol generado!\n",
        "\n",
        "import matplotlib.pyplot as plt\n",
        "from sklearn import tree\n",
        "plt.subplots(1,1,figsize=(10,10))\n",
        "_= tree.plot_tree(mo2) "
      ],
      "execution_count": null,
      "outputs": []
    },
    {
      "cell_type": "markdown",
      "metadata": {
        "id": "Jivvtnizi1yy"
      },
      "source": [
        "## Evitando el Overfitting\n",
        "\n",
        "**INDICA : ¿por qué existe OVERFITTING?**"
      ]
    },
    {
      "cell_type": "code",
      "metadata": {
        "id": "5BZjbzMsi05g"
      },
      "source": [
        "from sklearn.model_selection import train_test_split\n",
        "Xtrain, Xtest, Ytrain, Ytest = train_test_split(X,Y,test_size=0.2)"
      ],
      "execution_count": null,
      "outputs": []
    },
    {
      "cell_type": "code",
      "metadata": {
        "id": "LLMJXo4hmngY"
      },
      "source": [
        "from sklearn.tree import DecisionTreeRegressor\n",
        "\n",
        "mo2 = DecisionTreeRegressor()\n",
        "mo2.fit(Xtrain, Ytrain)\n",
        "\n",
        "Yhat = mo2.predict(Xtest)\n",
        "\n",
        "from sklearn.metrics import mean_squared_error\n",
        "from sklearn.metrics import mean_absolute_error\n",
        "from sklearn.metrics import r2_score\n",
        "\n",
        "mse = mean_squared_error(Ytest, Yhat)\n",
        "mae = mean_absolute_error(Ytest, Yhat)\n",
        "R2 = r2_score(Ytest, Yhat)\n",
        "\n",
        "print(\"MSE: \",mse)\n",
        "print(\"MAE: \",mae)\n",
        "print(\"R^2: \",R2)"
      ],
      "execution_count": null,
      "outputs": []
    },
    {
      "cell_type": "code",
      "metadata": {
        "id": "SZHdixvrRd6J"
      },
      "source": [
        "1 - sum((Ytest - Yhat)**2)/sum((Ytest - Ytest.mean())**2)\n",
        "#sum((Yhat - Ytest.mean())**2)/sum((Ytest - Ytest.mean())**2)"
      ],
      "execution_count": null,
      "outputs": []
    },
    {
      "cell_type": "code",
      "metadata": {
        "id": "eoOUeaWHvrm4"
      },
      "source": [
        "mo2.feature_importances_"
      ],
      "execution_count": null,
      "outputs": []
    },
    {
      "cell_type": "code",
      "metadata": {
        "id": "LvwPgggVuVC_"
      },
      "source": [
        "Xtrain.columns"
      ],
      "execution_count": null,
      "outputs": []
    },
    {
      "cell_type": "markdown",
      "metadata": {
        "id": "0bJ1z4Bxo7aK"
      },
      "source": [
        "## Sintonización del modelo\n",
        "\n",
        "**INDICA :** \n",
        "\n",
        "¿cómo se realiza esta sintonización?\n",
        "\n",
        " ¿qué hiperparámetros se están modificando?\n",
        "\n",
        " ¿qué ocurre si ingresas otros valores?....prueba\n",
        "\n"
      ]
    },
    {
      "cell_type": "code",
      "metadata": {
        "id": "wlmR3MiIo7aQ"
      },
      "source": [
        "from sklearn.model_selection import train_test_split\n",
        "Xtrain, Xtest, Ytrain, Ytest = train_test_split(X,Y,test_size=0.2)"
      ],
      "execution_count": null,
      "outputs": []
    },
    {
      "cell_type": "code",
      "metadata": {
        "id": "rLoYkc1Ro7bB"
      },
      "source": [
        "from sklearn.tree import DecisionTreeRegressor\n",
        "import numpy as np\n",
        "from sklearn.model_selection import GridSearchCV\n",
        "\n",
        "model = DecisionTreeRegressor()\n",
        "params = {\"max_depth\": np.arange(3,6),          # [3,4,5]\n",
        "          \"min_samples_split\": np.arange(2,5)}  # [2,3,4]\n",
        "grid = GridSearchCV(estimator=model, param_grid=params,cv=10)\n",
        "grid.fit(Xtrain, Ytrain)"
      ],
      "execution_count": null,
      "outputs": []
    },
    {
      "cell_type": "code",
      "metadata": {
        "id": "pZoA7MEisz8y",
        "colab": {
          "base_uri": "https://localhost:8080/"
        },
        "outputId": "1edf19a4-d02e-4e2c-d160-cc20f3701aa7"
      },
      "source": [
        "print(grid.best_score_)\n",
        "print(grid.best_params_)"
      ],
      "execution_count": null,
      "outputs": [
        {
          "output_type": "stream",
          "text": [
            "0.2711640914525354\n",
            "{'max_depth': 3, 'min_samples_split': 2}\n"
          ],
          "name": "stdout"
        }
      ]
    },
    {
      "cell_type": "code",
      "metadata": {
        "id": "uWChSa4bMn5d"
      },
      "source": [
        "pd.DataFrame(grid.cv_results_)"
      ],
      "execution_count": null,
      "outputs": []
    },
    {
      "cell_type": "markdown",
      "metadata": {
        "id": "SFullOoNs5si"
      },
      "source": [
        "**Usar otra función de scoring/loss para elegir el \"mejor\" modelo**\n",
        "\n",
        "**INVESTIGA** COMO SE USAN ESTAS FUNCIONES\n",
        "\n",
        "\n",
        "\n",
        "*   Funciones pre-definidas: \n",
        "https://scikit-learn.org/stable/modules/model_evaluation.html#scoring-parameter\n",
        "\n",
        "*   Funciones personalizadas: \n",
        "https://scikit-learn.org/stable/modules/model_evaluation.html#scoring"
      ]
    },
    {
      "cell_type": "code",
      "metadata": {
        "id": "gJuaYP-juBIr"
      },
      "source": [
        "grid = GridSearchCV(estimator=model, param_grid=params,cv=10, scoring='r2')\n",
        "grid.fit(Xtrain, Ytrain)"
      ],
      "execution_count": null,
      "outputs": []
    },
    {
      "cell_type": "code",
      "metadata": {
        "id": "Dyg4RJa6uXGE"
      },
      "source": [
        "print(grid.best_score_)\n",
        "print(grid.best_params_)"
      ],
      "execution_count": null,
      "outputs": []
    },
    {
      "cell_type": "code",
      "metadata": {
        "id": "C7JUEd4ixqQO"
      },
      "source": [
        "#pd.DataFrame(grid.cv_results_).head()\n",
        "pd.DataFrame(grid.cv_results_).iloc[grid.best_index_]"
      ],
      "execution_count": null,
      "outputs": []
    },
    {
      "cell_type": "code",
      "metadata": {
        "id": "NGaKNOROOG06"
      },
      "source": [
        "# Visualizamos el árbol ganador!\n",
        "\n",
        "import matplotlib.pyplot as plt\n",
        "from sklearn import tree\n",
        "plt.subplots(1,1,figsize=(10,10))\n",
        "_= tree.plot_tree(grid.best_estimator_) "
      ],
      "execution_count": null,
      "outputs": []
    },
    {
      "cell_type": "markdown",
      "metadata": {
        "id": "VibGRFYGrUwu"
      },
      "source": [
        "### Graficamos los resultamos estimados"
      ]
    },
    {
      "cell_type": "code",
      "metadata": {
        "id": "Y_UWC-qlrRoH"
      },
      "source": [
        "Yhat = grid.predict(Xtest)\n",
        "\n",
        "print(mean_squared_error(Ytest, Yhat))\n",
        "print(mean_absolute_error(Ytest, Yhat))\n",
        "print(r2_score(Ytest, Yhat))\n",
        "\n",
        "import matplotlib.pyplot as plt\n",
        "plt.subplots(figsize=(20,5))\n",
        "plt.plot(Ytest)\n",
        "plt.plot(Yhat, 'r')"
      ],
      "execution_count": null,
      "outputs": []
    },
    {
      "cell_type": "code",
      "metadata": {
        "id": "aQJw8n7-rvwl",
        "colab": {
          "base_uri": "https://localhost:8080/"
        },
        "outputId": "71a8c01f-f958-4c07-dfc1-236eb1b15bc9"
      },
      "source": [
        "np.unique(Yhat)"
      ],
      "execution_count": null,
      "outputs": [
        {
          "output_type": "execute_result",
          "data": {
            "text/plain": [
              "array([ 96.18543046, 119.85714286, 145.23809524, 156.02040816,\n",
              "       184.86666667, 193.8125    , 224.16      , 245.94339623])"
            ]
          },
          "metadata": {
            "tags": []
          },
          "execution_count": 31
        }
      ]
    },
    {
      "cell_type": "code",
      "metadata": {
        "id": "hheqa2A8sI4n"
      },
      "source": [
        "Yhat"
      ],
      "execution_count": null,
      "outputs": []
    },
    {
      "cell_type": "markdown",
      "metadata": {
        "id": "yt45VBJIjYIB"
      },
      "source": [
        "# CONCLUSIONES\n",
        "\n",
        "Reflexiona sobre lo realizado y explica:\n",
        "\n",
        "¿qué indica el árbol ganador? ¿por qué es un \"ganador\"?\n",
        "\n",
        "¿que efectos tienen el manejar los hiperparámetros?\n",
        "\n",
        "Comparte tus conclusiones con la clase."
      ]
    }
  ]
}