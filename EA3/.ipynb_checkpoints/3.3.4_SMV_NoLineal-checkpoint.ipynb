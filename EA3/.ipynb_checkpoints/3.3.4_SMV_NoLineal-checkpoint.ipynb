{
 "cells": [
  {
   "cell_type": "markdown",
   "metadata": {
    "id": "llOeW0MF7Mxk"
   },
   "source": [
    "<img src='https://upload.wikimedia.org/wikipedia/commons/thumb/a/aa/Logo_DuocUC.svg/2560px-Logo_DuocUC.svg.png' width=50%, height=20%>"
   ]
  },
  {
   "cell_type": "markdown",
   "metadata": {
    "id": "6GvjdICG7L_r"
   },
   "source": [
    "# Support vector machines\n",
    "\n",
    "El método de Support vector machines está basado en generar la mejor partición de un espacio mediante un hiperplano, por ende, este método sólo sería útil para clasificar problemas linealmente separables. Para solucionar esta desventaja se puede modificar el espacio pata transformar las tareas en tareas linealmente separables."
   ]
  },
  {
   "cell_type": "code",
   "execution_count": null,
   "metadata": {},
   "outputs": [
    {
     "name": "stdout",
     "output_type": "stream",
     "text": [
      "Collecting plotly\n",
      "  Downloading plotly-5.22.0-py3-none-any.whl (16.4 MB)\n",
      "\u001b[K     |████████████████████████████████| 16.4 MB 6.9 MB/s eta 0:00:01\n",
      "\u001b[?25hRequirement already satisfied: tenacity>=6.2.0 in /Users/arturoguerra/opt/anaconda3/lib/python3.8/site-packages (from plotly) (8.2.3)\n",
      "Requirement already satisfied: packaging in /Users/arturoguerra/opt/anaconda3/lib/python3.8/site-packages (from plotly) (20.9)\n",
      "Requirement already satisfied: pyparsing>=2.0.2 in /Users/arturoguerra/opt/anaconda3/lib/python3.8/site-packages (from packaging->plotly) (2.4.7)\n",
      "Installing collected packages: plotly\n"
     ]
    }
   ],
   "source": [
    "%pip install plotly"
   ]
  },
  {
   "cell_type": "code",
   "execution_count": 1,
   "metadata": {
    "id": "9kl2BxA27L_0"
   },
   "outputs": [
    {
     "ename": "ModuleNotFoundError",
     "evalue": "No module named 'plotly'",
     "output_type": "error",
     "traceback": [
      "\u001b[0;31m---------------------------------------------------------------------------\u001b[0m",
      "\u001b[0;31mModuleNotFoundError\u001b[0m                       Traceback (most recent call last)",
      "\u001b[0;32m<ipython-input-1-644927ed22d0>\u001b[0m in \u001b[0;36m<module>\u001b[0;34m\u001b[0m\n\u001b[1;32m      5\u001b[0m \u001b[0;32mimport\u001b[0m \u001b[0msklearn\u001b[0m\u001b[0;34m.\u001b[0m\u001b[0mpreprocessing\u001b[0m\u001b[0;34m\u001b[0m\u001b[0;34m\u001b[0m\u001b[0m\n\u001b[1;32m      6\u001b[0m \u001b[0;32mimport\u001b[0m \u001b[0mmatplotlib\u001b[0m\u001b[0;34m.\u001b[0m\u001b[0mpyplot\u001b[0m \u001b[0;32mas\u001b[0m \u001b[0mplt\u001b[0m\u001b[0;34m\u001b[0m\u001b[0;34m\u001b[0m\u001b[0m\n\u001b[0;32m----> 7\u001b[0;31m \u001b[0;32mimport\u001b[0m \u001b[0mplotly\u001b[0m\u001b[0;34m.\u001b[0m\u001b[0mexpress\u001b[0m \u001b[0;32mas\u001b[0m \u001b[0mpx\u001b[0m\u001b[0;34m\u001b[0m\u001b[0;34m\u001b[0m\u001b[0m\n\u001b[0m\u001b[1;32m      8\u001b[0m \u001b[0;32mimport\u001b[0m \u001b[0mnumpy\u001b[0m \u001b[0;32mas\u001b[0m \u001b[0mnp\u001b[0m\u001b[0;34m\u001b[0m\u001b[0;34m\u001b[0m\u001b[0m\n\u001b[1;32m      9\u001b[0m \u001b[0;32mimport\u001b[0m \u001b[0mscipy\u001b[0m\u001b[0;34m\u001b[0m\u001b[0;34m\u001b[0m\u001b[0m\n",
      "\u001b[0;31mModuleNotFoundError\u001b[0m: No module named 'plotly'"
     ]
    }
   ],
   "source": [
    "import sklearn.datasets\n",
    "import sklearn.svm # Support vector machines\n",
    "import sklearn.metrics\n",
    "import sklearn.gaussian_process # Kernel de transformación del espacio\n",
    "import sklearn.preprocessing\n",
    "import matplotlib.pyplot as plt\n",
    "import plotly.express as px\n",
    "import numpy as np\n",
    "import scipy"
   ]
  },
  {
   "cell_type": "markdown",
   "metadata": {
    "id": "uyyvzvUD7L_1"
   },
   "source": [
    "Para demostrar el funcionamiento base de las Support Vector Machines generaremos un conjunto de datos sintético linealmente separable."
   ]
  },
  {
   "cell_type": "code",
   "execution_count": null,
   "metadata": {
    "id": "86HLrCdR7L_1"
   },
   "outputs": [],
   "source": [
    "blobs_features, blobs_label = sklearn.datasets.make_blobs(\n",
    "    n_samples = 200, \n",
    "    n_features = 2, \n",
    "    centers=2, \n",
    "    cluster_std = 5,\n",
    "    random_state=11\n",
    ")"
   ]
  },
  {
   "cell_type": "markdown",
   "metadata": {
    "id": "7OSaiXyX7L_2"
   },
   "source": [
    "Separamos el conjunto en subconjuntos de entrenamiento y prueba."
   ]
  },
  {
   "cell_type": "code",
   "execution_count": null,
   "metadata": {
    "id": "G2cely8x7L_2"
   },
   "outputs": [],
   "source": [
    "(\n",
    "    blobs_features_train, \n",
    "    blobs_features_test, \n",
    "    blobs_label_train, \n",
    "    blobs_label_test\n",
    ") = sklearn.model_selection.train_test_split(\n",
    "    blobs_features, \n",
    "    blobs_label, \n",
    "    test_size=0.33, \n",
    "    random_state=11\n",
    ")"
   ]
  },
  {
   "cell_type": "markdown",
   "metadata": {
    "id": "77ECucPz7L_2"
   },
   "source": [
    "Visualizamos el conjunto de datos sintético."
   ]
  },
  {
   "cell_type": "code",
   "execution_count": null,
   "metadata": {
    "id": "QRdv4Glu7L_2"
   },
   "outputs": [],
   "source": [
    "plt.scatter(\n",
    "    x = blobs_features_train[:,0],\n",
    "    y = blobs_features_train[:,1],\n",
    "    c = blobs_label_train,\n",
    "    label = \"traint\"\n",
    ")\n",
    "plt.scatter(\n",
    "    x = blobs_features_test[:,0],\n",
    "    y = blobs_features_test[:,1],\n",
    "    c = blobs_label_test,\n",
    "    marker = \"x\",\n",
    "    label = \"test\"\n",
    ")"
   ]
  },
  {
   "cell_type": "markdown",
   "metadata": {
    "id": "n11zVZx57L_3"
   },
   "source": [
    "## Kernel lineal"
   ]
  },
  {
   "cell_type": "markdown",
   "metadata": {
    "id": "GrDUXNQu7L_3"
   },
   "source": [
    "Evaluaremos el desempeño de este método con un kernel linea, lo que es lo mismo que utilizar directamente SVM sin modificar el espacio."
   ]
  },
  {
   "cell_type": "code",
   "execution_count": null,
   "metadata": {
    "id": "mR86C3nB7L_3"
   },
   "outputs": [],
   "source": [
    "svm_linear = sklearn.svm.SVC(kernel=\"linear\")\n",
    "svm_linear.fit(blobs_features_train, blobs_label_train)"
   ]
  },
  {
   "cell_type": "markdown",
   "metadata": {
    "id": "OX9gY4pP7L_4"
   },
   "source": [
    "Al entrenar nuestra SVM con kernel lineal ajustaremos los coeficientes asociados a la hiperplano que separa las clases."
   ]
  },
  {
   "cell_type": "code",
   "execution_count": null,
   "metadata": {
    "id": "xiujJe4u7L_4"
   },
   "outputs": [],
   "source": [
    "svm_linear.coef_"
   ]
  },
  {
   "cell_type": "code",
   "execution_count": null,
   "metadata": {
    "id": "g9UwlEfb7L_4"
   },
   "outputs": [],
   "source": [
    "svm_linear.intercept_"
   ]
  },
  {
   "cell_type": "markdown",
   "metadata": {
    "id": "GzEnlozT7L_4"
   },
   "source": [
    "La función de decisión que utilizamos para predecir la clase de un punto es la siguiente:\n",
    "\n",
    "\n",
    "$$\n",
    "c = W \\cdot x + b\n",
    "$$\n",
    "\n",
    "Donde $W$ son los coeficientes ajustados y $b$ es el intercepto"
   ]
  },
  {
   "cell_type": "code",
   "execution_count": null,
   "metadata": {
    "id": "UqAt2Wt77L_5"
   },
   "outputs": [],
   "source": [
    "np.dot(\n",
    "    blobs_features_test,\n",
    "    svm_linear.coef_[0]\n",
    ") + svm_linear.intercept_"
   ]
  },
  {
   "cell_type": "markdown",
   "metadata": {
    "id": "kHwf7Omu7L_5"
   },
   "source": [
    "Para obtener la clase asociada a cada resultado debemos considerar sólo el signo."
   ]
  },
  {
   "cell_type": "code",
   "execution_count": null,
   "metadata": {
    "id": "_jWSiBSv7L_5"
   },
   "outputs": [],
   "source": [
    "svm_linear_predictions = ((np.dot(\n",
    "    blobs_features_test,\n",
    "    svm_linear.coef_[0]\n",
    ") + svm_linear.intercept_) > 0).astype(int)\n",
    "svm_linear_predictions"
   ]
  },
  {
   "cell_type": "markdown",
   "metadata": {
    "id": "31YukscQ7L_5"
   },
   "source": [
    "El rendimiento de este modelo es el siguiente:"
   ]
  },
  {
   "cell_type": "code",
   "execution_count": null,
   "metadata": {
    "id": "LSJ-aqtM7L_5"
   },
   "outputs": [],
   "source": [
    "print(sklearn.metrics.classification_report(blobs_label_test,svm_linear_predictions))"
   ]
  },
  {
   "cell_type": "markdown",
   "metadata": {
    "id": "jML8js5a7L_6"
   },
   "source": [
    "El hiperplano separatriz lo podemos calcular desde los parámetros y el intercepto de la siguiente manera"
   ]
  },
  {
   "cell_type": "code",
   "execution_count": null,
   "metadata": {
    "id": "N1aVnzAU7L_6"
   },
   "outputs": [],
   "source": [
    "def linear_function(x, m = -1 * svm_linear.coef_[0][0] / svm_linear.coef_[0][1] , c = svm_linear.intercept_[0] / svm_linear.coef_[0][1]):\n",
    "    return m * x - c"
   ]
  },
  {
   "cell_type": "markdown",
   "metadata": {
    "id": "goSilc8z7L_6"
   },
   "source": [
    "Calculamos el hiperplano separatriz"
   ]
  },
  {
   "cell_type": "code",
   "execution_count": null,
   "metadata": {
    "id": "LALm0c1p7L_6"
   },
   "outputs": [],
   "source": [
    "decision_boundary_line_x = np.array([blobs_features_train[:,0].min(), blobs_features_train[:,0].max()])\n",
    "decision_boundary_line_y = [linear_function(x) for x in decision_boundary_line_x]"
   ]
  },
  {
   "cell_type": "code",
   "execution_count": null,
   "metadata": {
    "id": "7NzXfxSI7L_6"
   },
   "outputs": [],
   "source": [
    "decision_boundary_line_y"
   ]
  },
  {
   "cell_type": "markdown",
   "metadata": {
    "id": "nrT1Cgbc7L_7"
   },
   "source": [
    "Visualizamos el hiperplano separatriz"
   ]
  },
  {
   "cell_type": "code",
   "execution_count": null,
   "metadata": {
    "id": "D9JBiFO37L_7"
   },
   "outputs": [],
   "source": [
    "plt.scatter(\n",
    "    x = blobs_features_train[:,0],\n",
    "    y = blobs_features_train[:,1],\n",
    "    c = blobs_label_train,\n",
    "    label = \"traint\"\n",
    ")\n",
    "plt.scatter(\n",
    "    x = blobs_features_test[:,0],\n",
    "    y = blobs_features_test[:,1],\n",
    "    c = blobs_label_test,\n",
    "    marker = \"x\",\n",
    "    label = \"test\"\n",
    ")\n",
    "# plt.scatter(\n",
    "#     x = svm_linear.support_vectors_[:,0],\n",
    "#     y = svm_linear.support_vectors_[:,1],\n",
    "#     s=100,\n",
    "#     linewidth=1, \n",
    "#     facecolors='none', \n",
    "#     edgecolors='k'\n",
    "# )\n",
    "plt.plot(\n",
    "    decision_boundary_line_x,\n",
    "    decision_boundary_line_y\n",
    ")"
   ]
  },
  {
   "cell_type": "markdown",
   "metadata": {
    "id": "_QS-JauB7L_7"
   },
   "source": [
    "Los vectores de soporte son los puntos del conjunto de datos que se utilizan para el cálculo del hiperplano separatriz."
   ]
  },
  {
   "cell_type": "code",
   "execution_count": null,
   "metadata": {
    "id": "qE7hhd-T7L_7",
    "outputId": "77662e98-5994-48d4-cd22-a91724241e79"
   },
   "outputs": [],
   "source": [
    "svm_linear.support_vectors_"
   ]
  },
  {
   "cell_type": "markdown",
   "metadata": {
    "id": "u1lqGDTj7L_7"
   },
   "source": [
    "Visualizamos los vectores de soporte con el hiperplano separatriz."
   ]
  },
  {
   "cell_type": "code",
   "execution_count": null,
   "metadata": {
    "id": "keUh0axm7L_7"
   },
   "outputs": [],
   "source": [
    "plt.scatter(\n",
    "    x = blobs_features_train[:,0],\n",
    "    y = blobs_features_train[:,1],\n",
    "    c = blobs_label_train,\n",
    "    label = \"traint\"\n",
    ")\n",
    "plt.scatter(\n",
    "    x = blobs_features_test[:,0],\n",
    "    y = blobs_features_test[:,1],\n",
    "    c = blobs_label_test,\n",
    "    marker = \"x\",\n",
    "    label = \"test\"\n",
    ")\n",
    "plt.scatter(\n",
    "    x = svm_linear.support_vectors_[:,0],\n",
    "    y = svm_linear.support_vectors_[:,1],\n",
    "    s=100,\n",
    "    linewidth=1, \n",
    "    facecolors='none', \n",
    "    edgecolors='k'\n",
    ")\n",
    "plt.plot(\n",
    "    decision_boundary_line_x,\n",
    "    decision_boundary_line_y\n",
    ")"
   ]
  },
  {
   "cell_type": "code",
   "execution_count": null,
   "metadata": {
    "id": "IIulILXi7L_8"
   },
   "outputs": [],
   "source": [
    "# Funciones para mostrar los umbrales de SVM sobre nuestros datos\n",
    "\n",
    "def make_meshgrid(x, y, h=.02):\n",
    "    x_min, x_max = x.min() - 1, x.max() + 1\n",
    "    y_min, y_max = y.min() - 1, y.max() + 1\n",
    "    xx, yy = np.meshgrid(np.arange(x_min, x_max, h), np.arange(y_min, y_max, h))\n",
    "    return xx, yy\n",
    "\n",
    "def plot_contours(ax, clf, xx, yy, **params):\n",
    "    Z = clf.predict(np.c_[xx.ravel(), yy.ravel()])\n",
    "    Z = Z.reshape(xx.shape)\n",
    "    out = ax.contourf(xx, yy, Z, **params)\n",
    "    return out"
   ]
  },
  {
   "cell_type": "code",
   "execution_count": null,
   "metadata": {
    "id": "_u0BCcae7L_8"
   },
   "outputs": [],
   "source": [
    "fig, ax = plt.subplots()\n",
    "X0, X1 = blobs_features_test[:,0], blobs_features_test[:,1] \n",
    "xx, yy = make_meshgrid(X0, X1)\n",
    "plot_contours(ax, svm_linear, xx, yy, cmap=plt.cm.coolwarm, alpha=0.8)\n",
    "ax.scatter(X0, X1, c=blobs_label_test, cmap=plt.cm.coolwarm, s=20, edgecolors='k')\n",
    "plt.show()"
   ]
  },
  {
   "cell_type": "markdown",
   "metadata": {
    "id": "jCvtFvAz7L_8"
   },
   "source": [
    "Generaremos otro conjunto de datos sintético que no es linealmente separable."
   ]
  },
  {
   "cell_type": "code",
   "execution_count": null,
   "metadata": {
    "id": "4IKSzN0r7L_8"
   },
   "outputs": [],
   "source": [
    "circles_features, circles_label = sklearn.datasets.make_gaussian_quantiles(n_features=2, n_classes=2, n_samples=200, mean=(0,0), random_state = 12)"
   ]
  },
  {
   "cell_type": "code",
   "execution_count": null,
   "metadata": {
    "id": "t-UIaZ3c7L_8"
   },
   "outputs": [],
   "source": [
    "(\n",
    "    circles_features_train, \n",
    "    circles_features_test, \n",
    "    circles_label_train, \n",
    "    circles_label_test\n",
    ") = sklearn.model_selection.train_test_split(\n",
    "    circles_features, \n",
    "    circles_label, \n",
    "    test_size=0.33, \n",
    "    random_state=11\n",
    ")"
   ]
  },
  {
   "cell_type": "code",
   "execution_count": null,
   "metadata": {
    "id": "ZmALSyy57L_9"
   },
   "outputs": [],
   "source": [
    "plt.scatter(\n",
    "    x = circles_features_train[:,0],\n",
    "    y = circles_features_train[:,1],\n",
    "    c = circles_label_train,\n",
    "    label = \"train\"\n",
    ")\n",
    "plt.scatter(\n",
    "    x = circles_features_test[:,0],\n",
    "    y = circles_features_test[:,1],\n",
    "    c = circles_label_test,\n",
    "    marker = \"x\",\n",
    "    label = \"test\"\n",
    ")"
   ]
  },
  {
   "cell_type": "markdown",
   "metadata": {
    "id": "I7oosDsw7L_9"
   },
   "source": [
    "Si ajustamos un SVM con kernel lineal vemos que no funciona correctamente."
   ]
  },
  {
   "cell_type": "code",
   "execution_count": null,
   "metadata": {
    "id": "LaHxlo3H7L_9",
    "outputId": "e10da7ec-a59c-414f-c81b-b5e288176e22"
   },
   "outputs": [],
   "source": [
    "svm_linear_2 = sklearn.svm.SVC(kernel=\"linear\")\n",
    "svm_linear_2.fit(circles_features_train, circles_label_train)"
   ]
  },
  {
   "cell_type": "code",
   "execution_count": null,
   "metadata": {
    "id": "tQoouWTW7L_9"
   },
   "outputs": [],
   "source": [
    "fig, ax = plt.subplots()\n",
    "X0, X1 = circles_features_test[:,0], circles_features_test[:,1] \n",
    "xx, yy = make_meshgrid(X0, X1)\n",
    "plot_contours(ax, svm_linear_2, xx, yy, cmap=plt.cm.coolwarm, alpha=0.8)\n",
    "ax.scatter(X0, X1, c=circles_label_test, cmap=plt.cm.coolwarm, s=20, edgecolors='k')\n",
    "plt.show()"
   ]
  },
  {
   "cell_type": "code",
   "execution_count": null,
   "metadata": {
    "id": "n1ORWZHB7L_9"
   },
   "outputs": [],
   "source": [
    "print(sklearn.metrics.classification_report(circles_label_test, svm_linear_2.predict(circles_features_test)))"
   ]
  },
  {
   "cell_type": "markdown",
   "metadata": {
    "id": "KUe8C1pa7L_-"
   },
   "source": [
    "## Kernel Radial Base Function\n",
    "\n",
    "Para poder transformar nuestro espacio en una tarea linealmente separable debemos generar una variable nueva que transforme nuestro espacio en una tarea linealmente separable.\n",
    "\n",
    "En nuestro conjunto de datos, una buena variable extra que podemos construir es la distancia al centro."
   ]
  },
  {
   "cell_type": "code",
   "execution_count": null,
   "metadata": {
    "id": "Ms3Rzucx7L_-",
    "outputId": "cefddbf5-7177-4bac-fe36-bd53f333c996"
   },
   "outputs": [],
   "source": [
    "distance_to_center_train = np.apply_along_axis(lambda x: scipy.spatial.distance.euclidean(x,[0,0]), 1, circles_features_train)\n",
    "distance_to_center_train"
   ]
  },
  {
   "cell_type": "code",
   "execution_count": null,
   "metadata": {
    "id": "HawnVsMD7L_-"
   },
   "outputs": [],
   "source": [
    "distance_to_center_test = np.apply_along_axis(lambda x: scipy.spatial.distance.euclidean(x,[0,0]), 1, circles_features_test)"
   ]
  },
  {
   "cell_type": "code",
   "execution_count": null,
   "metadata": {
    "id": "7uYWMZf57L_-",
    "outputId": "2b6ee740-8b46-4335-c1ea-3001983a124f"
   },
   "outputs": [],
   "source": [
    "circles_features_train_with_distances = np.hstack([circles_features_train, np.expand_dims(distance_to_center_train, axis = 1)])\n",
    "circles_features_train_with_distances"
   ]
  },
  {
   "cell_type": "code",
   "execution_count": null,
   "metadata": {
    "id": "InDTRcHr7L__"
   },
   "outputs": [],
   "source": [
    "circles_features_test_with_distances = np.hstack([circles_features_test, np.expand_dims(distance_to_center_test, axis = 1)])"
   ]
  },
  {
   "cell_type": "markdown",
   "metadata": {
    "id": "ZNeOo3NI7L__"
   },
   "source": [
    "Asi se ve nuestro conjunto de datos con la variable construida."
   ]
  },
  {
   "cell_type": "code",
   "execution_count": null,
   "metadata": {
    "id": "R54h9LzV7L__",
    "outputId": "20d545ea-a9a0-4e4d-c192-38dcca85df3d"
   },
   "outputs": [],
   "source": [
    "px.scatter_3d(x = circles_features_train_with_distances[:,0], \n",
    "           y = circles_features_train_with_distances[:,1], \n",
    "           z = circles_features_train_with_distances[:,2],\n",
    "              color = circles_label_train)\n"
   ]
  },
  {
   "cell_type": "markdown",
   "metadata": {
    "id": "ZGrda7Bt7MAA"
   },
   "source": [
    "Si ajustamos el modelo sobre este conjunto de datos con la variable extra vemos que funciona mucho mejor."
   ]
  },
  {
   "cell_type": "code",
   "execution_count": null,
   "metadata": {
    "id": "iFAAdkkd7MAA",
    "outputId": "f1d0db88-e6b1-42bb-b1d3-b77f572092aa"
   },
   "outputs": [],
   "source": [
    "svm_linear_3 = sklearn.svm.SVC(kernel=\"linear\")\n",
    "svm_linear_3.fit(circles_features_train_with_distances, circles_label_train)"
   ]
  },
  {
   "cell_type": "code",
   "execution_count": null,
   "metadata": {
    "id": "Vm0jnxNx7MAA",
    "outputId": "e4856fdf-ab0b-4040-8d6e-2d187d2946aa"
   },
   "outputs": [],
   "source": [
    "print(sklearn.metrics.classification_report(circles_label_test, svm_linear_3.predict(circles_features_test_with_distances)))"
   ]
  },
  {
   "cell_type": "markdown",
   "metadata": {
    "id": "7Di3SCxB7MAA"
   },
   "source": [
    "La generalización de esta idea es el kernel Radial Base Function, el cual es una función que depende de la distancia hacia un centro, que puede ser el origen o no."
   ]
  },
  {
   "cell_type": "code",
   "execution_count": null,
   "metadata": {
    "id": "Vv6vCMNn7MAA"
   },
   "outputs": [],
   "source": [
    "rbf = sklearn.gaussian_process.kernels.RBF()"
   ]
  },
  {
   "cell_type": "markdown",
   "metadata": {
    "id": "QGD7jFZg7MAB"
   },
   "source": [
    "Generamos la característica sintética."
   ]
  },
  {
   "cell_type": "code",
   "execution_count": null,
   "metadata": {
    "id": "4fuXrDGU7MAB",
    "outputId": "6ff6625f-59ed-44b6-d629-0eb717a22c35",
    "scrolled": true
   },
   "outputs": [],
   "source": [
    "rbf_train = rbf(circles_features_train)[0]\n",
    "rbf_train"
   ]
  },
  {
   "cell_type": "markdown",
   "metadata": {
    "id": "HaHD-r7M7MAB"
   },
   "source": [
    "Visualizamos cómo se ve el conjunto de datos."
   ]
  },
  {
   "cell_type": "code",
   "execution_count": null,
   "metadata": {
    "id": "-_ccErSo7MAB",
    "outputId": "70a1605a-5cdd-47e8-d96a-c1bc6515a904"
   },
   "outputs": [],
   "source": [
    "px.scatter_3d(x = circles_features_train[:,0], \n",
    "           y = circles_features_train[:,1], \n",
    "           z = rbf_train,\n",
    "              color = circles_label_train)\n"
   ]
  },
  {
   "cell_type": "markdown",
   "metadata": {
    "id": "heN4YSVZ7MAB"
   },
   "source": [
    "Podemos instanciar un modelo que implemente directamente el kernel RBF."
   ]
  },
  {
   "cell_type": "code",
   "execution_count": null,
   "metadata": {
    "id": "tALxbzzF7MAB",
    "outputId": "f1639b80-4e69-4fcf-8ecb-0fc817114d22"
   },
   "outputs": [],
   "source": [
    "svm_rbf = sklearn.svm.SVC(kernel=\"rbf\")\n",
    "svm_rbf.fit(circles_features_train, circles_label_train)"
   ]
  },
  {
   "cell_type": "code",
   "execution_count": null,
   "metadata": {
    "id": "IIg0ALee7MAC",
    "outputId": "12d12343-f28f-430b-e59f-ee97d0670bc4"
   },
   "outputs": [],
   "source": [
    "fig, ax = plt.subplots()\n",
    "X0, X1 = circles_features_test[:,0], circles_features_test[:,1] \n",
    "xx, yy = make_meshgrid(X0, X1)\n",
    "plot_contours(ax, svm_rbf, xx, yy, cmap=plt.cm.coolwarm, alpha=0.8)\n",
    "ax.scatter(X0, X1, c=circles_label_test, cmap=plt.cm.coolwarm, s=20, edgecolors='k')\n",
    "plt.show()"
   ]
  }
 ],
 "metadata": {
  "colab": {
   "collapsed_sections": [
    "KUe8C1pa7L_-"
   ],
   "provenance": []
  },
  "kernelspec": {
   "display_name": "Python 3",
   "language": "python",
   "name": "python3"
  },
  "language_info": {
   "codemirror_mode": {
    "name": "ipython",
    "version": 3
   },
   "file_extension": ".py",
   "mimetype": "text/x-python",
   "name": "python",
   "nbconvert_exporter": "python",
   "pygments_lexer": "ipython3",
   "version": "3.8.8"
  }
 },
 "nbformat": 4,
 "nbformat_minor": 1
}
