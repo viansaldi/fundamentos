{
  "nbformat": 4,
  "nbformat_minor": 0,
  "metadata": {
    "colab": {
      "provenance": []
    },
    "kernelspec": {
      "name": "python3",
      "display_name": "Python 3"
    },
    "language_info": {
      "name": "python"
    }
  },
  "cells": [
    {
      "cell_type": "code",
      "execution_count": null,
      "metadata": {
        "id": "tyj-eYSknkNv"
      },
      "outputs": [],
      "source": []
    },
    {
      "cell_type": "markdown",
      "source": [
        "# 1 Colecciones en Python\n",
        "## 1.1 Listas\n",
        "\n",
        "Se distinguen por []"
      ],
      "metadata": {
        "id": "gn8THGK4nknq"
      }
    },
    {
      "cell_type": "code",
      "source": [
        "lst_x = ['Pedro', 'Miguelina', 'Fernando', 'Josefina']\n",
        "lst_x"
      ],
      "metadata": {
        "colab": {
          "base_uri": "https://localhost:8080/"
        },
        "id": "0rZtb5EznvRK",
        "outputId": "50472cca-e5b5-4546-b90e-17dfdac1c09f"
      },
      "execution_count": 1,
      "outputs": [
        {
          "output_type": "execute_result",
          "data": {
            "text/plain": [
              "['Pedro', 'Miguelina', 'Fernando', 'Josefina']"
            ]
          },
          "metadata": {},
          "execution_count": 1
        }
      ]
    },
    {
      "cell_type": "code",
      "source": [
        "lst_y = [25,45,29,15,30,6]\n",
        "lst_y"
      ],
      "metadata": {
        "colab": {
          "base_uri": "https://localhost:8080/"
        },
        "id": "xFQWMnM8nz6U",
        "outputId": "2b478160-c99f-4b71-c816-068f6708de4b"
      },
      "execution_count": 2,
      "outputs": [
        {
          "output_type": "execute_result",
          "data": {
            "text/plain": [
              "[25, 45, 29, 15, 30, 6]"
            ]
          },
          "metadata": {},
          "execution_count": 2
        }
      ]
    },
    {
      "cell_type": "code",
      "source": [
        "lst_z = ['Pedro', 25, 'Miguelina', 56, 'Fernando', 45, 'Josefina', 49.3, False]\n",
        "lst_z"
      ],
      "metadata": {
        "colab": {
          "base_uri": "https://localhost:8080/"
        },
        "id": "CDnBA0MEoek8",
        "outputId": "0f21d5f4-3465-46a4-e968-366103f45195"
      },
      "execution_count": 3,
      "outputs": [
        {
          "output_type": "execute_result",
          "data": {
            "text/plain": [
              "['Pedro', 25, 'Miguelina', 56, 'Fernando', 45, 'Josefina', 49.3, False]"
            ]
          },
          "metadata": {},
          "execution_count": 3
        }
      ]
    },
    {
      "cell_type": "code",
      "source": [
        "lst_x[0:2]"
      ],
      "metadata": {
        "colab": {
          "base_uri": "https://localhost:8080/"
        },
        "id": "y37FUG6FpG6S",
        "outputId": "84df5fcd-5763-48e9-c9ed-1d3e7291a8c8"
      },
      "execution_count": 4,
      "outputs": [
        {
          "output_type": "execute_result",
          "data": {
            "text/plain": [
              "['Pedro', 'Miguelina']"
            ]
          },
          "metadata": {},
          "execution_count": 4
        }
      ]
    },
    {
      "cell_type": "code",
      "source": [
        "lst_y[2:5]"
      ],
      "metadata": {
        "colab": {
          "base_uri": "https://localhost:8080/"
        },
        "id": "FsL2daxupHrP",
        "outputId": "771a9d0d-ba0e-4d81-e2e8-50d3778bac29"
      },
      "execution_count": 5,
      "outputs": [
        {
          "output_type": "execute_result",
          "data": {
            "text/plain": [
              "[29, 15, 30]"
            ]
          },
          "metadata": {},
          "execution_count": 5
        }
      ]
    },
    {
      "cell_type": "code",
      "source": [
        "lst_z[3:890]"
      ],
      "metadata": {
        "colab": {
          "base_uri": "https://localhost:8080/"
        },
        "id": "cXi5l4s-pKpG",
        "outputId": "0b2ecd4d-6f2d-4215-8cfd-297796a6475f"
      },
      "execution_count": 6,
      "outputs": [
        {
          "output_type": "execute_result",
          "data": {
            "text/plain": [
              "[56, 'Fernando', 45, 'Josefina', 49.3, False]"
            ]
          },
          "metadata": {},
          "execution_count": 6
        }
      ]
    },
    {
      "cell_type": "code",
      "source": [
        "lst_y = ['a','e','i','o','u',1,2,3,4,5]\n",
        "print(\"1:\", lst_y[:2])\n",
        "print(\"2:\", lst_y[-3])\n",
        "print(\"3:\", lst_y[-3:])\n",
        "print(\"3:\", lst_y[3:5])"
      ],
      "metadata": {
        "colab": {
          "base_uri": "https://localhost:8080/"
        },
        "id": "5DrTmuA0pSaQ",
        "outputId": "4474f178-ff48-4281-e007-a6838750c95a"
      },
      "execution_count": 7,
      "outputs": [
        {
          "output_type": "stream",
          "name": "stdout",
          "text": [
            "1: ['a', 'e']\n",
            "2: 3\n",
            "3: [3, 4, 5]\n",
            "3: ['o', 'u']\n"
          ]
        }
      ]
    },
    {
      "cell_type": "code",
      "source": [
        "# Agregar elementos a la lista\n",
        "lst_z = lst_z + [89]\n",
        "lst_z"
      ],
      "metadata": {
        "colab": {
          "base_uri": "https://localhost:8080/"
        },
        "id": "DlZY5bJhpaEo",
        "outputId": "db8051a6-3cbe-4601-92d5-bcb15c8c1b65"
      },
      "execution_count": 8,
      "outputs": [
        {
          "output_type": "execute_result",
          "data": {
            "text/plain": [
              "['Pedro', 25, 'Miguelina', 56, 'Fernando', 45, 'Josefina', 49.3, False, 89]"
            ]
          },
          "metadata": {},
          "execution_count": 8
        }
      ]
    },
    {
      "cell_type": "code",
      "source": [
        "lst_w = [2,15,3]\n",
        "print(\"Inicial : \", lst_w)\n",
        "lst_w = lst_w * 2\n",
        "print(\"Final : \", lst_w)"
      ],
      "metadata": {
        "colab": {
          "base_uri": "https://localhost:8080/"
        },
        "id": "tweXkgLKpcSz",
        "outputId": "79828d51-7aa0-4b2c-ad3e-de3a48741d21"
      },
      "execution_count": 9,
      "outputs": [
        {
          "output_type": "stream",
          "name": "stdout",
          "text": [
            "Inicial :  [2, 15, 3]\n",
            "Final :  [2, 15, 3, 2, 15, 3]\n"
          ]
        }
      ]
    },
    {
      "cell_type": "code",
      "source": [
        "print(len(lst_w))"
      ],
      "metadata": {
        "colab": {
          "base_uri": "https://localhost:8080/"
        },
        "id": "u8c5Z8Jupei0",
        "outputId": "16a47dff-48e7-4ba9-8c1d-5cfea599848f"
      },
      "execution_count": 10,
      "outputs": [
        {
          "output_type": "stream",
          "name": "stdout",
          "text": [
            "6\n"
          ]
        }
      ]
    },
    {
      "cell_type": "code",
      "source": [
        "# Eliminación de elementos\n",
        "del(lst_w[len(lst_w)-2:])\n",
        "lst_w"
      ],
      "metadata": {
        "colab": {
          "base_uri": "https://localhost:8080/"
        },
        "id": "qdGSbEj5pelb",
        "outputId": "33b1f1dc-780a-484b-89c7-713e957a9cb3"
      },
      "execution_count": 11,
      "outputs": [
        {
          "output_type": "execute_result",
          "data": {
            "text/plain": [
              "[2, 15, 3, 2]"
            ]
          },
          "metadata": {},
          "execution_count": 11
        }
      ]
    },
    {
      "cell_type": "code",
      "source": [
        "# Referencias\n",
        "x = [\"a\", \"b\", \"c\"]\n",
        "y = x\n",
        "print(\"x inicial = \", x)\n",
        "print(\"y inicial = \", y)\n",
        "x[2] = 'd'\n",
        "print(\"x final = \", x)\n",
        "print(\"y final = \", y)"
      ],
      "metadata": {
        "colab": {
          "base_uri": "https://localhost:8080/"
        },
        "id": "rRiXZwNDpkPM",
        "outputId": "df798d48-8674-4376-d01c-4c63e6fe80b0"
      },
      "execution_count": 12,
      "outputs": [
        {
          "output_type": "stream",
          "name": "stdout",
          "text": [
            "x inicial =  ['a', 'b', 'c']\n",
            "y inicial =  ['a', 'b', 'c']\n",
            "x final =  ['a', 'b', 'd']\n",
            "y final =  ['a', 'b', 'd']\n"
          ]
        }
      ]
    },
    {
      "cell_type": "code",
      "source": [
        "# Ahora se realizan cambios en y\n",
        "print(\"x inicial = \", x)\n",
        "print(\"y inicial = \", y)\n",
        "y[1] = 'e'\n",
        "print(\"x final = \", x)\n",
        "print(\"y final = \", y)"
      ],
      "metadata": {
        "colab": {
          "base_uri": "https://localhost:8080/"
        },
        "id": "W_cHfgj1pkRi",
        "outputId": "15ac0889-0593-4e33-f31e-4bef8b8fa609"
      },
      "execution_count": 13,
      "outputs": [
        {
          "output_type": "stream",
          "name": "stdout",
          "text": [
            "x inicial =  ['a', 'b', 'd']\n",
            "y inicial =  ['a', 'b', 'd']\n",
            "x final =  ['a', 'e', 'd']\n",
            "y final =  ['a', 'e', 'd']\n"
          ]
        }
      ]
    },
    {
      "cell_type": "code",
      "source": [
        "x = [\"a\", \"b\", \"c\"]\n",
        "y = list(x)\n",
        "print(\"x inicial = \", x)\n",
        "print(\"y inicial = \", y)\n",
        "y[1] = \"f\"\n",
        "print(\"x final = \", x)\n",
        "print(\"y final = \", y)"
      ],
      "metadata": {
        "colab": {
          "base_uri": "https://localhost:8080/"
        },
        "id": "RC59NcdvpqIR",
        "outputId": "943fdee3-bdc1-49fb-aa7a-7b9923a86674"
      },
      "execution_count": 14,
      "outputs": [
        {
          "output_type": "stream",
          "name": "stdout",
          "text": [
            "x inicial =  ['a', 'b', 'c']\n",
            "y inicial =  ['a', 'b', 'c']\n",
            "x final =  ['a', 'b', 'c']\n",
            "y final =  ['a', 'f', 'c']\n"
          ]
        }
      ]
    },
    {
      "cell_type": "markdown",
      "source": [
        "## 1.2 Tuplas\n",
        "Se distinguen por () y son listas inmutables"
      ],
      "metadata": {
        "id": "GOfq5QzlpzAR"
      }
    },
    {
      "cell_type": "code",
      "source": [
        "tx = (10, 15, 3)\n",
        "tx"
      ],
      "metadata": {
        "colab": {
          "base_uri": "https://localhost:8080/"
        },
        "id": "iJuecUyApqKp",
        "outputId": "a130c060-1715-4481-beb3-90b206add501"
      },
      "execution_count": 15,
      "outputs": [
        {
          "output_type": "execute_result",
          "data": {
            "text/plain": [
              "(10, 15, 3)"
            ]
          },
          "metadata": {},
          "execution_count": 15
        }
      ]
    },
    {
      "cell_type": "code",
      "source": [
        "ty = (\"aire\", 90, 'a', True)\n",
        "ty"
      ],
      "metadata": {
        "colab": {
          "base_uri": "https://localhost:8080/"
        },
        "id": "fzXefwdwp3Rt",
        "outputId": "0704350f-f12c-4035-d8c5-ac875a6c4dfa"
      },
      "execution_count": 16,
      "outputs": [
        {
          "output_type": "execute_result",
          "data": {
            "text/plain": [
              "('aire', 90, 'a', True)"
            ]
          },
          "metadata": {},
          "execution_count": 16
        }
      ]
    },
    {
      "cell_type": "code",
      "source": [
        "tz = 29,\n",
        "len(tz)"
      ],
      "metadata": {
        "colab": {
          "base_uri": "https://localhost:8080/"
        },
        "id": "jcOzxolQp7Gx",
        "outputId": "c212dcbb-5a0f-4ea4-c645-9bb58c01cc0b"
      },
      "execution_count": 17,
      "outputs": [
        {
          "output_type": "execute_result",
          "data": {
            "text/plain": [
              "1"
            ]
          },
          "metadata": {},
          "execution_count": 17
        }
      ]
    },
    {
      "cell_type": "code",
      "source": [
        "ta = ('a', 'e', 'i')\n",
        "tb = (15,9,3)\n",
        "ta + tb"
      ],
      "metadata": {
        "colab": {
          "base_uri": "https://localhost:8080/"
        },
        "id": "bc5fnivDp7I3",
        "outputId": "db0731f9-f456-404e-d77a-5f1766e05379"
      },
      "execution_count": 18,
      "outputs": [
        {
          "output_type": "execute_result",
          "data": {
            "text/plain": [
              "('a', 'e', 'i', 15, 9, 3)"
            ]
          },
          "metadata": {},
          "execution_count": 18
        }
      ]
    },
    {
      "cell_type": "code",
      "source": [
        "ta*3"
      ],
      "metadata": {
        "colab": {
          "base_uri": "https://localhost:8080/"
        },
        "id": "HQzN_CvPqCdW",
        "outputId": "276b0e42-3708-415c-a9e7-8fdef18918eb"
      },
      "execution_count": 19,
      "outputs": [
        {
          "output_type": "execute_result",
          "data": {
            "text/plain": [
              "('a', 'e', 'i', 'a', 'e', 'i', 'a', 'e', 'i')"
            ]
          },
          "metadata": {},
          "execution_count": 19
        }
      ]
    },
    {
      "cell_type": "code",
      "source": [
        "tx = (15,12,4)\n",
        "ty = (25,15,8)\n",
        "tx < ty"
      ],
      "metadata": {
        "colab": {
          "base_uri": "https://localhost:8080/"
        },
        "id": "4DLcz-UwqCfd",
        "outputId": "85e3fae3-4d2e-4fe2-8451-cd1898e0d4ee"
      },
      "execution_count": 20,
      "outputs": [
        {
          "output_type": "execute_result",
          "data": {
            "text/plain": [
              "True"
            ]
          },
          "metadata": {},
          "execution_count": 20
        }
      ]
    },
    {
      "cell_type": "markdown",
      "source": [
        "## 1.3 Conjuntos\n",
        "Se denotan por {}"
      ],
      "metadata": {
        "id": "2rJ8bdMtqJZX"
      }
    },
    {
      "cell_type": "code",
      "source": [
        "cx = {True, 'a', \"aire\", 29, 29 < 10, 20 % 2 == 0 }\n",
        "cx"
      ],
      "metadata": {
        "colab": {
          "base_uri": "https://localhost:8080/"
        },
        "id": "r37Yg_DiqK2X",
        "outputId": "487c5f64-3429-40b3-b104-954e63470d10"
      },
      "execution_count": 21,
      "outputs": [
        {
          "output_type": "execute_result",
          "data": {
            "text/plain": [
              "{29, False, True, 'a', 'aire'}"
            ]
          },
          "metadata": {},
          "execution_count": 21
        }
      ]
    },
    {
      "cell_type": "code",
      "source": [
        "print(\"1: \", type(cx))\n",
        "print(\"2: \", 29 in cx)\n",
        "print(\"3: \", 29 not in cx)"
      ],
      "metadata": {
        "colab": {
          "base_uri": "https://localhost:8080/"
        },
        "id": "mOTdKEYJqK5v",
        "outputId": "0273fe71-a73d-4930-e372-d021038a94a3"
      },
      "execution_count": 22,
      "outputs": [
        {
          "output_type": "stream",
          "name": "stdout",
          "text": [
            "1:  <class 'set'>\n",
            "2:  True\n",
            "3:  False\n"
          ]
        }
      ]
    },
    {
      "cell_type": "code",
      "source": [
        "cx.add(25)\n",
        "cx"
      ],
      "metadata": {
        "colab": {
          "base_uri": "https://localhost:8080/"
        },
        "id": "1rBtj2gEqcua",
        "outputId": "7d97324f-b5f5-4791-dee1-bd47701e3889"
      },
      "execution_count": 23,
      "outputs": [
        {
          "output_type": "execute_result",
          "data": {
            "text/plain": [
              "{25, 29, False, True, 'a', 'aire'}"
            ]
          },
          "metadata": {},
          "execution_count": 23
        }
      ]
    },
    {
      "cell_type": "code",
      "source": [
        "cx.update([15,73,'b'])\n",
        "cx"
      ],
      "metadata": {
        "colab": {
          "base_uri": "https://localhost:8080/"
        },
        "id": "a5iXBwxyqcwh",
        "outputId": "3d78f578-0a70-452e-a86a-be1ac6e6498b"
      },
      "execution_count": 24,
      "outputs": [
        {
          "output_type": "execute_result",
          "data": {
            "text/plain": [
              "{15, 25, 29, 73, False, True, 'a', 'aire', 'b'}"
            ]
          },
          "metadata": {},
          "execution_count": 24
        }
      ]
    },
    {
      "cell_type": "code",
      "source": [
        "cx = {'a', \"aire\", \"cocina\", 26, 29, 1}\n",
        "print(\"cx antes : \", cx)\n",
        "cx.remove('a')\n",
        "print(\"cx despues : \", cx)"
      ],
      "metadata": {
        "colab": {
          "base_uri": "https://localhost:8080/"
        },
        "id": "nR-DfTEMqngz",
        "outputId": "99f6f3b9-712c-4786-f037-61554458dd3d"
      },
      "execution_count": 25,
      "outputs": [
        {
          "output_type": "stream",
          "name": "stdout",
          "text": [
            "cx antes :  {1, 'a', 'aire', 'cocina', 26, 29}\n",
            "cx despues :  {1, 'aire', 'cocina', 26, 29}\n"
          ]
        }
      ]
    },
    {
      "cell_type": "code",
      "source": [
        "# Respecto del método remove() la consideración que se debe tener es que si el elemento no existe marca error\n",
        "cx = {'a', \"aire\", \"cocina\", 26, 29, 1}\n",
        "print(\"cx antes : \", cx)\n",
        "cx.discard('b')\n",
        "print(\"cx despues : \", cx)"
      ],
      "metadata": {
        "colab": {
          "base_uri": "https://localhost:8080/"
        },
        "id": "0ZPvz2Kpqnip",
        "outputId": "339f6d76-4d3f-4e54-f93e-9e20e6b6257c"
      },
      "execution_count": 26,
      "outputs": [
        {
          "output_type": "stream",
          "name": "stdout",
          "text": [
            "cx antes :  {1, 'a', 'aire', 'cocina', 26, 29}\n",
            "cx despues :  {1, 'a', 'aire', 'cocina', 26, 29}\n"
          ]
        }
      ]
    },
    {
      "cell_type": "markdown",
      "source": [
        "## 1.4 Diccionarios\n",
        "Definen una relación de uno a uno entre <clave, valor>"
      ],
      "metadata": {
        "id": "ms_efN-CqwN3"
      }
    },
    {
      "cell_type": "code",
      "source": [
        "peliculas = {'Dr. Strange': 7, 'Capitan América: civil war': 6,\n",
        "\n",
        "'Avengers: la era de ultron': 8, 'Avengers: end game': 10,'Pantera negra': 9}\n",
        "for nombre, nota in peliculas.items():\n",
        "    print(nombre, \"tiene nota\", nota)"
      ],
      "metadata": {
        "colab": {
          "base_uri": "https://localhost:8080/"
        },
        "id": "8llKP4u_q3tk",
        "outputId": "ec9b3213-cc1e-4fff-dfe2-1cbd795e3f29"
      },
      "execution_count": 27,
      "outputs": [
        {
          "output_type": "stream",
          "name": "stdout",
          "text": [
            "Dr. Strange tiene nota 7\n",
            "Capitan América: civil war tiene nota 6\n",
            "Avengers: la era de ultron tiene nota 8\n",
            "Avengers: end game tiene nota 10\n",
            "Pantera negra tiene nota 9\n"
          ]
        }
      ]
    },
    {
      "cell_type": "code",
      "source": [
        "for nombre in peliculas:\n",
        "    print(nombre, 'tiene nota', peliculas[nombre])"
      ],
      "metadata": {
        "colab": {
          "base_uri": "https://localhost:8080/"
        },
        "id": "m5yQpLh-q_87",
        "outputId": "12e8f85c-1023-4346-b409-1659be41887a"
      },
      "execution_count": 28,
      "outputs": [
        {
          "output_type": "stream",
          "name": "stdout",
          "text": [
            "Dr. Strange tiene nota 7\n",
            "Capitan América: civil war tiene nota 6\n",
            "Avengers: la era de ultron tiene nota 8\n",
            "Avengers: end game tiene nota 10\n",
            "Pantera negra tiene nota 9\n"
          ]
        }
      ]
    },
    {
      "cell_type": "code",
      "source": [
        "# Agrega un elemento al diccionario\n",
        "peliculas['Capitan América, soldado de invierno'] = 9\n",
        "peliculas"
      ],
      "metadata": {
        "colab": {
          "base_uri": "https://localhost:8080/"
        },
        "id": "YEJfmdHRq3vZ",
        "outputId": "408af005-d3ae-45a4-d98e-5aa4b3419f10"
      },
      "execution_count": 29,
      "outputs": [
        {
          "output_type": "execute_result",
          "data": {
            "text/plain": [
              "{'Dr. Strange': 7,\n",
              " 'Capitan América: civil war': 6,\n",
              " 'Avengers: la era de ultron': 8,\n",
              " 'Avengers: end game': 10,\n",
              " 'Pantera negra': 9,\n",
              " 'Capitan América, soldado de invierno': 9}"
            ]
          },
          "metadata": {},
          "execution_count": 29
        }
      ]
    },
    {
      "cell_type": "code",
      "source": [
        "\"Dr. Strange\" in peliculas"
      ],
      "metadata": {
        "colab": {
          "base_uri": "https://localhost:8080/"
        },
        "id": "8KRcUdOwrGOQ",
        "outputId": "97fdad2b-cc29-4ccb-c538-518df66595e2"
      },
      "execution_count": 30,
      "outputs": [
        {
          "output_type": "execute_result",
          "data": {
            "text/plain": [
              "True"
            ]
          },
          "metadata": {},
          "execution_count": 30
        }
      ]
    },
    {
      "cell_type": "code",
      "source": [
        "precios = dict(P15=50000, P73=76000, P3=4000)\n",
        "precios"
      ],
      "metadata": {
        "colab": {
          "base_uri": "https://localhost:8080/"
        },
        "id": "zWk1TCoerGL6",
        "outputId": "6a0f9395-d71b-480d-efcc-5fa294189f71"
      },
      "execution_count": 31,
      "outputs": [
        {
          "output_type": "execute_result",
          "data": {
            "text/plain": [
              "{'P15': 50000, 'P73': 76000, 'P3': 4000}"
            ]
          },
          "metadata": {},
          "execution_count": 31
        }
      ]
    },
    {
      "cell_type": "code",
      "source": [
        "precios.clear()\n",
        "precios"
      ],
      "metadata": {
        "colab": {
          "base_uri": "https://localhost:8080/"
        },
        "id": "BTvjYOc8rT3t",
        "outputId": "1f9cfeb6-24b8-4657-d2cc-d704bb3c8933"
      },
      "execution_count": 32,
      "outputs": [
        {
          "output_type": "execute_result",
          "data": {
            "text/plain": [
              "{}"
            ]
          },
          "metadata": {},
          "execution_count": 32
        }
      ]
    },
    {
      "cell_type": "code",
      "source": [
        "print(\"1:\", peliculas.get(\"Pantera negra\"))\n",
        "print(\"2:\", peliculas.keys())\n",
        "print(\"3:\", peliculas.values())"
      ],
      "metadata": {
        "colab": {
          "base_uri": "https://localhost:8080/"
        },
        "id": "rCuhML-BrT5z",
        "outputId": "d31288ee-a25d-4bf4-df6f-11e054a82a00"
      },
      "execution_count": 33,
      "outputs": [
        {
          "output_type": "stream",
          "name": "stdout",
          "text": [
            "1: 9\n",
            "2: dict_keys(['Dr. Strange', 'Capitan América: civil war', 'Avengers: la era de ultron', 'Avengers: end game', 'Pantera negra', 'Capitan América, soldado de invierno'])\n",
            "3: dict_values([7, 6, 8, 10, 9, 9])\n"
          ]
        }
      ]
    },
    {
      "cell_type": "code",
      "source": [
        "estudiantes = ('HONORATO','WANDA','BEYONCE','LAURA')\n",
        "d_estudiantes = dict.fromkeys(estudiantes)\n",
        "d_estudiantes"
      ],
      "metadata": {
        "colab": {
          "base_uri": "https://localhost:8080/"
        },
        "id": "BLAPyaQ2rZMn",
        "outputId": "ac5fd37d-4acd-4e55-c74d-38996fb325cf"
      },
      "execution_count": 34,
      "outputs": [
        {
          "output_type": "execute_result",
          "data": {
            "text/plain": [
              "{'HONORATO': None, 'WANDA': None, 'BEYONCE': None, 'LAURA': None}"
            ]
          },
          "metadata": {},
          "execution_count": 34
        }
      ]
    },
    {
      "cell_type": "code",
      "source": [
        "estudiantes = ('HONORATO','WANDA','BEYONCE','LAURA')\n",
        "d_estudiantes = dict.fromkeys(estudiantes, 5)\n",
        "d_estudiantes"
      ],
      "metadata": {
        "colab": {
          "base_uri": "https://localhost:8080/"
        },
        "id": "tKW6r_fCrbcp",
        "outputId": "bf6dfae2-b07b-4eb5-ddd9-8ea07599e714"
      },
      "execution_count": 35,
      "outputs": [
        {
          "output_type": "execute_result",
          "data": {
            "text/plain": [
              "{'HONORATO': 5, 'WANDA': 5, 'BEYONCE': 5, 'LAURA': 5}"
            ]
          },
          "metadata": {},
          "execution_count": 35
        }
      ]
    },
    {
      "cell_type": "code",
      "source": [
        "print(d_estudiantes.items())"
      ],
      "metadata": {
        "colab": {
          "base_uri": "https://localhost:8080/"
        },
        "id": "ROPorB1hrdbt",
        "outputId": "078065be-3436-40df-dbd0-d4f9a97dc2f0"
      },
      "execution_count": 36,
      "outputs": [
        {
          "output_type": "stream",
          "name": "stdout",
          "text": [
            "dict_items([('HONORATO', 5), ('WANDA', 5), ('BEYONCE', 5), ('LAURA', 5)])\n"
          ]
        }
      ]
    }
  ]
}