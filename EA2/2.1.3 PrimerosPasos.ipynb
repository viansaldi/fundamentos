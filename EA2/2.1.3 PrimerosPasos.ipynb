{
  "nbformat": 4,
  "nbformat_minor": 0,
  "metadata": {
    "colab": {
      "provenance": []
    },
    "kernelspec": {
      "name": "python3",
      "display_name": "Python 3"
    },
    "language_info": {
      "name": "python"
    }
  },
  "cells": [
    {
      "cell_type": "markdown",
      "source": [
        "# 1 Primeros pasos en Pyhon\n",
        "## 1.1 Conociendo el lenguaje\n",
        "### 1.1.1 Tipos de datos\n"
      ],
      "metadata": {
        "id": "kYrgWgGmgupU"
      }
    },
    {
      "cell_type": "code",
      "execution_count": 1,
      "metadata": {
        "colab": {
          "base_uri": "https://localhost:8080/"
        },
        "id": "KiNLE5yZgp7d",
        "outputId": "52efd061-f53a-45d5-c81c-db3693c402d8"
      },
      "outputs": [
        {
          "output_type": "stream",
          "name": "stdout",
          "text": [
            "29\n",
            "15.9\n",
            "True\n",
            "(2+5j)\n",
            "Soy un string\n",
            "Tambien soy un string\n"
          ]
        }
      ],
      "source": [
        "# Trabajando con tipos de datos\n",
        "x = 29\n",
        "y = 15.9\n",
        "z = True\n",
        "c = 2 + 5j\n",
        "s = \"Soy un string\"\n",
        "sx = 'Tambien soy un string'\n",
        "# Imprime las variables\n",
        "print(x)\n",
        "print(y)\n",
        "print(z)\n",
        "print(c)\n",
        "print(s)\n",
        "print(sx)"
      ]
    },
    {
      "cell_type": "markdown",
      "source": [
        "### 1.1.2 Operadores"
      ],
      "metadata": {
        "id": "ZORfSHKthP_h"
      }
    },
    {
      "cell_type": "markdown",
      "source": [],
      "metadata": {
        "id": "UrWLD1Dcgsiq"
      }
    },
    {
      "cell_type": "code",
      "source": [
        "# Operadores artiméticos\n",
        "x=2+8\n",
        "y = 25.4 + 30.4\n",
        "z = 5 // 2 # Operador de división considerando solo la parte entera\n",
        "w = 5 / 2 # Operador de divisón tradicional\n",
        "r = 12 % 5 # Resto de la división\n",
        "p = z ** 5 # Potencia\n",
        "m = z * 5 # Multiplicación\n",
        "# Imprime los valores\n",
        "print(x)\n",
        "print(y)\n",
        "print(z)\n",
        "print(w)\n",
        "print(r)\n",
        "print(p)\n",
        "print(m)"
      ],
      "metadata": {
        "colab": {
          "base_uri": "https://localhost:8080/"
        },
        "id": "T8142_OVgsMj",
        "outputId": "b4d5e035-190b-4000-8f3b-7be7094e17eb"
      },
      "execution_count": 4,
      "outputs": [
        {
          "output_type": "stream",
          "name": "stdout",
          "text": [
            "10\n",
            "55.8\n",
            "2\n",
            "2.5\n",
            "2\n",
            "32\n",
            "10\n"
          ]
        }
      ]
    },
    {
      "cell_type": "code",
      "source": [
        "# Operadores de string (cadenas de carateres)\n",
        "x = \"cadena\"\n",
        "y = 'libre'\n",
        "# Operador de concatenación\n",
        "z=x+y\n",
        "# Operador de repetición\n",
        "w = y*4\n",
        "# Imprime las variables\n",
        "print(z)\n",
        "print(x,y) # Notar la concatenación implicita de las cadenas e insertando el espacio de separación\n",
        "print(w)"
      ],
      "metadata": {
        "colab": {
          "base_uri": "https://localhost:8080/"
        },
        "id": "CICOXMZnharm",
        "outputId": "e5c16e63-fc27-42d6-f560-c7002a46e06c"
      },
      "execution_count": 7,
      "outputs": [
        {
          "output_type": "stream",
          "name": "stdout",
          "text": [
            "cadenalibre\n",
            "cadena libre\n",
            "librelibrelibrelibre\n"
          ]
        }
      ]
    },
    {
      "cell_type": "code",
      "source": [
        "# Operadores relacionales\n",
        "x = 29\n",
        "y = 15\n",
        "print(x == y) # Operador de igualdad\n",
        "print(x > y) # De forma análoga existe el <\n",
        "print(x != y) # Operador de desigualdad\n",
        "print(x >= y) # De forma análoga existe el <="
      ],
      "metadata": {
        "colab": {
          "base_uri": "https://localhost:8080/"
        },
        "id": "he7XvLC0hdyU",
        "outputId": "87ed557c-2a4a-4a7f-9d5e-3eab33b3bfb4"
      },
      "execution_count": 8,
      "outputs": [
        {
          "output_type": "stream",
          "name": "stdout",
          "text": [
            "False\n",
            "True\n",
            "True\n",
            "True\n"
          ]
        }
      ]
    },
    {
      "cell_type": "code",
      "source": [
        "# Operadores lógicos\n",
        "print(x > y or x > 20)\n",
        "print(x > y and y > 20)\n",
        "print(not x != y)"
      ],
      "metadata": {
        "colab": {
          "base_uri": "https://localhost:8080/"
        },
        "id": "7ZxSxVwehg4v",
        "outputId": "e9b05d92-fdba-49d3-f967-ad90006ddcb1"
      },
      "execution_count": 9,
      "outputs": [
        {
          "output_type": "stream",
          "name": "stdout",
          "text": [
            "True\n",
            "False\n",
            "False\n"
          ]
        }
      ]
    },
    {
      "cell_type": "code",
      "source": [
        "# Operadores de asignación\n",
        "x = 15\n",
        "print(\"x = \", x)\n",
        "x += 2\n",
        "print(\"x += 2 :\", x)\n",
        "x -= 6\n",
        "print(\"x -= 6 :\", x)\n",
        "x *= 3\n",
        "print(\"x *= 3 :\", x)\n",
        "x **= 2\n",
        "print(\"x **= 2 :\", x)\n",
        "x //= 2\n",
        "print(\"x //= 2 :\", x)\n",
        "x /= 3\n",
        "print(\"x /= 3 :\", x)\n",
        "x %= 2\n",
        "print(\"x %= 2 :\", x)"
      ],
      "metadata": {
        "colab": {
          "base_uri": "https://localhost:8080/"
        },
        "id": "YsVYU2mnhjwo",
        "outputId": "81c05678-e30d-44c9-875f-e39795a7e8c6"
      },
      "execution_count": 10,
      "outputs": [
        {
          "output_type": "stream",
          "name": "stdout",
          "text": [
            "x =  15\n",
            "x += 2 : 17\n",
            "x -= 6 : 11\n",
            "x *= 3 : 33\n",
            "x **= 2 : 1089\n",
            "x //= 2 : 544\n",
            "x /= 3 : 181.33333333333334\n",
            "x %= 2 : 1.3333333333333428\n"
          ]
        }
      ]
    },
    {
      "cell_type": "code",
      "source": [
        "# Operadores a nivel de bits\n",
        "print(5 & 3) # Representa el operador AND\n",
        "print(5 | 3) # Representa el operador OR\n",
        "print(5 ^ 3) # Representa el operador XOR\n",
        "print(5 << 2) # n << x : representa el movimiento de x bits a la izquierda\n",
        "print(64 >> 2) # n >> x : representa el movimiento de x bits a la derecha"
      ],
      "metadata": {
        "colab": {
          "base_uri": "https://localhost:8080/"
        },
        "id": "P7wdcQj1hmUK",
        "outputId": "f78080b5-ab25-44b9-e877-71fca16596e9"
      },
      "execution_count": 11,
      "outputs": [
        {
          "output_type": "stream",
          "name": "stdout",
          "text": [
            "1\n",
            "7\n",
            "6\n",
            "20\n",
            "16\n"
          ]
        }
      ]
    },
    {
      "cell_type": "markdown",
      "source": [
        "## 1.1.3 Explicación de resultados\n",
        "Lo primero es buscar la representación en binario de ambos números 5 (101) y 3 (011)\n",
        "• Usando la tabla de verdad del AND 101 AND 011 = 001 que, en el sistema decimal, es el 1\n",
        "• Usando la tabla de verdad del OR 101 AND 011 = 111 que, en el sistema decimal, es el 7\n",
        "• Usando la tabla de verdad del XOR 101 AND 011 = 110 que, en el sistema decimal, es el 6\n",
        "• 101 << 2 implica mover 2 bits a la izquierda y queda 10100 que, en el sistema decimal, es 20\n",
        "= (16+0+4+0+0)\n",
        "• 1000000 >> 2 implica mover 2 bits a la derecha y queda 10000 que, en el sistema decimal, es\n",
        "16"
      ],
      "metadata": {
        "id": "X6GtglTWhscG"
      }
    },
    {
      "cell_type": "markdown",
      "source": [
        "## 1.2 Funciones asociadas a los tipos de datos"
      ],
      "metadata": {
        "id": "ut-Vvqwrh2kC"
      }
    },
    {
      "cell_type": "code",
      "source": [
        "x = 29\n",
        "print(type(x))\n",
        "print(\"Quiero concatenar usando el operador + \" + str(x))\n",
        "s = \"25\"\n",
        "print(int(s))\n",
        "s = \"25.4\"\n",
        "print(float(s))\n",
        "print(bool(\"1\"))\n",
        "print(bool(\"0\"))\n",
        "print(bool(0))\n",
        "print(bool(\"cualquier string siempre será verdadero\"))\n",
        "print(complex(1,6))"
      ],
      "metadata": {
        "colab": {
          "base_uri": "https://localhost:8080/"
        },
        "id": "bV6idtC7h7tv",
        "outputId": "9651db1f-99e2-40ac-ec46-cb9fee7d8f8a"
      },
      "execution_count": 12,
      "outputs": [
        {
          "output_type": "stream",
          "name": "stdout",
          "text": [
            "<class 'int'>\n",
            "Quiero concatenar usando el operador + 29\n",
            "25\n",
            "25.4\n",
            "True\n",
            "True\n",
            "False\n",
            "True\n",
            "(1+6j)\n"
          ]
        }
      ]
    }
  ]
}