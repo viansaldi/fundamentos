{
  "nbformat": 4,
  "nbformat_minor": 0,
  "metadata": {
    "colab": {
      "provenance": []
    },
    "kernelspec": {
      "name": "python3",
      "display_name": "Python 3"
    }
  },
  "cells": [
    {
      "cell_type": "markdown",
      "source": [
        "<img src='https://upload.wikimedia.org/wikipedia/commons/thumb/a/aa/Logo_DuocUC.svg/2560px-Logo_DuocUC.svg.png' width=50%, height=20%>"
      ],
      "metadata": {
        "id": "Ec4rRV7zFeh4"
      }
    },
    {
      "cell_type": "markdown",
      "metadata": {
        "id": "S96v9pwXKOs4"
      },
      "source": [
        "\n",
        "# Módulo: Machine Learning - Análisis Exploratorio I\n",
        "\n",
        "\n",
        "**Recuerda almacenar una copia de este Jupyter Notebook en tu Google Drive para poder ejecutar los bloques de código.**\n",
        "\n",
        "\n",
        "---\n",
        "\n",
        "Sigamos con otro clásico dentro del mundo de data science. Trabajaremos con **tips**, otro dataset muy conocido en la academia, que al igual que los anteriormente vistos sirve bastante para comenzar dentro del mundo del Data Science. Para esta sesión se revisarán algunos métodos de la biblioteca Seaborn. \n",
        "Antes de comenzar, demos contexto a todo esto. \n",
        "\n",
        "Tips corresponde a un tipo de dataset para modelos no supervisados donde podemos estimar la propina que dejan los comensales de un restaurant tras ser atendidos.\n",
        "\n",
        "Las características o features son las siguientes:\n",
        "\n",
        "\n",
        "*   Total_bill: Total de la cuenta\n",
        "*   Tip: Propina\n",
        "*   Sex: Género del mesero\n",
        "*   Smoker: Dato para diferenciar una mesa de fumador vs una de no fumador.\n",
        "*   Day: Qué día de la semana fue la atención.\n",
        "*   Time: En que horario, si fue almuerzo o cena.\n",
        "*   Size: Tamaño de la mesa.\n",
        "\n",
        "\n",
        "\n"
      ]
    },
    {
      "cell_type": "code",
      "metadata": {
        "id": "gNet6rWNJ0p0"
      },
      "source": [
        "#Cargamos las librerías de Python que nos servirán para todo esto\n",
        "import pandas as pd\n",
        "import seaborn as sbn\n",
        "from seaborn import load_dataset"
      ],
      "execution_count": null,
      "outputs": []
    },
    {
      "cell_type": "code",
      "metadata": {
        "id": "g10ju20pOMeY"
      },
      "source": [
        "#Cargamos el dataset de tips para comenzar a trabajarlo\n",
        "\n",
        "tips = load_dataset(\"tips\")\n",
        "tips.head()"
      ],
      "execution_count": null,
      "outputs": []
    },
    {
      "cell_type": "markdown",
      "metadata": {
        "id": "QweYDM96OZc8"
      },
      "source": [
        "Añadir qué observaciones hay respecto del comando utilizado"
      ]
    },
    {
      "cell_type": "code",
      "metadata": {
        "id": "V9ApYFkWOnVk"
      },
      "source": [
        "from seaborn import lmplot\n",
        "lmplot(x=\"total_bill\", y=\"tip\", hue=\"smoker\", data=tips)"
      ],
      "execution_count": null,
      "outputs": []
    },
    {
      "cell_type": "markdown",
      "metadata": {
        "id": "0qYg1YidO4J1"
      },
      "source": [
        "Añadir qué observaciones hay respecto del comando utilizado"
      ]
    },
    {
      "cell_type": "code",
      "metadata": {
        "id": "JoBvcLlzOYDt"
      },
      "source": [
        "from seaborn import boxplot\n",
        "boxplot(x=\"sex\", y=\"total_bill\", data=tips)"
      ],
      "execution_count": null,
      "outputs": []
    },
    {
      "cell_type": "markdown",
      "metadata": {
        "id": "UFQ6ZRxTO7BV"
      },
      "source": [
        "Añadir qué observaciones hay respecto del comando utilizado"
      ]
    },
    {
      "cell_type": "code",
      "metadata": {
        "id": "cg8JiePcO6nm"
      },
      "source": [
        "boxplot(x=\"sex\", y=\"total_bill\", hue=\"smoker\", data=tips)"
      ],
      "execution_count": null,
      "outputs": []
    },
    {
      "cell_type": "markdown",
      "metadata": {
        "id": "4NAHHJelPHYd"
      },
      "source": [
        "Añadir qué observaciones hay respecto del comando utilizado"
      ]
    },
    {
      "cell_type": "code",
      "metadata": {
        "id": "mqklhFkBPIsN"
      },
      "source": [
        "from seaborn import violinplot\n",
        "violinplot(x=\"sex\", y=\"total_bill\", hue=\"smoker\", data=tips)"
      ],
      "execution_count": null,
      "outputs": []
    },
    {
      "cell_type": "markdown",
      "metadata": {
        "id": "EuFp5ESMPxr2"
      },
      "source": [
        "Añadir qué observaciones hay respecto del comando utilizado"
      ]
    },
    {
      "cell_type": "code",
      "metadata": {
        "id": "wa0UFtdjPyWt"
      },
      "source": [
        "from seaborn import kdeplot\n",
        "kdeplot(tips.total_bill)"
      ],
      "execution_count": null,
      "outputs": []
    },
    {
      "cell_type": "markdown",
      "metadata": {
        "id": "eCNoWvc4aGC9"
      },
      "source": [
        "Añadir qué observaciones hay respecto del comando utilizado"
      ]
    },
    {
      "cell_type": "markdown",
      "metadata": {
        "id": "lIJNpTzMQ8-L"
      },
      "source": [
        "#Actividad práctica: "
      ]
    },
    {
      "cell_type": "code",
      "metadata": {
        "id": "edm7IBA9acKp"
      },
      "source": [
        "#Importamos las librerías necesarias\n",
        "import pandas as pd\n",
        "import seaborn as sbn\n",
        "from seaborn import load_dataset"
      ],
      "execution_count": null,
      "outputs": []
    },
    {
      "cell_type": "code",
      "metadata": {
        "id": "xRw-YVtwagCn"
      },
      "source": [
        "#Cargamos el dataset de titanic para comenzar a trabajarlo\n",
        "\n",
        "titanic = load_dataset(\"titanic\")\n"
      ],
      "execution_count": null,
      "outputs": []
    },
    {
      "cell_type": "markdown",
      "metadata": {
        "id": "Ky3NDblJi2Bp"
      },
      "source": [
        "##Proponga y ejecute acá una rutina de análisis exploratorio de datos.\n",
        "### Recuerde hacer uso de todo lo aprendido hasta el momento"
      ]
    }
  ]
}