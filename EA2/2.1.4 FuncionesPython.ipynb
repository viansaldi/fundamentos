{
  "nbformat": 4,
  "nbformat_minor": 0,
  "metadata": {
    "colab": {
      "provenance": []
    },
    "kernelspec": {
      "name": "python3",
      "display_name": "Python 3"
    },
    "language_info": {
      "name": "python"
    }
  },
  "cells": [
    {
      "cell_type": "markdown",
      "source": [],
      "metadata": {
        "id": "CNVO0Iq-jeTF"
      }
    },
    {
      "cell_type": "markdown",
      "source": [
        "# 1 Funciones en Pyhton"
      ],
      "metadata": {
        "id": "IxQvZkCGjhBC"
      }
    },
    {
      "cell_type": "code",
      "execution_count": 7,
      "metadata": {
        "id": "0UhroLyxjdnb"
      },
      "outputs": [],
      "source": [
        "# La definición de la función\n",
        "def positivos(numeros):\n",
        "    total = 0\n",
        "    for numero in numeros:\n",
        "        if numero > 0:\n",
        "          total+=1\n",
        "    return total"
      ]
    },
    {
      "cell_type": "code",
      "source": [
        "# Llamada a la función\n",
        "print(positivos([23,45,21,-2,43,-45,-7, 9, 29]))"
      ],
      "metadata": {
        "colab": {
          "base_uri": "https://localhost:8080/"
        },
        "id": "X2tbsN1njngr",
        "outputId": "6721a81f-f9dc-476c-b5bc-6bb1f0e0f19e"
      },
      "execution_count": 8,
      "outputs": [
        {
          "output_type": "stream",
          "name": "stdout",
          "text": [
            "6\n"
          ]
        }
      ]
    },
    {
      "cell_type": "code",
      "source": [],
      "metadata": {
        "id": "FGg2CI2wjqXf"
      },
      "execution_count": 8,
      "outputs": []
    },
    {
      "cell_type": "markdown",
      "source": [
        "# 1.1 Variables globales\n",
        "En el ejemplo anterior de usan variables locales. También se puede trabajar con variables globales."
      ],
      "metadata": {
        "id": "-mjVbQyYjsyM"
      }
    },
    {
      "cell_type": "code",
      "source": [
        "# La definición de la función\n",
        "def imprimir(numeros):\n",
        "    for numero in numeros:\n",
        "        print(f\"{numero} + {factor} = {numero+factor}\")\n",
        "    return\n",
        "# Llamamos a la función usando la variable total ahora como una variable global # La definición de la función\n",
        "factor = 3\n",
        "print(imprimir([23,45,21,-2,43,-45,-7, 9, 29]))"
      ],
      "metadata": {
        "colab": {
          "base_uri": "https://localhost:8080/"
        },
        "id": "alyPnCtej1DI",
        "outputId": "d2fbb7eb-84d0-4d5a-cb82-347cbddfd99e"
      },
      "execution_count": 9,
      "outputs": [
        {
          "output_type": "stream",
          "name": "stdout",
          "text": [
            "23 + 3 = 26\n",
            "45 + 3 = 48\n",
            "21 + 3 = 24\n",
            "-2 + 3 = 1\n",
            "43 + 3 = 46\n",
            "-45 + 3 = -42\n",
            "-7 + 3 = -4\n",
            "9 + 3 = 12\n",
            "29 + 3 = 32\n",
            "None\n"
          ]
        }
      ]
    },
    {
      "cell_type": "markdown",
      "source": [
        "# 1.1.1 Devolviendo más de un valor"
      ],
      "metadata": {
        "id": "JM4PJY7hj6hI"
      }
    },
    {
      "cell_type": "code",
      "source": [
        "def funcion(lista, x, y):\n",
        "    total_x, total_y = 0, 0\n",
        "    for elemento in lista:\n",
        "        if elemento == x:\n",
        "            total_x += 1\n",
        "        if elemento == y:\n",
        "            total_y += 1\n",
        "    return total_x, total_y\n",
        "# Probamos la función\n",
        "v_x, v_y= 2,6\n",
        "t_x, t_y = funcion([2,4,2,5,3,5,2,6], v_x, v_y)\n",
        "print(f\"{v_x} aparece {t_x} veces y {v_y} aparece {t_y} veces\")"
      ],
      "metadata": {
        "colab": {
          "base_uri": "https://localhost:8080/"
        },
        "id": "X_c89gnfj8Ix",
        "outputId": "a0071acc-ea99-4d4f-dcc2-2a7d19e6f0bf"
      },
      "execution_count": 11,
      "outputs": [
        {
          "output_type": "stream",
          "name": "stdout",
          "text": [
            "2 aparece 3 veces y 6 aparece 1 veces\n"
          ]
        }
      ]
    },
    {
      "cell_type": "markdown",
      "source": [
        "# 1.1.2 Argumentos con valores por defecto"
      ],
      "metadata": {
        "id": "bhrFyRb5kEFX"
      }
    },
    {
      "cell_type": "code",
      "source": [
        "def funcion_x(lista, tipo = 2):\n",
        "    r=0\n",
        "    for elemento in lista:\n",
        "        if tipo == 1:\n",
        "          r -= elemento\n",
        "        elif tipo == 2:\n",
        "          r += elemento\n",
        "    return r\n",
        "print(funcion_x([1,2,3,4]))\n",
        "print(funcion_x([1,2,3,4], tipo = 1))"
      ],
      "metadata": {
        "colab": {
          "base_uri": "https://localhost:8080/"
        },
        "id": "Zlr8n8TVkA_O",
        "outputId": "1e2f4965-88e5-4bdc-a885-e2c8f744ff8a"
      },
      "execution_count": 12,
      "outputs": [
        {
          "output_type": "stream",
          "name": "stdout",
          "text": [
            "10\n",
            "-10\n"
          ]
        }
      ]
    },
    {
      "cell_type": "markdown",
      "source": [
        "# 1.2 Usando funciones del lenguaje"
      ],
      "metadata": {
        "id": "UlspAn9mkiXe"
      }
    },
    {
      "cell_type": "code",
      "source": [
        "import numpy as np\n",
        "lista = [2,4,2,5,3,5,2,6]\n",
        "np.mean(lista)"
      ],
      "metadata": {
        "colab": {
          "base_uri": "https://localhost:8080/"
        },
        "id": "52268T0ZkkUf",
        "outputId": "614986ce-07d9-44ad-bf3d-1fabdbdd88f4"
      },
      "execution_count": 13,
      "outputs": [
        {
          "output_type": "execute_result",
          "data": {
            "text/plain": [
              "3.625"
            ]
          },
          "metadata": {},
          "execution_count": 13
        }
      ]
    },
    {
      "cell_type": "code",
      "source": [
        "print(f\"MAX = {np.max(lista)} - MIN = {np.min(lista)}\")"
      ],
      "metadata": {
        "colab": {
          "base_uri": "https://localhost:8080/"
        },
        "id": "Zx77DB7zkrFN",
        "outputId": "ae73780f-e759-4d0b-819e-6ffb8cadbca8"
      },
      "execution_count": 14,
      "outputs": [
        {
          "output_type": "stream",
          "name": "stdout",
          "text": [
            "MAX = 6 - MIN = 2\n"
          ]
        }
      ]
    },
    {
      "cell_type": "code",
      "source": [
        "datos = [[1,2,3], [5,10,15], [4,6,8]]\n",
        "# Calcula el promedio por filas\n",
        "np.mean(datos, axis = 1)"
      ],
      "metadata": {
        "colab": {
          "base_uri": "https://localhost:8080/"
        },
        "id": "ZsYhUS4Dkr32",
        "outputId": "ad5c5e3a-89ce-4587-8ff3-f8e120bc0486"
      },
      "execution_count": 15,
      "outputs": [
        {
          "output_type": "execute_result",
          "data": {
            "text/plain": [
              "array([ 2., 10.,  6.])"
            ]
          },
          "metadata": {},
          "execution_count": 15
        }
      ]
    },
    {
      "cell_type": "code",
      "source": [
        "# Calcula el promedio por columnas\n",
        "np.mean(datos, axis = 0)"
      ],
      "metadata": {
        "colab": {
          "base_uri": "https://localhost:8080/"
        },
        "id": "t_sAeGN7kzQY",
        "outputId": "344549eb-c5bd-4869-984d-ba69ce2c5f51"
      },
      "execution_count": 16,
      "outputs": [
        {
          "output_type": "execute_result",
          "data": {
            "text/plain": [
              "array([3.33333333, 6.        , 8.66666667])"
            ]
          },
          "metadata": {},
          "execution_count": 16
        }
      ]
    },
    {
      "cell_type": "code",
      "source": [
        "# Calcula el promedio de todos los datos\n",
        "np.mean(datos)"
      ],
      "metadata": {
        "colab": {
          "base_uri": "https://localhost:8080/"
        },
        "id": "2y9EqN5Uk1qV",
        "outputId": "2f0c52c9-25ea-4a98-c753-5d6c93d235c6"
      },
      "execution_count": 17,
      "outputs": [
        {
          "output_type": "execute_result",
          "data": {
            "text/plain": [
              "6.0"
            ]
          },
          "metadata": {},
          "execution_count": 17
        }
      ]
    }
  ]
}