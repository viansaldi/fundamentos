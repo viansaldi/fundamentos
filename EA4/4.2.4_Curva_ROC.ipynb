{
  "nbformat": 4,
  "nbformat_minor": 0,
  "metadata": {
    "colab": {
      "provenance": []
    },
    "kernelspec": {
      "name": "python3",
      "display_name": "Python 3"
    },
    "language_info": {
      "name": "python"
    }
  },
  "cells": [
    {
      "cell_type": "markdown",
      "source": [
        "<img src='https://upload.wikimedia.org/wikipedia/commons/thumb/a/aa/Logo_DuocUC.svg/2560px-Logo_DuocUC.svg.png' width=50%, height=20%>"
      ],
      "metadata": {
        "id": "pKXzBjRuQqPA"
      }
    },
    {
      "cell_type": "markdown",
      "source": [
        "Nota : este ejercicio está basado en https://www.statology.org/plot-multiple-roc-curves-python/"
      ],
      "metadata": {
        "id": "1f6L9TdHQtCr"
      }
    },
    {
      "cell_type": "markdown",
      "source": [
        "# Cargar Librerías"
      ],
      "metadata": {
        "id": "Rar83w1pOAt_"
      }
    },
    {
      "cell_type": "code",
      "execution_count": 1,
      "metadata": {
        "id": "02NjzzfIN1Yd"
      },
      "outputs": [],
      "source": [
        "from sklearn import metrics\n",
        "from sklearn import datasets\n",
        "from sklearn.model_selection import train_test_split\n",
        "from sklearn.linear_model import LogisticRegression\n",
        "from sklearn.ensemble import GradientBoostingClassifier\n",
        "import numpy as np\n",
        "import matplotlib.pyplot as plt"
      ]
    },
    {
      "cell_type": "markdown",
      "source": [
        "# Crear Datos Falsos"
      ],
      "metadata": {
        "id": "htY9vKDRORG6"
      }
    },
    {
      "cell_type": "code",
      "source": [
        "#A continuación, usaremos la función make_classification() de sklearn para crear un conjunto de datos falso con 1000 filas, \n",
        "#cuatro variables predictoras y una variable de respuesta binaria:\n",
        "#create fake dataset\n",
        "X, y = datasets.make_classification(n_samples=1000,\n",
        "                                    n_features=4,\n",
        "                                    n_informative=3,\n",
        "                                    n_redundant=1,\n",
        "                                    random_state=0)\n",
        "\n",
        "#split dataset into training and testing set\n",
        "X_train, X_test, y_train, y_test = train_test_split(X, y, test_size=.3,random_state=0)"
      ],
      "metadata": {
        "id": "rsZYFEkNOVER"
      },
      "execution_count": 2,
      "outputs": []
    },
    {
      "cell_type": "markdown",
      "source": [
        "# Ajustar múltiples modelos y trazar curvas ROC"
      ],
      "metadata": {
        "id": "jghTxnqVOkRa"
      }
    },
    {
      "cell_type": "code",
      "source": [
        "# A continuación, ajustaremos un modelo de regresión logística y luego un modelo gradient boosted\n",
        "# y trazaremos la curva ROC para cada modelo en el mismo gráfico:\n",
        "#set up plotting area\n",
        "plt.figure(0).clf()\n",
        "\n",
        "#fit logistic regression model and plot ROC curve\n",
        "model = LogisticRegression()\n",
        "model.fit(X_train, y_train)\n",
        "y_pred = model.predict_proba(X_test)[:, 1]\n",
        "fpr, tpr, _ = metrics.roc_curve(y_test, y_pred)\n",
        "auc = round(metrics.roc_auc_score(y_test, y_pred), 4)\n",
        "plt.plot(fpr,tpr,label=\"Logistic Regression, AUC=\"+str(auc))\n",
        "\n",
        "#fit gradient boosted model and plot ROC curve\n",
        "model = GradientBoostingClassifier()\n",
        "model.fit(X_train, y_train)\n",
        "y_pred = model.predict_proba(X_test)[:, 1]\n",
        "fpr, tpr, _ = metrics.roc_curve(y_test, y_pred)\n",
        "auc = round(metrics.roc_auc_score(y_test, y_pred), 4)\n",
        "plt.plot(fpr,tpr,label=\"Gradient Boosting, AUC=\"+str(auc))\n",
        "\n",
        "#add legend\n",
        "plt.legend()"
      ],
      "metadata": {
        "colab": {
          "base_uri": "https://localhost:8080/",
          "height": 282
        },
        "id": "p6-80o8tOm1d",
        "outputId": "94c86515-d0fa-45d3-915d-f510bdcd332a"
      },
      "execution_count": 3,
      "outputs": [
        {
          "output_type": "execute_result",
          "data": {
            "text/plain": [
              "<matplotlib.legend.Legend at 0x7fbd010fd820>"
            ]
          },
          "metadata": {},
          "execution_count": 3
        },
        {
          "output_type": "display_data",
          "data": {
            "text/plain": [
              "<Figure size 432x288 with 1 Axes>"
            ],
            "image/png": "[encoded data removed]"
          },
          "metadata": {
            "needs_background": "light"
          }
        }
      ]
    },
    {
      "cell_type": "code",
      "source": [
        "# La línea azul muestra la curva ROC para el modelo de regresión logística y la línea naranja muestra la curva ROC \n",
        "# para el modelo gradient boosted.\n",
        "\n",
        "# Cuanto más se acerque una curva ROC a la esquina superior izquierda del gráfico, mejor será el modelo para \n",
        "# clasificar los datos en categorías.\n",
        "\n",
        "# Para cuantificar esto, podemos calcular el AUC (área bajo la curva), que nos dice el área que se encuentra debajo de la curva.\n",
        "\n",
        "# Cuanto más cerca esté AUC de 1, mejor será el modelo.\n",
        "\n",
        "# Desde nuestra gráfica podemos ver las siguientes métricas AUC para cada modelo:\n",
        "\n",
        "# AUC del modelo de regresión logística: 0,7902\n",
        "# AUC del modelo potenciado por gradiente: 0,9712\n",
        "# Claramente, el modelo gradient boosted hace un mejor trabajo al clasificar los datos en categorías en comparación \n",
        "# con el modelo de regresión logística."
      ],
      "metadata": {
        "id": "t7a5oVmdO9Sw"
      },
      "execution_count": null,
      "outputs": []
    }
  ]
}