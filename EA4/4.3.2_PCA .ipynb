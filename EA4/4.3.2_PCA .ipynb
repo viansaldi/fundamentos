{
  "nbformat": 4,
  "nbformat_minor": 0,
  "metadata": {
    "colab": {
      "provenance": []
    },
    "kernelspec": {
      "name": "python3",
      "display_name": "Python 3"
    },
    "language_info": {
      "name": "python"
    }
  },
  "cells": [
    {
      "cell_type": "markdown",
      "source": [
        "<img src='https://upload.wikimedia.org/wikipedia/commons/thumb/a/aa/Logo_DuocUC.svg/2560px-Logo_DuocUC.svg.png' width=50%, height=20%>"
      ],
      "metadata": {
        "id": "a0FpYmrG2nyA"
      }
    },
    {
      "cell_type": "markdown",
      "source": [
        "Nota : este ejercicio está basado en el trabajo de J.I. Bagnato, de su libro APRENDE MACHINE LEARNING"
      ],
      "metadata": {
        "id": "h4ag8O5x2tXT"
      }
    },
    {
      "cell_type": "markdown",
      "source": [
        "# Ejercicio Aplicando PCA: Principal Component Analysis\n",
        "\n",
        "Utilizaremos un archivo csv , en el cual decidimos si convenía alquilar o comprar casa dadas 9 dimensiones. \n",
        "\n",
        "En este ejemplo:\n",
        "\n",
        "*   normalizamos los datos de entrada,\n",
        "*   aplicamos PCA\n",
        "\n",
        "\n",
        "\n",
        "y veremos que con 5 de las nuevas dimensiones (y descartando 4) obtendremos\n",
        "hasta un 85% de variación explicada y buenas predicciones.\n",
        "\n",
        "*\n",
        "\n",
        "Realizaremos 2 gráficas:\n",
        "una con el acumulado de variabilidad explicada y una gráfica 2D, en donde el eje X e Y serán los 2 primero componentes principales obtenidos por PCA.\n",
        "\n",
        "*\n",
        "\n",
        "Y veremos cómo los resultados “comprar ó alquilar” tienen bastante buena separación en 2 dimensiones."
      ],
      "metadata": {
        "id": "Az1k9FlM1BGv"
      }
    },
    {
      "cell_type": "markdown",
      "source": [
        "Importamos librerias"
      ],
      "metadata": {
        "id": "r8eDChoz1FQo"
      }
    },
    {
      "cell_type": "code",
      "execution_count": null,
      "metadata": {
        "id": "g3g9xoe80PlQ"
      },
      "outputs": [],
      "source": [
        "import pandas as pd\n",
        "import numpy as np\n",
        "import matplotlib.pyplot as plt\n",
        "%matplotlib inline\n",
        "plt.rcParams['figure.figsize'] = (16, 9)\n",
        "plt.style.use('ggplot')\n",
        "\n",
        "from sklearn.decomposition import PCA\n",
        "from sklearn.preprocessing import StandardScaler\n",
        "\n",
        "from sklearn.model_selection import train_test_split\n",
        "from sklearn.metrics import classification_report\n",
        "from sklearn.metrics import confusion_matrix\n",
        "from sklearn.naive_bayes import GaussianNB"
      ]
    },
    {
      "cell_type": "markdown",
      "source": [
        "Cargamos datos de entrada"
      ],
      "metadata": {
        "id": "j-2XSgk11IG2"
      }
    },
    {
      "cell_type": "code",
      "source": [
        "#dataframe = pd.read_csv(r\"comprar_alquilar.csv\")\n",
        "\n",
        "from google.colab import files\n",
        "uploaded = files.upload()\n",
        "for fn in uploaded.keys():\n",
        "    name=fn\n",
        "dataframe = pd.read_csv(name, sep=',')\n",
        "dataframe.head(10)\n",
        "\n",
        "dataframe.tail(10)\n",
        "# REFERENCIAS:\n",
        "# ingresos y gastos son mensuales de 1 personas o 2 si están casados.\n",
        "# trabajo: 0-sin trabajo 1-autonomo 2-asalariado 3-empresario 4-Autonomos 5-Asalariados 6-Autonomo y Asalariado 7-Empresario y Autonomo 8 Empresarios o empresario y autónomo\n",
        "# estado_civil: 0-soltero 1-casado 2-divorciado\n",
        "# hijos: Cantidad de hijos menores (no trabajan)\n",
        "# comprar: 0-mejor alquilar 1-Comprar casa\n",
        "# hipoteca fija a 30 años con interes"
      ],
      "metadata": {
        "id": "h5oVgooC0RvG"
      },
      "execution_count": null,
      "outputs": []
    },
    {
      "cell_type": "markdown",
      "source": [
        "Visualicemos las dimensiones"
      ],
      "metadata": {
        "id": "2GGctW0r1Me0"
      }
    },
    {
      "cell_type": "code",
      "source": [
        "fig,axes =plt.subplots(5,2, figsize=(12, 9)) # 2 columnas cada una con 5 figuras, total 10 features\n",
        "alquilar=dataframe[dataframe['comprar']==0] # conviene alquilar casa\n",
        "comprar=dataframe[dataframe['comprar']==1] # conviene comprar casa\n",
        "ax=axes.ravel()\n",
        "for i in range(len(dataframe.columns)):\n",
        "  _,bins=np.histogram(dataframe[dataframe.columns[i]],bins=40)\n",
        "  ax[i].hist(alquilar.values[:,i],bins=bins,color='r',alpha=.5)# rojo alquilar\n",
        "  ax[i].hist(comprar.values[:,i],bins=bins,color='g',alpha=0.3)# verde para comprar\n",
        "  ax[i].set_title(dataframe.columns[i],fontsize=9)\n",
        "  ax[i].axes.get_xaxis().set_visible(False)\n",
        "  ax[i].set_yticks(())\n",
        "ax[0].legend(['alquilar','comprar'],loc='best',fontsize=8)\n",
        "plt.tight_layout()\n",
        "plt.show()"
      ],
      "metadata": {
        "id": "twabTbI10XDh"
      },
      "execution_count": null,
      "outputs": []
    },
    {
      "cell_type": "markdown",
      "source": [
        "Ejemplo de como se correlacionan"
      ],
      "metadata": {
        "id": "T86hVGQz1Qdj"
      }
    },
    {
      "cell_type": "code",
      "source": [
        "plt.subplot(1,2,1)#fisrt plot\n",
        "plt.scatter(dataframe['ingresos'], dataframe['ahorros'], s=dataframe['vivienda']*0.0005, color='magenta', label='check', alpha=0.3)\n",
        "plt.xlabel('Ingresos',fontsize=12)\n",
        "plt.ylabel('Ahorros',fontsize=12)\n",
        "plt.subplot(1,2,2)# 2nd plot\n",
        "plt.scatter(dataframe['gastos_comunes'], dataframe['gastos_otros'], s=dataframe['vivienda']*0.0005, color='purple', label='check', alpha=0.3)\n",
        "plt.xlabel('Gastos Comunes',fontsize=12)\n",
        "plt.ylabel('Vivienda',fontsize=12)\n",
        "plt.tight_layout()\n",
        "plt.show()"
      ],
      "metadata": {
        "id": "niRrNDMo0ZS-"
      },
      "execution_count": null,
      "outputs": []
    },
    {
      "cell_type": "markdown",
      "source": [
        "Vamos a Normalizar ó Estandalizar los datos"
      ],
      "metadata": {
        "id": "6bnqAOZS1Tuq"
      }
    },
    {
      "cell_type": "code",
      "source": [
        "scaler=StandardScaler()#instantiate\n",
        "df = dataframe.drop(['comprar'], axis=1)\n",
        "scaler.fit(df) # calcula la media y estandar para cada dimension\n",
        "X_scaled=scaler.transform(df)# transforma los datos a su nueva escala"
      ],
      "metadata": {
        "id": "wxYaKUZq0bz9"
      },
      "execution_count": null,
      "outputs": []
    },
    {
      "cell_type": "markdown",
      "source": [
        "Aplicamos PCA"
      ],
      "metadata": {
        "id": "o4cSEvOd1WvN"
      }
    },
    {
      "cell_type": "code",
      "source": [
        "pca=PCA(n_components=9)\n",
        "#pca=PCA(.85)\n",
        "pca.fit(X_scaled) # buscar los componentes principales\n",
        "X_pca=pca.transform(X_scaled) \n",
        "#revisemos la forma del array\n",
        "print(\"shape of X_pca\", X_pca.shape)"
      ],
      "metadata": {
        "colab": {
          "base_uri": "https://localhost:8080/"
        },
        "id": "68vl8dPy0dvp",
        "outputId": "571f1ced-1471-40ea-ff1f-37d0f96a0730"
      },
      "execution_count": null,
      "outputs": [
        {
          "output_type": "stream",
          "name": "stdout",
          "text": [
            "shape of X_pca (202, 9)\n"
          ]
        }
      ]
    },
    {
      "cell_type": "markdown",
      "source": [
        "Veamos cuán buenos predictores son las nuevas dimensiones"
      ],
      "metadata": {
        "id": "FARP193t1Z4S"
      }
    },
    {
      "cell_type": "code",
      "source": [
        "expl = pca.explained_variance_ratio_\n",
        "print(expl)\n",
        "print('suma:',sum(expl[0:5]))\n",
        "#con 5 componentes tenemos algo mas del 85% de varianza explicada"
      ],
      "metadata": {
        "colab": {
          "base_uri": "https://localhost:8080/"
        },
        "id": "ZEwqHh6C0fyi",
        "outputId": "0a8fdc7e-892e-4558-bca6-43bec195e806"
      },
      "execution_count": null,
      "outputs": [
        {
          "output_type": "stream",
          "name": "stdout",
          "text": [
            "[0.29913557 0.23294923 0.11711241 0.10685622 0.09635279 0.05629866\n",
            " 0.04145579 0.03017819 0.01966115]\n",
            "suma: 0.852406211771431\n"
          ]
        }
      ]
    },
    {
      "cell_type": "markdown",
      "source": [
        "Graficamos la variacion explicada acumulada"
      ],
      "metadata": {
        "id": "Bad9szgX1cf4"
      }
    },
    {
      "cell_type": "code",
      "source": [
        "plt.plot(np.cumsum(pca.explained_variance_ratio_))\n",
        "plt.xlabel('number of components')\n",
        "plt.ylabel('cumulative explained variance')\n",
        "plt.show()"
      ],
      "metadata": {
        "id": "3ORKM5uD0h0d"
      },
      "execution_count": null,
      "outputs": []
    },
    {
      "cell_type": "markdown",
      "source": [
        "Graficamos los 2 componentes principales"
      ],
      "metadata": {
        "id": "TP0rFylo1ftJ"
      }
    },
    {
      "cell_type": "code",
      "source": [
        "Xax=X_pca[:,0]\n",
        "Yax=X_pca[:,1]\n",
        "labels=dataframe['comprar'].values\n",
        "#labels=[0,1] # Malignant, Beningn\n",
        "cdict={0:'red',1:'green'}\n",
        "labl={0:'Alquilar',1:'Comprar'}\n",
        "marker={0:'*',1:'o'}\n",
        "alpha={0:.3, 1:.5}\n",
        "fig,ax=plt.subplots(figsize=(7,5))\n",
        "fig.patch.set_facecolor('white')\n",
        "for l in np.unique(labels):\n",
        "    ix=np.where(labels==l)\n",
        "    ax.scatter(Xax[ix],Yax[ix],c=cdict[l],label=labl[l],s=40,marker=marker[l],alpha=alpha[l])\n",
        "\n",
        "plt.xlabel(\"First Principal Component\",fontsize=14)\n",
        "plt.ylabel(\"Second Principal Component\",fontsize=14)\n",
        "plt.legend()\n",
        "plt.show()\n",
        "\n",
        "# please check the scatter plot of the remaining component and you will see and understand the difference"
      ],
      "metadata": {
        "id": "x4N28zBq0k13"
      },
      "execution_count": null,
      "outputs": []
    },
    {
      "cell_type": "markdown",
      "source": [
        "Veamos la correlacion entre las nuevas componentes y las dimensiones originales"
      ],
      "metadata": {
        "id": "xH69Y-bm1io5"
      }
    },
    {
      "cell_type": "code",
      "source": [
        "plt.matshow(pca.components_[0:5],cmap='viridis')\n",
        "plt.yticks([0,1,2,3,4],['1st Comp','2nd Comp','3rd Comp','4th Comp','5th Comp'],fontsize=10)\n",
        "plt.colorbar()\n",
        "plt.xticks(range(len(df.columns)),df.columns,rotation=65,ha='left')\n",
        "plt.tight_layout()\n",
        "plt.show()# "
      ],
      "metadata": {
        "id": "GlehsndY0nM-"
      },
      "execution_count": null,
      "outputs": []
    },
    {
      "cell_type": "code",
      "source": [
        "components = pd.DataFrame(pca.components_, columns = df.columns)\n",
        "components"
      ],
      "metadata": {
        "id": "QMXZ4Z7i0poX"
      },
      "execution_count": null,
      "outputs": []
    },
    {
      "cell_type": "markdown",
      "source": [
        "Preparo nuevas entradas para validar el algoritmo"
      ],
      "metadata": {
        "id": "TCiSbB0p1mPQ"
      }
    },
    {
      "cell_type": "code",
      "source": [
        "# Split dataset in training and test datasets\n",
        "dfScaledPca = pd.DataFrame(X_pca, columns = df.columns)\n",
        "dfScaledPca[\"comprar\"]=dataframe[\"comprar\"]\n",
        "print (dfScaledPca.head())\n",
        "print(dfScaledPca.shape)\n",
        "X_train, X_test = train_test_split(dfScaledPca, test_size=0.2, random_state=4) #6 \n",
        "y_train =X_train[\"comprar\"]\n",
        "y_test = X_test[\"comprar\"]\n",
        "X_train = X_train.drop(['comprar'], axis=1)\n",
        "X_test = X_test.drop(['comprar'], axis=1)"
      ],
      "metadata": {
        "id": "f8GiYwm20wZQ"
      },
      "execution_count": null,
      "outputs": []
    },
    {
      "cell_type": "markdown",
      "source": [
        "Prediccion con Gaussian Naive Bayes\n",
        "Con datos de entrada con reducción de dimensiones por PCA"
      ],
      "metadata": {
        "id": "x9TwAUst1pqt"
      }
    },
    {
      "cell_type": "code",
      "source": [
        "# Instantiate the classifier\n",
        "gnb = GaussianNB()\n",
        "# Train classifier\n",
        "gnb.fit(\n",
        "    X_train.values,\n",
        "    y_train\n",
        ")\n",
        "y_pred = gnb.predict(X_test)"
      ],
      "metadata": {
        "id": "2PE_njQR0yxY"
      },
      "execution_count": null,
      "outputs": []
    },
    {
      "cell_type": "markdown",
      "source": [
        "Resultados Obtenidos"
      ],
      "metadata": {
        "id": "P3iRuDWn1tWc"
      }
    },
    {
      "cell_type": "code",
      "source": [
        "print('Precisión en el set de Entrenamiento: {:.2f}'\n",
        "     .format(gnb.score(X_train, y_train))) #batir  87\n",
        "print('Precisión en el set de Test: {:.2f}'\n",
        "     .format(gnb.score(X_test, y_test)))  #batir  90"
      ],
      "metadata": {
        "id": "Zm6og5YV02pO"
      },
      "execution_count": null,
      "outputs": []
    },
    {
      "cell_type": "code",
      "source": [
        "# Print Test results\n",
        "print(\"Total de Muestras en Test: {}\\nFallos: {}\"\n",
        "      .format(\n",
        "          X_test.shape[0],\n",
        "          (y_test != y_pred).sum()\n",
        "))"
      ],
      "metadata": {
        "id": "VHrLzVMK03Qe"
      },
      "execution_count": null,
      "outputs": []
    },
    {
      "cell_type": "code",
      "source": [
        "print(confusion_matrix(y_test, y_pred))\n",
        "print(classification_report(y_test, y_pred))"
      ],
      "metadata": {
        "id": "sowzPe5u06fW"
      },
      "execution_count": null,
      "outputs": []
    },
    {
      "cell_type": "markdown",
      "source": [
        "Comprobamos con predicciones individuales"
      ],
      "metadata": {
        "id": "MZ6Zgzsc1wqq"
      }
    },
    {
      "cell_type": "code",
      "source": [
        "X_scaledTest=scaler.transform([[6830,1298,345,309,46761,429812,1,1,5], # 1\n",
        "                               [4054,1095,371,440,22183,223971,1,0,3], # 0\n",
        "                               [6455,1033,98,795,57463,321779,2,1,8], # 1\n",
        "                               [6470,1035,39,782,57439,606291,0,0,1] #0\n",
        "                    ])\n",
        "X_pcaTest=pca.transform(X_scaledTest) \n",
        "#print(X_pcaTest)\n",
        "print(gnb.predict(X_pcaTest))"
      ],
      "metadata": {
        "id": "G2-TWnOE08yT"
      },
      "execution_count": null,
      "outputs": []
    }
  ]
}