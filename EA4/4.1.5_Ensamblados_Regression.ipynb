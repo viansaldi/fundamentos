{
  "nbformat": 4,
  "nbformat_minor": 0,
  "metadata": {
    "colab": {
      "provenance": []
    },
    "kernelspec": {
      "name": "python3",
      "display_name": "Python 3"
    }
  },
  "cells": [
    {
      "cell_type": "markdown",
      "source": [
        "<img src='https://upload.wikimedia.org/wikipedia/commons/thumb/a/aa/Logo_DuocUC.svg/2560px-Logo_DuocUC.svg.png' width=50%, height=20%>"
      ],
      "metadata": {
        "id": "DaMrC3ul9Cyo"
      }
    },
    {
      "cell_type": "markdown",
      "metadata": {
        "id": "4VCWyA6XKftY"
      },
      "source": [
        "## Intoducción\n",
        "\n",
        "En este ejercicio compararemos varios modelos de \"ensamblado\" para un problema de Regresión.\n",
        "\n",
        "**Debes generar en cada celda de código una celda de texto que explique lo que se hace e interpretar los resultados (métricas) cuando corresponda.\n",
        "Finalmente, generar una CONCLUSION con tu análisis. Comparando y justificando en forma adecuada, cual fue el mejor modelo aplicado en este caso.**\n",
        "\n",
        "\n",
        "Como DATASET utilizaremos Pacientes Enfermos con Diabetes"
      ]
    },
    {
      "cell_type": "markdown",
      "metadata": {
        "id": "pK9zvwwecYcO"
      },
      "source": [
        "Se obtuvieron diez variables basales, edad, sexo, índice de masa corporal, presión arterial promedio y seis mediciones del suero sanguíneo para cada uno de n = 442 pacientes con diabetes, así como la respuesta de interés, una medida cuantitativa de la progresión de la enfermedad un año después del inicio.\n",
        "\n",
        "* age: age in years\n",
        "* sex\n",
        "* bmi: body mass index\n",
        "* bp: average blood pressure\n",
        "* s1: T-Cells (a type of white blood cells)\n",
        "* s2: low-density lipoproteins\n",
        "* s3: high-density lipoproteins\n",
        "* s4: thyroid stimulating hormone\n",
        "* s5: lamotrigine\n",
        "* s6: blood sugar level\n",
        "\n",
        "Objetivo: medida cuantitativa de la progresión de la enfermedad. \n"
      ]
    },
    {
      "cell_type": "markdown",
      "metadata": {
        "id": "4fSq0mzkLEB6"
      },
      "source": [
        "## Antes de empezar a modelar"
      ]
    },
    {
      "cell_type": "code",
      "metadata": {
        "id": "GQrnvRr3cTwq"
      },
      "source": [
        "import pandas as pd\n",
        "from sklearn.datasets import load_diabetes\n",
        "datos = load_diabetes()\n",
        "\n",
        "X = pd.DataFrame(datos.data, columns=datos.feature_names)\n",
        "Y = datos.target"
      ],
      "execution_count": null,
      "outputs": []
    },
    {
      "cell_type": "markdown",
      "metadata": {
        "id": "-ifo-b5m_7-5"
      },
      "source": [
        "## Bagging"
      ]
    },
    {
      "cell_type": "code",
      "metadata": {
        "id": "AQFelkZp-3Er"
      },
      "source": [
        "from sklearn.model_selection import train_test_split\n",
        "from sklearn.ensemble import BaggingRegressor\n",
        "from sklearn.tree import DecisionTreeRegressor\n",
        "from sklearn.model_selection import GridSearchCV\n",
        "\n",
        "Xtrain, Xtest, Ytrain, Ytest = train_test_split(X,Y,test_size=0.2)\n",
        "mo = DecisionTreeRegressor() \n",
        "model = BaggingRegressor(mo, n_estimators=10)\n",
        "\n",
        "params = {\"base_estimator__max_depth\": [2,3],   # [3,4,5]\n",
        "          \"max_samples\": [0.1,0.2],\n",
        "          \"base_estimator__min_samples_split\": [2,3,4]}  # [2,3,4]\n",
        "grid = GridSearchCV(estimator=model, param_grid=params,cv=5)\n",
        "_=grid.fit(Xtrain, Ytrain)"
      ],
      "execution_count": null,
      "outputs": []
    },
    {
      "cell_type": "code",
      "metadata": {
        "id": "L3q9UdF5IJ9-",
        "colab": {
          "base_uri": "https://localhost:8080/"
        },
        "outputId": "07e61602-5de3-4d5a-b859-053211cfcc63"
      },
      "source": [
        "print(grid.best_score_)\n",
        "print(grid.best_params_)\n",
        "#pd.DataFrame(grid.cv_results_)"
      ],
      "execution_count": null,
      "outputs": [
        {
          "output_type": "stream",
          "text": [
            "0.4209307576420748\n",
            "{'base_estimator__max_depth': 2, 'base_estimator__min_samples_split': 3, 'max_samples': 0.1}\n"
          ],
          "name": "stdout"
        }
      ]
    },
    {
      "cell_type": "code",
      "metadata": {
        "id": "Dph53skwni73"
      },
      "source": [
        "from sklearn.metrics import mean_squared_error\n",
        "from sklearn.metrics import mean_absolute_error\n",
        "from sklearn.metrics import r2_score\n",
        "\n",
        "Yhat = grid.predict(Xtest)\n",
        "\n",
        "mse = mean_squared_error(Ytest, Yhat)\n",
        "mae = mean_absolute_error(Ytest, Yhat)\n",
        "R2 = r2_score(Ytest, Yhat)\n",
        "\n",
        "print(\"MSE: \",mse)\n",
        "print(\"MAE: \",mae)\n",
        "print(\"R^2: \",R2)"
      ],
      "execution_count": null,
      "outputs": []
    },
    {
      "cell_type": "markdown",
      "metadata": {
        "id": "_Swb3GOrIWIn"
      },
      "source": [
        "## RandomForest"
      ]
    },
    {
      "cell_type": "code",
      "metadata": {
        "id": "XoqTRGFBIWI7"
      },
      "source": [
        "from sklearn.model_selection import train_test_split\n",
        "from sklearn.ensemble import RandomForestRegressor\n",
        "from sklearn.model_selection import GridSearchCV\n",
        "\n",
        "Xtrain, Xtest, Ytrain, Ytest = train_test_split(X,Y,test_size=0.2)\n",
        "\n",
        "model = RandomForestRegressor()\n",
        "\n",
        "params = {\"n_estimators\": [100],\n",
        "          #\"max_depth\": [2,3], \n",
        "          \"min_samples_split\": [2,3,4], \n",
        "          \"max_leaf_nodes\": [5,8,10,15]}\n",
        "\n",
        "grid = GridSearchCV(estimator=model, param_grid=params,cv=5)\n",
        "_=grid.fit(Xtrain, Ytrain)"
      ],
      "execution_count": null,
      "outputs": []
    },
    {
      "cell_type": "code",
      "metadata": {
        "id": "mNpgZBFaIWJg"
      },
      "source": [
        "print(grid.best_score_)\n",
        "print(grid.best_params_)\n",
        "#pd.DataFrame(grid.cv_results_)"
      ],
      "execution_count": null,
      "outputs": []
    },
    {
      "cell_type": "code",
      "metadata": {
        "id": "AfUIZO2LIWKJ"
      },
      "source": [
        "from sklearn.metrics import mean_squared_error\n",
        "from sklearn.metrics import mean_absolute_error\n",
        "from sklearn.metrics import r2_score\n",
        "\n",
        "Yhat = grid.predict(Xtest)\n",
        "\n",
        "mse = mean_squared_error(Ytest, Yhat)\n",
        "mae = mean_absolute_error(Ytest, Yhat)\n",
        "R2 = r2_score(Ytest, Yhat)\n",
        "\n",
        "print(\"MSE: \",mse)\n",
        "print(\"MAE: \",mae)\n",
        "print(\"R^2: \",R2)"
      ],
      "execution_count": null,
      "outputs": []
    },
    {
      "cell_type": "markdown",
      "metadata": {
        "id": "ew7vRYF8IZea"
      },
      "source": [
        "## AdaBoost"
      ]
    },
    {
      "cell_type": "code",
      "metadata": {
        "id": "udKlu0bHIZeq"
      },
      "source": [
        "from sklearn.model_selection import train_test_split\n",
        "from sklearn.ensemble import AdaBoostRegressor\n",
        "from sklearn.tree import DecisionTreeRegressor\n",
        "from sklearn.model_selection import GridSearchCV\n",
        "\n",
        "Xtrain, Xtest, Ytrain, Ytest = train_test_split(X,Y,test_size=0.2)\n",
        "\n",
        "mo = DecisionTreeRegressor() \n",
        "model = AdaBoostRegressor(mo)\n",
        "\n",
        "params = {\"n_estimators\": [10],\n",
        "          \"base_estimator__max_depth\": [2,3],\n",
        "          \"base_estimator__max_leaf_nodes\": [5,8],\n",
        "          \"base_estimator__min_samples_split\": [2,3,4]} \n",
        "\n",
        "grid = GridSearchCV(estimator=model, param_grid=params,cv=5)\n",
        "_=grid.fit(Xtrain, Ytrain)"
      ],
      "execution_count": null,
      "outputs": []
    },
    {
      "cell_type": "code",
      "metadata": {
        "id": "9TL81Vc1IZfa"
      },
      "source": [
        "print(grid.best_score_)\n",
        "print(grid.best_params_)\n",
        "#pd.DataFrame(grid.cv_results_)"
      ],
      "execution_count": null,
      "outputs": []
    },
    {
      "cell_type": "code",
      "metadata": {
        "id": "P4gAlRX-IZgB"
      },
      "source": [
        "from sklearn.metrics import mean_squared_error\n",
        "from sklearn.metrics import mean_absolute_error\n",
        "from sklearn.metrics import r2_score\n",
        "\n",
        "Yhat = grid.predict(Xtest)\n",
        "\n",
        "mse = mean_squared_error(Ytest, Yhat)\n",
        "mae = mean_absolute_error(Ytest, Yhat)\n",
        "R2 = r2_score(Ytest, Yhat)\n",
        "\n",
        "print(\"MSE: \",mse)\n",
        "print(\"MAE: \",mae)\n",
        "print(\"R^2: \",R2)"
      ],
      "execution_count": null,
      "outputs": []
    },
    {
      "cell_type": "markdown",
      "metadata": {
        "id": "uwAiHAOgKL0B"
      },
      "source": [
        "## Gradient Boosting\n",
        "\n",
        "**Investiga y explica como funciona este modelo.**\n"
      ]
    },
    {
      "cell_type": "code",
      "metadata": {
        "id": "YFfcegHCKL0T"
      },
      "source": [
        "from sklearn.model_selection import train_test_split\n",
        "from sklearn.ensemble import GradientBoostingRegressor\n",
        "from sklearn.model_selection import GridSearchCV\n",
        "\n",
        "Xtrain, Xtest, Ytrain, Ytest = train_test_split(X,Y,test_size=0.2)\n",
        "\n",
        "model = GradientBoostingRegressor()\n",
        "\n",
        "params = {\"n_estimators\": [10],\n",
        "          \"learning_rate\": [0.01],\n",
        "          #\"max_depth\": [2,3,5,10], \n",
        "          \"min_samples_split\": [2,3,4], \n",
        "          \"max_leaf_nodes\": [5,10,15,20]\n",
        "          }\n",
        "\n",
        "grid = GridSearchCV(estimator=model, param_grid=params,cv=5)\n",
        "_=grid.fit(Xtrain, Ytrain)"
      ],
      "execution_count": null,
      "outputs": []
    },
    {
      "cell_type": "code",
      "metadata": {
        "id": "RG8FnQktKL08"
      },
      "source": [
        "print(grid.best_score_)\n",
        "print(grid.best_params_)\n",
        "#pd.DataFrame(grid.cv_results_)"
      ],
      "execution_count": null,
      "outputs": []
    },
    {
      "cell_type": "code",
      "metadata": {
        "id": "5JRyQ8DeKL1a"
      },
      "source": [
        "from sklearn.metrics import mean_squared_error\n",
        "from sklearn.metrics import mean_absolute_error\n",
        "from sklearn.metrics import r2_score\n",
        "\n",
        "Yhat = grid.predict(Xtest)\n",
        "\n",
        "mse = mean_squared_error(Ytest, Yhat)\n",
        "mae = mean_absolute_error(Ytest, Yhat)\n",
        "R2 = r2_score(Ytest, Yhat)\n",
        "\n",
        "print(\"MSE: \",mse)\n",
        "print(\"MAE: \",mae)\n",
        "print(\"R^2: \",R2)"
      ],
      "execution_count": null,
      "outputs": []
    }
  ]
}