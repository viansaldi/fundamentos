{
  "nbformat": 4,
  "nbformat_minor": 0,
  "metadata": {
    "colab": {
      "provenance": []
    },
    "kernelspec": {
      "name": "python3",
      "display_name": "Python 3"
    }
  },
  "cells": [
    {
      "cell_type": "markdown",
      "source": [
        "<img src='https://upload.wikimedia.org/wikipedia/commons/thumb/a/aa/Logo_DuocUC.svg/2560px-Logo_DuocUC.svg.png' width=50%, height=20%>"
      ],
      "metadata": {
        "id": "okLB_iUw808O"
      }
    },
    {
      "cell_type": "markdown",
      "metadata": {
        "id": "4VCWyA6XKftY"
      },
      "source": [
        "## Intoducción\n",
        "\n",
        "En este ejercicio compararemos varios modelos de \"ensamblado\" para un problema de clasificación.\n",
        "\n",
        "**Debes generar en cada celda de código una celda de texto que explique lo que se hace e interpretar los resultados (métricas) cuando corresponda.\n",
        "Finalmente, generar una CONCLUSION con tu análisis. Comparando y justificando en forma adecuada, cual fue el mejor modelo aplicado en este caso.**\n",
        "\n",
        "Para ello utilizaremos el dataset de  Estabilidad de una Matriz Eléctrica."
      ]
    },
    {
      "cell_type": "markdown",
      "metadata": {
        "id": "pK9zvwwecYcO"
      },
      "source": [
        "\n",
        "https://archive.ics.uci.edu/ml/datasets/Electrical+Grid+Stability+Simulated+Data+\n",
        "\n",
        "La estabilidad en una matriz energética del país es de suma importancia para el progreso economico y el bienestar de sus habitantes (solo tener presente la sensación de inseguridad, malestar, etc. que se puede generar con un corte no previsto puede afectar el mercado económico y el bienestar de una población)\n",
        "\n",
        "El desafio es tratar de determinar si la red es estable (columna ```stabf```) basado en un conjunto de caracteristicas disponibles:\n",
        "\n",
        "\n",
        "1. tau[x]: reaction time of participant (real from the range [0.5,10]s). Tau1 - the value for electricity producer. \n",
        "2. p[x]: nominal power consumed(negative)/produced(positive)(real). For consumers from the range [-0.5,-2]s^-2; p1 = abs(p2 + p3 + p4) \n",
        "3. g[x]: coefficient (gamma) proportional to price elasticity (real from the range [0.05,1]s^-1). g1 - the value for electricity producer. \n",
        "4. stab: the maximal real part of the characteristic equation root (if positive - the system is linearly unstable)(real) \n",
        "5. stabf: the stability label of the system (categorical: stable/unstable) \n",
        "\n",
        "\n",
        "Estos datos fueron usados en el paper: \"Towards Concise Models of Grid Stability\"\n",
        "\n"
      ]
    },
    {
      "cell_type": "markdown",
      "metadata": {
        "id": "4fSq0mzkLEB6"
      },
      "source": [
        "## Antes de empezar modelar"
      ]
    },
    {
      "cell_type": "code",
      "metadata": {
        "id": "GQrnvRr3cTwq"
      },
      "source": [
        "import pandas as pd\n",
        "df = pd.read_csv('https://archive.ics.uci.edu/ml/machine-learning-databases/00471/Data_for_UCI_named.csv')\n",
        "\n",
        "X = df.drop(['stab','stabf'],axis=1)\n",
        "Y = df['stabf']"
      ],
      "execution_count": null,
      "outputs": []
    },
    {
      "cell_type": "markdown",
      "metadata": {
        "id": "0bJ1z4Bxo7aK"
      },
      "source": [
        "## Bagging"
      ]
    },
    {
      "cell_type": "code",
      "metadata": {
        "id": "rLoYkc1Ro7bB"
      },
      "source": [
        "from sklearn.model_selection import train_test_split\n",
        "from sklearn.ensemble import BaggingClassifier\n",
        "from sklearn.tree import DecisionTreeClassifier\n",
        "from sklearn.model_selection import GridSearchCV\n",
        "\n",
        "Xtrain, Xtest, Ytrain, Ytest = train_test_split(X,Y,test_size=0.2)\n",
        "mo = DecisionTreeClassifier() \n",
        "model = BaggingClassifier(mo, n_estimators=10)\n",
        "\n",
        "params = {\"base_estimator__max_depth\": [2,3],\n",
        "          \"max_samples\": [0.1,0.2],\n",
        "          \"base_estimator__min_samples_split\": [2,3,4]} \n",
        "grid = GridSearchCV(estimator=model, param_grid=params,cv=5)\n",
        "_=grid.fit(Xtrain, Ytrain)"
      ],
      "execution_count": null,
      "outputs": []
    },
    {
      "cell_type": "code",
      "metadata": {
        "id": "Q8JPPPWc9xLt",
        "colab": {
          "base_uri": "https://localhost:8080/"
        },
        "outputId": "c89f3076-5fc9-4193-a9e6-bccb731ec3ed"
      },
      "source": [
        "print(grid.best_score_)\n",
        "print(grid.best_params_)\n",
        "#pd.DataFrame(grid.cv_results_)"
      ],
      "execution_count": null,
      "outputs": [
        {
          "output_type": "stream",
          "text": [
            "0.81225\n",
            "{'base_estimator__max_depth': 3, 'base_estimator__min_samples_split': 4, 'max_samples': 0.2}\n"
          ],
          "name": "stdout"
        }
      ]
    },
    {
      "cell_type": "code",
      "metadata": {
        "id": "q_GHu8-h6B7W"
      },
      "source": [
        "# Visualizamos 1 sólo árbol dentro del \"bosque\" generado por Bagging\n",
        "import matplotlib.pyplot as plt\n",
        "from sklearn import tree\n",
        "\n",
        "mo_ = grid.best_estimator_.estimators_[0]\n",
        "plt.subplots(1,1,figsize=(10,10))\n",
        "_= tree.plot_tree(mo_) "
      ],
      "execution_count": null,
      "outputs": []
    },
    {
      "cell_type": "code",
      "metadata": {
        "id": "-kN-4qcB50PP"
      },
      "source": [
        "from sklearn.metrics import classification_report\n",
        "from sklearn.metrics import confusion_matrix\n",
        "\n",
        "Yhat = grid.predict(Xtest)\n",
        "print(confusion_matrix(Ytest, Yhat))\n",
        "print(classification_report(Ytest, Yhat))"
      ],
      "execution_count": null,
      "outputs": []
    },
    {
      "cell_type": "markdown",
      "metadata": {
        "id": "SFullOoNs5si"
      },
      "source": [
        "**Usar otra función de scoring/loss para elegir el \"mejor\" modelo**\n",
        "\n",
        "\n",
        "\n",
        "*   Funciones pre-definidas: \n",
        "https://scikit-learn.org/stable/modules/model_evaluation.html#scoring-parameter\n",
        "\n",
        "*   Funciones personalizadas: \n",
        "https://scikit-learn.org/stable/modules/model_evaluation.html#scoring"
      ]
    },
    {
      "cell_type": "code",
      "metadata": {
        "id": "gJuaYP-juBIr"
      },
      "source": [
        "grid = GridSearchCV(estimator=model, param_grid=params,cv=10, scoring='accuracy')\n",
        "grid.fit(Xtrain, Ytrain)"
      ],
      "execution_count": null,
      "outputs": []
    },
    {
      "cell_type": "code",
      "metadata": {
        "id": "Dyg4RJa6uXGE"
      },
      "source": [
        "print(grid.best_score_)\n",
        "print(grid.best_params_)"
      ],
      "execution_count": null,
      "outputs": []
    },
    {
      "cell_type": "code",
      "metadata": {
        "id": "C7JUEd4ixqQO"
      },
      "source": [
        "pd.DataFrame(grid.cv_results_).iloc[grid.best_index_]"
      ],
      "execution_count": null,
      "outputs": []
    },
    {
      "cell_type": "code",
      "metadata": {
        "id": "NGaKNOROOG06"
      },
      "source": [
        "# Visualizamos el árbol ganador!\n",
        "import matplotlib.pyplot as plt\n",
        "from sklearn import tree\n",
        "\n",
        "mo_ = grid.best_estimator_.estimators_[0]\n",
        "plt.subplots(1,1,figsize=(10,10))\n",
        "_= tree.plot_tree(mo_) "
      ],
      "execution_count": null,
      "outputs": []
    },
    {
      "cell_type": "markdown",
      "metadata": {
        "id": "lgZ68eVdBZ6k"
      },
      "source": [
        "##RandomForest"
      ]
    },
    {
      "cell_type": "code",
      "metadata": {
        "id": "XmLyJqpqBeBI"
      },
      "source": [
        "from sklearn.model_selection import train_test_split\n",
        "from sklearn.ensemble import RandomForestClassifier\n",
        "from sklearn.model_selection import GridSearchCV\n",
        "\n",
        "Xtrain, Xtest, Ytrain, Ytest = train_test_split(X,Y,test_size=0.2)\n",
        "\n",
        "model = RandomForestClassifier()\n",
        "\n",
        "params = {\"n_estimators\": [10],\n",
        "          \"max_depth\": [2,3], \n",
        "          \"min_samples_split\": [2,3,4],\n",
        "          \"max_leaf_nodes\": [5,8]}\n",
        "\n",
        "grid = GridSearchCV(estimator=model, param_grid=params,cv=5)\n",
        "_=grid.fit(Xtrain, Ytrain)"
      ],
      "execution_count": null,
      "outputs": []
    },
    {
      "cell_type": "code",
      "metadata": {
        "id": "fetsxZ3eCDrk",
        "colab": {
          "base_uri": "https://localhost:8080/"
        },
        "outputId": "27888f57-7273-42f9-9431-f1149269ed1d"
      },
      "source": [
        "print(grid.best_score_)\n",
        "print(grid.best_params_)\n",
        "#pd.DataFrame(grid.cv_results_)"
      ],
      "execution_count": null,
      "outputs": [
        {
          "output_type": "stream",
          "text": [
            "0.77025\n",
            "{'max_depth': 3, 'max_leaf_nodes': 8, 'min_samples_split': 4, 'n_estimators': 10}\n"
          ],
          "name": "stdout"
        }
      ]
    },
    {
      "cell_type": "code",
      "metadata": {
        "id": "Y7eqRjViCIhP"
      },
      "source": [
        "from sklearn.metrics import classification_report\n",
        "from sklearn.metrics import confusion_matrix\n",
        "\n",
        "Yhat = grid.predict(Xtest)\n",
        "print(confusion_matrix(Ytest, Yhat))\n",
        "print(classification_report(Ytest, Yhat))"
      ],
      "execution_count": null,
      "outputs": []
    },
    {
      "cell_type": "markdown",
      "metadata": {
        "id": "ASdhmoqUDgvP"
      },
      "source": [
        "##AdaBoost"
      ]
    },
    {
      "cell_type": "code",
      "metadata": {
        "id": "jl_zBP08DgvY"
      },
      "source": [
        "from sklearn.model_selection import train_test_split\n",
        "from sklearn.ensemble import AdaBoostClassifier\n",
        "from sklearn.tree import DecisionTreeClassifier\n",
        "from sklearn.model_selection import GridSearchCV\n",
        "\n",
        "Xtrain, Xtest, Ytrain, Ytest = train_test_split(X,Y,test_size=0.2)\n",
        "\n",
        "mo = DecisionTreeClassifier() \n",
        "model = AdaBoostClassifier(mo)\n",
        "\n",
        "params = {\"n_estimators\": [10],\n",
        "          \"base_estimator__max_depth\": [2,3], \n",
        "          \"base_estimator__min_samples_split\": [2,3,4], \n",
        "          \"base_estimator__max_leaf_nodes\": [5,8]}\n",
        "\n",
        "grid = GridSearchCV(estimator=model, param_grid=params,cv=5)\n",
        "_=grid.fit(Xtrain, Ytrain)"
      ],
      "execution_count": null,
      "outputs": []
    },
    {
      "cell_type": "code",
      "metadata": {
        "id": "KB2nDoW5Dgvr",
        "colab": {
          "base_uri": "https://localhost:8080/"
        },
        "outputId": "05609b4d-995d-4d04-e692-f16894fd063d"
      },
      "source": [
        "print(grid.best_score_)\n",
        "print(grid.best_params_)\n",
        "#pd.DataFrame(grid.cv_results_)"
      ],
      "execution_count": null,
      "outputs": [
        {
          "output_type": "stream",
          "text": [
            "0.884\n",
            "{'base_estimator__max_depth': 3, 'base_estimator__max_leaf_nodes': 8, 'base_estimator__min_samples_split': 2, 'n_estimators': 10}\n"
          ],
          "name": "stdout"
        }
      ]
    },
    {
      "cell_type": "code",
      "metadata": {
        "id": "hxtRxldMDgwD"
      },
      "source": [
        "from sklearn.metrics import classification_report\n",
        "from sklearn.metrics import confusion_matrix\n",
        "\n",
        "Yhat = grid.predict(Xtest)\n",
        "print(confusion_matrix(Ytest, Yhat))\n",
        "print(classification_report(Ytest, Yhat))"
      ],
      "execution_count": null,
      "outputs": []
    },
    {
      "cell_type": "markdown",
      "metadata": {
        "id": "BjZY5_p5DeZl"
      },
      "source": [
        "##Gradient Boosting\n",
        "\n",
        "**INVESTIGA Y EXPLICA como funciona este modelo**"
      ]
    },
    {
      "cell_type": "code",
      "metadata": {
        "id": "fkM_HPJIDeZ1"
      },
      "source": [
        "from sklearn.model_selection import train_test_split\n",
        "from sklearn.ensemble import GradientBoostingClassifier\n",
        "from sklearn.model_selection import GridSearchCV\n",
        "\n",
        "Xtrain, Xtest, Ytrain, Ytest = train_test_split(X,Y,test_size=0.2)\n",
        "\n",
        "model = GradientBoostingClassifier()\n",
        "\n",
        "params = {\"n_estimators\": [10],\n",
        "          \"max_depth\": [2,3], \n",
        "          \"min_samples_split\": [2,3,4], \n",
        "          \"max_leaf_nodes\": [5,8]}\n",
        "\n",
        "grid = GridSearchCV(estimator=model, param_grid=params,cv=5)\n",
        "_=grid.fit(Xtrain, Ytrain)"
      ],
      "execution_count": null,
      "outputs": []
    },
    {
      "cell_type": "code",
      "metadata": {
        "id": "zHWU1D2hDeaj",
        "colab": {
          "base_uri": "https://localhost:8080/"
        },
        "outputId": "ed9148f8-ba43-412b-abd2-4e88d59be470"
      },
      "source": [
        "print(grid.best_score_)\n",
        "print(grid.best_params_)\n",
        "#pd.DataFrame(grid.cv_results_)"
      ],
      "execution_count": null,
      "outputs": [
        {
          "output_type": "stream",
          "text": [
            "0.779375\n",
            "{'max_depth': 3, 'max_leaf_nodes': 8, 'min_samples_split': 2, 'n_estimators': 10}\n"
          ],
          "name": "stdout"
        }
      ]
    },
    {
      "cell_type": "code",
      "metadata": {
        "id": "My6m9NsuDebE"
      },
      "source": [
        "from sklearn.metrics import classification_report\n",
        "from sklearn.metrics import confusion_matrix\n",
        "\n",
        "Yhat = grid.predict(Xtest)\n",
        "print(confusion_matrix(Ytest, Yhat))\n",
        "print(classification_report(Ytest, Yhat))"
      ],
      "execution_count": null,
      "outputs": []
    }
  ]
}