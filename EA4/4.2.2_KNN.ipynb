{
  "nbformat": 4,
  "nbformat_minor": 0,
  "metadata": {
    "colab": {
      "provenance": []
    },
    "kernelspec": {
      "name": "python3",
      "display_name": "Python 3"
    },
    "language_info": {
      "name": "python"
    }
  },
  "cells": [
    {
      "cell_type": "markdown",
      "source": [],
      "metadata": {
        "id": "twOj5hjeB992"
      }
    },
    {
      "cell_type": "markdown",
      "source": [
        "<img src='https://upload.wikimedia.org/wikipedia/commons/thumb/a/aa/Logo_DuocUC.svg/2560px-Logo_DuocUC.svg.png' width=50%, height=20%>"
      ],
      "metadata": {
        "id": "Ec4rRV7zFeh4"
      }
    },
    {
      "cell_type": "markdown",
      "source": [
        "# Ejercicio K-Nearest Neighbor : \n",
        "Se tomará un archivo con opiniones de usuarios sobre una App. Para efectos del ejercicio, sólo se tomarán dos características: WORDCOUNT con la cantidad de palabras utilizadas y SENTIMENTVALUE con un valor entre -4 y 4 que indica si el comentarios fue valorado como positivo o negativo. Las etiquetas serán las estrellas que dieron los usuarios a la App, que son valores discretos entre 1 al 5."
      ],
      "metadata": {
        "id": "L_sVs4P7CCuC"
      }
    },
    {
      "cell_type": "markdown",
      "source": [
        "Nota : este ejercicio está basos en el trabajo de J.I. Bagnato, en su libro APRENDE MACHINE LEARNING"
      ],
      "metadata": {
        "id": "96zP751rC07x"
      }
    },
    {
      "cell_type": "code",
      "execution_count": 1,
      "metadata": {
        "id": "MknzX5lyEb8C"
      },
      "outputs": [],
      "source": [
        "import pandas as pd\n",
        "import numpy as np\n",
        "import matplotlib.pyplot as plt\n",
        "from matplotlib.colors import ListedColormap\n",
        "import matplotlib.patches as mpatches\n",
        "import seaborn as sb\n",
        "\n",
        "%matplotlib inline\n",
        "plt.rcParams['figure.figsize'] = (16, 9)\n",
        "plt.style.use('ggplot')\n",
        "\n",
        "from sklearn.model_selection import train_test_split\n",
        "from sklearn.preprocessing import MinMaxScaler\n",
        "from sklearn.neighbors import KNeighborsClassifier\n",
        "from sklearn.metrics import classification_report\n",
        "from sklearn.metrics import confusion_matrix"
      ]
    },
    {
      "cell_type": "markdown",
      "source": [
        "# Leer el archivo de entrada"
      ],
      "metadata": {
        "id": "T84yv9CJCIkF"
      }
    },
    {
      "cell_type": "code",
      "source": [
        "#dataframe = pd.read_csv(r\"reviews_sentiment.csv\",sep=';')\n",
        "from google.colab import files\n",
        "uploaded = files.upload()\n",
        "for fn in uploaded.keys():\n",
        "    name=fn\n",
        "dataframe = pd.read_csv(name, sep=';', encoding_errors= 'replace')\n",
        "dataframe.head(10)"
      ],
      "metadata": {
        "id": "aq77NkhXEfwS"
      },
      "execution_count": null,
      "outputs": []
    },
    {
      "cell_type": "code",
      "source": [
        "dataframe.describe()"
      ],
      "metadata": {
        "id": "1QdzZg7eEiAr"
      },
      "execution_count": null,
      "outputs": []
    },
    {
      "cell_type": "markdown",
      "source": [
        "# Algunas visualizaciones"
      ],
      "metadata": {
        "id": "I3phiD5XCO2C"
      }
    },
    {
      "cell_type": "code",
      "source": [
        "dataframe.hist()\n",
        "plt.show()"
      ],
      "metadata": {
        "id": "xqdf9bnRElEu"
      },
      "execution_count": null,
      "outputs": []
    },
    {
      "cell_type": "code",
      "source": [
        "print(dataframe.groupby('Star Rating').size())"
      ],
      "metadata": {
        "id": "Mm9Kr5MQEo2Y"
      },
      "execution_count": null,
      "outputs": []
    },
    {
      "cell_type": "code",
      "source": [
        "sb.factorplot('Star Rating',data=dataframe,kind=\"count\", aspect=3)"
      ],
      "metadata": {
        "id": "746lq7SgEpmD"
      },
      "execution_count": null,
      "outputs": []
    },
    {
      "cell_type": "code",
      "source": [
        "sb.factorplot('wordcount',data=dataframe,kind=\"count\", aspect=3)"
      ],
      "metadata": {
        "id": "8J93QuTkEs7X"
      },
      "execution_count": null,
      "outputs": []
    },
    {
      "cell_type": "markdown",
      "source": [
        "# Preparamos el Dataset"
      ],
      "metadata": {
        "id": "tX4LeLyWCTvC"
      }
    },
    {
      "cell_type": "code",
      "source": [
        "X = dataframe[['wordcount','sentimentValue']].values\n",
        "y = dataframe['Star Rating'].values\n",
        "\n",
        "X_train, X_test, y_train, y_test = train_test_split(X, y, random_state=0)\n",
        "scaler = MinMaxScaler()\n",
        "X_train = scaler.fit_transform(X_train)\n",
        "X_test = scaler.transform(X_test)"
      ],
      "metadata": {
        "id": "Q7QXCDpqEvRP"
      },
      "execution_count": 8,
      "outputs": []
    },
    {
      "cell_type": "markdown",
      "source": [
        "# Creamos el Modelo"
      ],
      "metadata": {
        "id": "3DY1F5reCXln"
      }
    },
    {
      "cell_type": "code",
      "source": [
        "n_neighbors = 7\n",
        "\n",
        "knn = KNeighborsClassifier(n_neighbors)\n",
        "knn.fit(X_train, y_train)\n",
        "print('Accuracy of K-NN classifier on training set: {:.2f}'\n",
        "     .format(knn.score(X_train, y_train)))\n",
        "print('Accuracy of K-NN classifier on test set: {:.2f}'\n",
        "     .format(knn.score(X_test, y_test)))"
      ],
      "metadata": {
        "id": "4xXWkQxvExMD"
      },
      "execution_count": null,
      "outputs": []
    },
    {
      "cell_type": "markdown",
      "source": [
        "# Resultados obtenidos"
      ],
      "metadata": {
        "id": "olsDt5OKCbR2"
      }
    },
    {
      "cell_type": "code",
      "source": [
        "pred = knn.predict(X_test)\n",
        "print(confusion_matrix(y_test, pred))\n",
        "print(classification_report(y_test, pred))"
      ],
      "metadata": {
        "id": "JMDhR3wbEzR7"
      },
      "execution_count": null,
      "outputs": []
    },
    {
      "cell_type": "markdown",
      "source": [
        "# Gráfica de la Clasificación Obtenida"
      ],
      "metadata": {
        "id": "CPeg06aOCfjP"
      }
    },
    {
      "cell_type": "code",
      "source": [
        "h = .02  # step size in the mesh\n",
        "\n",
        "# Create color maps\n",
        "cmap_light = ListedColormap(['#FFAAAA', '#ffcc99', '#ffffb3','#b3ffff','#c2f0c2'])\n",
        "cmap_bold = ListedColormap(['#FF0000', '#ff9933','#FFFF00','#00ffff','#00FF00'])\n",
        "\n",
        "# we create an instance of Neighbours Classifier and fit the data.\n",
        "clf = KNeighborsClassifier(n_neighbors, weights='distance')\n",
        "clf.fit(X, y)\n",
        "\n",
        "# Plot the decision boundary. For that, we will assign a color to each\n",
        "# point in the mesh [x_min, x_max]x[y_min, y_max].\n",
        "x_min, x_max = X[:, 0].min() - 1, X[:, 0].max() + 1\n",
        "y_min, y_max = X[:, 1].min() - 1, X[:, 1].max() + 1\n",
        "xx, yy = np.meshgrid(np.arange(x_min, x_max, h),\n",
        "                         np.arange(y_min, y_max, h))\n",
        "Z = clf.predict(np.c_[xx.ravel(), yy.ravel()])\n",
        "\n",
        "# Put the result into a color plot\n",
        "Z = Z.reshape(xx.shape)\n",
        "plt.figure()\n",
        "plt.pcolormesh(xx, yy, Z, cmap=cmap_light)\n",
        "\n",
        "# Plot also the training points\n",
        "plt.scatter(X[:, 0], X[:, 1], c=y, cmap=cmap_bold,\n",
        "                edgecolor='k', s=20)\n",
        "plt.xlim(xx.min(), xx.max())\n",
        "plt.ylim(yy.min(), yy.max())\n",
        "    \n",
        "patch0 = mpatches.Patch(color='#FF0000', label='1')\n",
        "patch1 = mpatches.Patch(color='#ff9933', label='2')\n",
        "patch2 = mpatches.Patch(color='#FFFF00', label='3')\n",
        "patch3 = mpatches.Patch(color='#00ffff', label='4')\n",
        "patch4 = mpatches.Patch(color='#00FF00', label='5')\n",
        "plt.legend(handles=[patch0, patch1, patch2, patch3,patch4])\n",
        "\n",
        "    \n",
        "plt.title(\"5-Class classification (k = %i, weights = '%s')\"\n",
        "              % (n_neighbors, 'distance'))\n",
        "\n",
        "plt.show()"
      ],
      "metadata": {
        "id": "pAaI8PGkE2al"
      },
      "execution_count": null,
      "outputs": []
    },
    {
      "cell_type": "markdown",
      "source": [
        "# Como obtener el valor de K"
      ],
      "metadata": {
        "id": "QtQlwdztCqp-"
      }
    },
    {
      "cell_type": "code",
      "source": [
        "k_range = range(1, 20)\n",
        "scores = []\n",
        "for k in k_range:\n",
        "    knn = KNeighborsClassifier(n_neighbors = k)\n",
        "    knn.fit(X_train, y_train)\n",
        "    scores.append(knn.score(X_test, y_test))\n",
        "plt.figure()\n",
        "plt.xlabel('k')\n",
        "plt.ylabel('accuracy')\n",
        "plt.scatter(k_range, scores)\n",
        "plt.xticks([0,5,10,15,20])"
      ],
      "metadata": {
        "id": "kRULCMV6E49f"
      },
      "execution_count": null,
      "outputs": []
    },
    {
      "cell_type": "markdown",
      "source": [
        "# Predicciones"
      ],
      "metadata": {
        "id": "iwocjfvQCwi3"
      }
    },
    {
      "cell_type": "code",
      "source": [
        "print(clf.predict([[5, 1.0]]))"
      ],
      "metadata": {
        "id": "d-moNDjVE7GP"
      },
      "execution_count": null,
      "outputs": []
    },
    {
      "cell_type": "code",
      "source": [
        "print(clf.predict_proba([[20, 0.0]]))"
      ],
      "metadata": {
        "id": "B79MFu9CE75z"
      },
      "execution_count": null,
      "outputs": []
    }
  ]
}